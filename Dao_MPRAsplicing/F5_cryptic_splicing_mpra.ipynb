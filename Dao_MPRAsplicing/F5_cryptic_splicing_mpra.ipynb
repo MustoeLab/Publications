{
 "cells": [
  {
   "cell_type": "code",
   "execution_count": 1,
   "id": "cbfc2c7a",
   "metadata": {},
   "outputs": [],
   "source": [
    "import pandas as pd\n",
    "\n",
    "import numpy as np\n",
    "import sys, os\n",
    "import scipy.stats\n",
    "import collections\n",
    "import math\n",
    "import statistics\n",
    "\n",
    "import matplotlib.pyplot as plt\n",
    "import seaborn as sns\n",
    "import matplotlib.patches as mpatches\n",
    "import matplotlib\n",
    "\n",
    "from sklearn.datasets import make_classification\n",
    "from sklearn.linear_model import LogisticRegression\n",
    "from sklearn.model_selection import train_test_split\n",
    "from sklearn.metrics import roc_curve\n",
    "from sklearn.metrics import roc_auc_score\n",
    "from matplotlib import pyplot\n",
    "\n",
    "import re\n",
    "\n",
    "matplotlib.rcParams['xtick.major.size'] = 8\n",
    "matplotlib.rcParams['xtick.major.width'] = 2.5\n",
    "matplotlib.rcParams['xtick.direction'] = 'out'\n",
    "matplotlib.rcParams['xtick.minor.size'] = 4\n",
    "matplotlib.rcParams['xtick.minor.width'] = 1\n",
    "\n",
    "matplotlib.rcParams['ytick.major.size'] = 8\n",
    "matplotlib.rcParams['ytick.major.width'] = 2.5\n",
    "matplotlib.rcParams['ytick.direction'] = 'out'\n",
    "matplotlib.rcParams['ytick.minor.size'] = 4\n",
    "matplotlib.rcParams['ytick.minor.width'] = 1\n",
    "\n",
    "matplotlib.rcParams['pdf.fonttype'] = 42\n",
    "matplotlib.rcParams['font.sans-serif'] = 'Arial'\n",
    "\n",
    "# function to change width\n",
    "def change_width(ax, new_value):\n",
    "    for patch in ax.patches :\n",
    "        current_width = patch.get_width()\n",
    "        diff = current_width - new_value\n",
    "        # change the bar width\n",
    "        patch.set_width(new_value)\n",
    "        # recenter the bar\n",
    "        patch.set_x(patch.get_x() + diff * .5)"
   ]
  },
  {
   "cell_type": "code",
   "execution_count": 2,
   "id": "099db269",
   "metadata": {},
   "outputs": [],
   "source": [
    "from matplotlib.patches import PathPatch\n",
    "\n",
    "def adjust_box_widths(g, fac):\n",
    "    \"\"\"\n",
    "    Adjust the widths of a seaborn-generated boxplot.\n",
    "    \"\"\"\n",
    "\n",
    "    # iterating through Axes instances\n",
    "    for ax in g.axes:\n",
    "\n",
    "        # iterating through axes artists:\n",
    "        for c in ax.get_children():\n",
    "\n",
    "            # searching for PathPatches\n",
    "            if isinstance(c, PathPatch):\n",
    "                # getting current width of box:\n",
    "                p = c.get_path()\n",
    "                verts = p.vertices\n",
    "                verts_sub = verts[:-1]\n",
    "                xmin = np.min(verts_sub[:, 0])\n",
    "                xmax = np.max(verts_sub[:, 0])\n",
    "                xmid = 0.5*(xmin+xmax)\n",
    "                xhalf = 0.5*(xmax - xmin)\n",
    "\n",
    "                # setting new width of box\n",
    "                xmin_new = xmid-fac*xhalf\n",
    "                xmax_new = xmid+fac*xhalf\n",
    "                verts_sub[verts_sub[:, 0] == xmin, 0] = xmin_new\n",
    "                verts_sub[verts_sub[:, 0] == xmax, 0] = xmax_new\n",
    "\n",
    "                # setting new width of median line\n",
    "                for l in ax.lines:\n",
    "                    if np.array_equal(l.get_xdata(), [xmin, xmax]):\n",
    "                        l.set_xdata([xmin_new, xmax_new])"
   ]
  },
  {
   "cell_type": "code",
   "execution_count": 3,
   "id": "17f72d9f",
   "metadata": {},
   "outputs": [],
   "source": [
    "# import splicing measurements and compute spliced fraction (= 1 - full length fraction)\n",
    "HELA = pd.read_csv('ptreseq_splicing_quantification/HELA_2rep_fraction.txt', sep = '\\t')\n",
    "HELA['spliced_fraction'] = 1 - HELA['fraction']\n",
    "HELA = HELA[HELA['best_category']=='full_length']"
   ]
  },
  {
   "cell_type": "code",
   "execution_count": 6,
   "id": "ad9e64bd",
   "metadata": {},
   "outputs": [],
   "source": [
    "# spliceAI prediction\n",
    "# see get_best_site.py script on cluster for details on how to generate the file\n",
    "spliceai = pd.read_csv('data/spliceai_full_transcript_prediction_best_sites.txt', sep = '\\t')\n",
    "medspliceai = spliceai.groupby('plasmid').agg({'best_donor': pd.Series.mode,\n",
    "                                               'donor_prob': 'median',\n",
    "                                               'best_acceptor': pd.Series.mode,\n",
    "                                              'acceptor_prob': 'median'}).reset_index()\n",
    "\n",
    "def replace_site(d, a):\n",
    "    if type(d) is np.ndarray:\n",
    "        donor = d[-1]\n",
    "    else:\n",
    "        donor = d\n",
    "        \n",
    "    if type(a) is np.ndarray:\n",
    "        acceptor = a[-1]\n",
    "    else:\n",
    "        acceptor = a\n",
    "        \n",
    "    return donor, acceptor\n",
    "\n",
    "medspliceai['best_donor'], medspliceai['best_acceptor'] = zip(*medspliceai.apply(lambda g: \n",
    "                                                                            replace_site(g['best_donor'],\n",
    "                                                                                        g['best_acceptor']), \n",
    "                                                                                 axis = 1))\n",
    "medspliceai['splicing_prob'] = medspliceai['donor_prob']*medspliceai['acceptor_prob']\n",
    "\n",
    "# merge measured splicing percentage with spliceAI prediction\n",
    "m = HELA.merge(medspliceai, left_on = 'RE', right_on = 'plasmid')"
   ]
  },
  {
   "cell_type": "markdown",
   "id": "89f18304",
   "metadata": {},
   "source": [
    "## Figure 5A: spliceAI probability is positivly correlated with PTRE-seq splicing measurements"
   ]
  },
  {
   "cell_type": "code",
   "execution_count": 8,
   "id": "1f271a86",
   "metadata": {},
   "outputs": [
    {
     "data": {
      "image/png": "[encoded data removed]",
      "text/plain": [
       "<Figure size 360x360 with 1 Axes>"
      ]
     },
     "metadata": {
      "needs_background": "light"
     },
     "output_type": "display_data"
    }
   ],
   "source": [
    "f, ax = plt.subplots(figsize = (5, 5))\n",
    "\n",
    "sns.scatterplot(\n",
    "    data = m, \n",
    "    x = 'splicing_prob', \n",
    "    y = 'spliced_fraction', \n",
    "    color = 'black',\n",
    "    edgecolor = None,\n",
    "    ax = ax)\n",
    "\n",
    "# for spliceAI\n",
    "ax.set_xlim(-0.05, 1.05)\n",
    "ax.set_ylim(-0.05, 1.05)\n",
    "\n",
    "ax.set_yticks([0, 0.2, 0.4, 0.6, 0.8, 1.0])\n",
    "ax.set_yticklabels(['0%', '20%', '40%', '60%', '80%', '100%'])\n",
    "\n",
    "ax.fill_between([0.3, 0.6], -0.05, 1.05, color = 'lightgrey', alpha = 0.5)\n",
    "ax.fill_between([0.6, 0.9], -0.05, 1.05, color = 'mediumpurple', alpha = 0.5)\n",
    "ax.fill_between([0.9, 1.0], -0.05, 1.05, color = 'red', alpha = 0.5)\n",
    "\n",
    "ax.set_xlabel('spliceAI splicing probability')\n",
    "ax.set_ylabel('splicing efficiency')\n",
    "\n",
    "f.savefig('PLOTS/Fig_5A_scatterplot_spliceprob_fraction.pdf', transparent = True)"
   ]
  },
  {
   "cell_type": "code",
   "execution_count": 8,
   "id": "42a36f51",
   "metadata": {},
   "outputs": [
    {
     "data": {
      "text/plain": [
       "<matplotlib.legend.Legend at 0x22e071e1e50>"
      ]
     },
     "execution_count": 8,
     "metadata": {},
     "output_type": "execute_result"
    },
    {
     "data": {
      "image/png": "[encoded data removed]",
      "text/plain": [
       "<Figure size 640x480 with 1 Axes>"
      ]
     },
     "metadata": {},
     "output_type": "display_data"
    }
   ],
   "source": [
    "# Plot ROC curve for product classifier\n",
    "\n",
    "f, ax = plt.subplots()\n",
    "\n",
    "# assess performace of several predictors using ROC and AUC\n",
    "def classify_threshold(joint, upper, lower):\n",
    "    if joint >= upper:\n",
    "        return 1\n",
    "    elif joint <= lower:\n",
    "        return 0\n",
    "    else:\n",
    "        return np.nan\n",
    "    \n",
    "m['threshold_20'] = m['spliced_fraction'].apply(lambda g: classify_threshold(g, 0.2, 0.2))\n",
    "\n",
    "# calculate AUC values for all predictors vs measured splicing fraction\n",
    "df2 = m.dropna(subset = ['threshold_20'])\n",
    "AUC_dict = {}\n",
    "\n",
    "df2 = m.dropna(subset = ['threshold_20'])\n",
    "lr_probs = df2['splicing_prob']\n",
    "#lr_probs = df2['logodd']\n",
    "testy = df2['threshold_20']\n",
    "# calculate scores\n",
    "lr_auc = roc_auc_score(testy, lr_probs)\n",
    "AUC_dict['threshold_20'] = lr_auc\n",
    "# calculate roc curves\n",
    "lr_fpr, lr_tpr, _ = roc_curve(testy, lr_probs)\n",
    "# plot\n",
    "label = f'AUC={lr_auc:.2f}'\n",
    "ax.plot(lr_fpr, lr_tpr, label=label)\n",
    "\n",
    "ns_probs = [0]*len(df2)\n",
    "ns_fpr, ns_tpr, _ = roc_curve(testy, ns_probs)\n",
    "ax.plot(ns_fpr, ns_tpr, linestyle='--', color = 'black')\n",
    "\n",
    "# show the legend\n",
    "pyplot.legend(loc = 'lower right')\n",
    "    \n",
    "# axis labels\n",
    "pyplot.xlabel('False Positive Rate')\n",
    "pyplot.ylabel('True Positive Rate')\n",
    "# show the legend\n",
    "pyplot.legend(loc = 'lower right')\n",
    "\n",
    "#f.savefig('Figures_ver3/heatmap_AUC_values.pdf', transparent = True)"
   ]
  },
  {
   "cell_type": "markdown",
   "id": "3acbbc62",
   "metadata": {},
   "source": [
    "### Pangolin prediction results (not shown in manuscript)"
   ]
  },
  {
   "cell_type": "code",
   "execution_count": 5,
   "id": "8d2a5f48",
   "metadata": {},
   "outputs": [
    {
     "data": {
      "text/plain": [
       "Text(0, 0.5, 'splicing efficiency')"
      ]
     },
     "execution_count": 5,
     "metadata": {},
     "output_type": "execute_result"
    },
    {
     "data": {
      "image/png": "[encoded data removed]",
      "text/plain": [
       "<Figure size 360x360 with 1 Axes>"
      ]
     },
     "metadata": {
      "needs_background": "light"
     },
     "output_type": "display_data"
    }
   ],
   "source": [
    "# Pangolin prediction\n",
    "pangolin = pd.read_csv('data/PTREseq_pangolin_prediction.txt', sep = '\\t')\n",
    "pangolin = pangolin.groupby('plasmid').agg({'best_donor': pd.Series.mode,\n",
    "                                               'donor_prob': 'median',\n",
    "                                               'best_acceptor': pd.Series.mode,\n",
    "                                              'acceptor_prob': 'median'}).reset_index()\n",
    "\n",
    "def replace_site(d, a):\n",
    "    if type(d) is np.ndarray:\n",
    "        donor = d[-1]\n",
    "    else:\n",
    "        donor = d\n",
    "        \n",
    "    if type(a) is np.ndarray:\n",
    "        acceptor = a[-1]\n",
    "    else:\n",
    "        acceptor = a\n",
    "        \n",
    "    return donor, acceptor\n",
    "\n",
    "pangolin['best_donor'], pangolin['best_acceptor'] = zip(*pangolin.apply(lambda g: \n",
    "                                                                            replace_site(g['best_donor'],\n",
    "                                                                                        g['best_acceptor']), \n",
    "                                                                                 axis = 1))\n",
    "pangolin['splicing_prob'] = pangolin['donor_prob']*pangolin['acceptor_prob']\n",
    "\n",
    "# merge measured splicing percentage with spliceAI prediction\n",
    "m = HELA.merge(pangolin, left_on = 'RE', right_on = 'plasmid')\n",
    "\n",
    "f, ax = plt.subplots(figsize = (5, 5))\n",
    "\n",
    "# Plot prediction\n",
    "sns.scatterplot(\n",
    "    data = m, \n",
    "    x = 'splicing_prob', \n",
    "    y = 'spliced_fraction', \n",
    "    color = 'black',\n",
    "    edgecolor = None,\n",
    "    ax = ax)\n",
    "\n",
    "ax.set_yticks([0, 0.2, 0.4, 0.6, 0.8, 1.0])\n",
    "ax.set_yticklabels(['0%', '20%', '40%', '60%', '80%', '100%'])\n",
    "\n",
    "#ax.set_xlabel('spliceAI splicing probability')\n",
    "ax.set_xlabel('Pangolin splicing probability')\n",
    "ax.set_ylabel('splicing efficiency')\n",
    "\n",
    "#for pangolin usage\n",
    "ax.set_ylim(-0.05, 1.05)\n",
    "\n",
    "ax.fill_between([0.01, 0.02], -0.05, 1.05, color = 'lightgrey', alpha = 0.5)\n",
    "ax.fill_between([0.02, 0.04], -0.05, 1.05, color = 'mediumpurple', alpha = 0.5)\n",
    "ax.fill_between([0.04, 0.07], -0.05, 1.05, color = 'red', alpha = 0.5)\n",
    "\n",
    "ax.set_xlabel('Pangolin splicing probability')\n",
    "ax.set_ylabel('splicing efficiency')\n",
    "\n",
    "#f.savefig('Pangoline_prediction.pdf', transparent = True)"
   ]
  },
  {
   "cell_type": "markdown",
   "id": "96e62210",
   "metadata": {},
   "source": [
    "## Evaluate published MPRAs"
   ]
  },
  {
   "cell_type": "markdown",
   "id": "9dd358c4",
   "metadata": {},
   "source": [
    "### Import Griesemer MPRA results"
   ]
  },
  {
   "cell_type": "code",
   "execution_count": 3,
   "id": "3897c70a",
   "metadata": {},
   "outputs": [],
   "source": [
    "# Import splicing prediction results from SpliceAI\n",
    "griesemer_splice = pd.read_csv('data/griesemer_spliceai_prediction.csv', sep = '\\t')\n",
    "\n",
    "# replace name to match naming from original publication\n",
    "def changename(seqid):\n",
    "    if 'ref' in seqid:\n",
    "        seqid = seqid.replace('_ref', '') + '_ref'\n",
    "        mpra_variant_id = seqid.replace('_ref', '')\n",
    "        allele = 'ref'\n",
    "    elif 'alt' in seqid:\n",
    "        seqid = seqid.replace('_alt', '') + '_alt'\n",
    "        mpra_variant_id = seqid.replace('_alt', '')\n",
    "        allele = 'alt'\n",
    "    else:\n",
    "        mpra_variant_id = seqid\n",
    "        allele = np.nan\n",
    "        \n",
    "    return seqid, mpra_variant_id, allele\n",
    "        \n",
    "griesemer_splice['name'], griesemer_splice['mpra_variant_id'], griesemer_splice['allele'] = zip(\n",
    "    *griesemer_splice[\n",
    "    'seq_id'\n",
    "].apply(\n",
    "    lambda g: changename(g)\n",
    ")\n",
    "                                                          )\n",
    "\n",
    "# Import measurements from original publication\n",
    "griesemer_result = pd.read_excel('data/griesemer_expression_measurements.xlsx', sheet_name = 'Variant MPRAu Results')\n",
    "# convert dataframe to long form and fix name to match spliceAI output\n",
    "gresult = pd.melt(griesemer_result, id_vars = 'mpra_variant_id', var_name = 'allele', value_name = 'log2FoldChange', \n",
    "        value_vars = ['log2FoldChange_Ref_HEK293FT', 'log2FoldChange_Alt_HEK293FT'])\n",
    "\n",
    "def combine_name(seqid, allele):\n",
    "    if 'Ref' in allele:\n",
    "        return seqid + '_ref'\n",
    "    elif 'Alt' in allele:\n",
    "        return seqid + '_alt'\n",
    "    \n",
    "gresult['name'] = gresult.apply(lambda g: combine_name(g['mpra_variant_id'], g['allele']), axis = 1)\n",
    "\n",
    "# combine spliceai prediction and expression measurements\n",
    "griesemer = griesemer_splice.merge(gresult, on = 'name', how = 'outer')\n",
    "griesemer = griesemer.dropna(subset = ['seq_id'])"
   ]
  },
  {
   "cell_type": "markdown",
   "id": "29e04fef",
   "metadata": {},
   "source": [
    "### Siegel MPRA"
   ]
  },
  {
   "cell_type": "code",
   "execution_count": 4,
   "id": "9f5d6a27",
   "metadata": {},
   "outputs": [
    {
     "data": {
      "text/plain": [
       "\"\\n# import expression measurements from Beas2b cell lines (not shown in manuscript)\\nsiegel_beas2b = pd.read_csv('../splicing_stuffs/other_mpras/siegel_result_beas2b.csv')\\ntemp = beas2b.reset_index() \\ntemp['seq_id'] = temp.apply(lambda g: g['region']+'_'+str(g['index']), axis = 1)\\nm = m.merge(temp, on = 'seq_id', suffixes = ('_jurkat', '_beas2b'))\""
      ]
     },
     "execution_count": 4,
     "metadata": {},
     "output_type": "execute_result"
    }
   ],
   "source": [
    "# import splicing prediction from SpliceAI\n",
    "siegel = pd.read_csv('data/siegel_spliceai_prediction.csv', sep = '\\t')\n",
    "\n",
    "# import expression measurements from jurkat cell lines\n",
    "siegel_jurkat = pd.read_csv('data/siegel_expression_measurements_jurkat.csv')\n",
    "temp = siegel_jurkat.reset_index()\n",
    "temp['seq_id'] = temp.apply(lambda g: g['region']+'_'+str(g['index']), axis = 1)\n",
    "\n",
    "# combine spliceai prediction and expression measurements\n",
    "siegel = siegel.merge(temp, on = 'seq_id')\n",
    "\n",
    "\"\"\"\n",
    "# import expression measurements from Beas2b cell lines (not shown in manuscript)\n",
    "siegel_beas2b = pd.read_csv('../splicing_stuffs/other_mpras/siegel_result_beas2b.csv')\n",
    "temp = beas2b.reset_index() \n",
    "temp['seq_id'] = temp.apply(lambda g: g['region']+'_'+str(g['index']), axis = 1)\n",
    "m = m.merge(temp, on = 'seq_id', suffixes = ('_jurkat', '_beas2b'))\"\"\""
   ]
  },
  {
   "cell_type": "markdown",
   "id": "25fa1f5a",
   "metadata": {},
   "source": [
    "### Zhao MPRA"
   ]
  },
  {
   "cell_type": "code",
   "execution_count": 5,
   "id": "335ece49",
   "metadata": {},
   "outputs": [],
   "source": [
    "# import splicing prediction\n",
    "zhao = pd.read_csv('data/zhao_spliceai_prediction.csv', sep = '\\t')\n",
    "\n",
    "# import expression measurements\n",
    "zhao_beas2b = pd.read_excel('data/zhao_expression_measurements.xls', skiprows = 5)\n",
    "\n",
    "# combine spliceai prediction and expression measurements\n",
    "zhao = zhao.merge(zhao_beas2b, left_on = 'seq_id', right_on = 'segment_id')\n",
    "zhao = zhao.replace('nd', np.nan)"
   ]
  },
  {
   "cell_type": "markdown",
   "id": "c58e055d",
   "metadata": {},
   "source": [
    "### Fu MPRA (MapUTR)"
   ]
  },
  {
   "cell_type": "code",
   "execution_count": 6,
   "id": "8b8a91b5",
   "metadata": {},
   "outputs": [],
   "source": [
    "# import splicing prediction\n",
    "fu = pd.read_csv('data/MapUTR_spliceai_full_transcript_prediction_best_sites.txt', sep = '\\t')\n",
    "fu['probability'] = fu['donor_prob']*fu['acceptor_prob']\n",
    "\n",
    "# import expression measurements\n",
    "#fu_exp = pd.read_csv('data/Fu_expression_measurements_HEK293.txt', sep = '\\t') # for HEK cells (not shown in main text)\n",
    "fu_exp = pd.read_csv('data/Fu_expression_measurements_HELA.txt', sep = '\\t') # for HeLa cells\n",
    "fu_exp['avg'] = fu_exp.median(numeric_only = True, axis = 1)\n",
    "\n",
    "# combine spliceai prediction and expression measurements\n",
    "fum = fu_exp.merge(fu, left_on = 'Variant', right_on = 'plasmid', how = 'inner')\n",
    "\n",
    "# normalize exp\n",
    "med = fum[fum['probability']<=0.30]['avg'].median()\n",
    "fum['log2FoldChange'] = fum['avg'].apply(lambda g: np.log2(g/med))"
   ]
  },
  {
   "cell_type": "code",
   "execution_count": 7,
   "id": "eddd3f6a",
   "metadata": {},
   "outputs": [],
   "source": [
    "# Sahu STARR-seq (not shown in main text)\n",
    "#sahu = pd.read_csv('data/Sahu-starrseq_spliceai_full_transcript_prediction_best_sites.txt', sep = '\\t')\n",
    "#sahu['probability'] = sahu['donor_prob']*sahu['acceptor_prob']\n",
    "#sahu['log2FoldChange'] = sahu['probability']"
   ]
  },
  {
   "cell_type": "markdown",
   "id": "a54b5885",
   "metadata": {},
   "source": [
    "## Figure 5C: percent of reporters predicted to be spliced"
   ]
  },
  {
   "cell_type": "code",
   "execution_count": 8,
   "id": "27d8516a",
   "metadata": {},
   "outputs": [],
   "source": [
    "# add probability bins for spliceAI\n",
    "\n",
    "def prediction(prob):\n",
    "    if prob <= 0.30:\n",
    "        return '0-0.30'\n",
    "    elif prob <= 0.60:\n",
    "        return '0.30-0.60'\n",
    "    elif prob <= 0.90:\n",
    "        return '0.60-0.90'\n",
    "    else:\n",
    "        return '0.90-1.00'\n",
    "\n",
    "metric = 'probability'\n",
    "\n",
    "# For Griesemer MPRA\n",
    "griesemer['prediction'] = griesemer[metric].apply(lambda g: prediction(g))\n",
    "toplot1 = griesemer[['prediction', metric, 'log2FoldChange']].reset_index(drop=True)\n",
    "toplot1['mpra'] = 'griesemer'\n",
    "\n",
    "# For Siegel MPRA\n",
    "siegel['prediction'] = siegel[metric].apply(lambda g: prediction(g))\n",
    "siegel_median = siegel['ratios_T0_GC_resid'].median() # Use ratios_T0 as measurement, adjusted for GC content\n",
    "siegel['log2FoldChange'] = siegel['ratios_T0_GC_resid'].apply(lambda g: np.log2(g/siegel_median))\n",
    "toplot2 = siegel[['prediction', metric, 'log2FoldChange']].reset_index(drop=True)\n",
    "toplot2 = toplot2[~toplot2['log2FoldChange'].isin([-np.inf])]\n",
    "toplot2['mpra'] = 'siegel'\n",
    "\n",
    "# For Zhao MPRA\n",
    "zhao['prediction'] = zhao[metric].apply(lambda g: prediction(g))\n",
    "zhao['log2FoldChange'] = zhao['BEAS-2B log2 steady state mRNA']\n",
    "toplot3 = zhao[['prediction', metric, 'log2FoldChange']].reset_index(drop=True)\n",
    "toplot3['mpra'] = 'zhao'\n",
    "\n",
    "# For MapUTR\n",
    "fum['prediction'] = fum[metric].apply(lambda g: prediction(g))\n",
    "fum['log2FoldChange'] = fum['log2FoldChange']\n",
    "toplot4 = fum[['prediction', metric, 'log2FoldChange']].reset_index(drop = True)\n",
    "toplot4['mpra'] = 'fu'\n",
    "\n",
    "# For Sahu starr-seqq (not shown in main text)\n",
    "#sahu['prediction'] = sahu[metric].apply(lambda g: prediction(g))\n",
    "#sahu['log2FoldChange'] = sahu['log2FoldChange']\n",
    "#toplot5 = sahu[['prediction', metric, 'log2FoldChange']].reset_index(drop = True)\n",
    "#toplot5['mpra'] = 'sahu'\n",
    "\n",
    "toplot = pd.concat([toplot1, toplot2, toplot3, toplot4])"
   ]
  },
  {
   "cell_type": "code",
   "execution_count": 9,
   "id": "3e3ae329",
   "metadata": {},
   "outputs": [
    {
     "name": "stdout",
     "output_type": "stream",
     "text": [
      "         mpra prediction  count  fraction\n",
      "7   griesemer  0.30-0.60   6616  0.153024\n",
      "5   griesemer  0.60-0.90   7231  0.167249\n",
      "6   griesemer  0.90-1.00   7020  0.162368\n",
      "9      siegel  0.30-0.60   2300  0.055756\n",
      "10     siegel  0.60-0.90    982  0.023805\n",
      "11     siegel  0.90-1.00    169  0.004097\n",
      "13       zhao  0.30-0.60    181  0.064875\n",
      "14       zhao  0.60-0.90     84  0.030108\n",
      "15       zhao  0.90-1.00      5  0.001792\n",
      "1          fu  0.30-0.60    219  0.006406\n",
      "2          fu  0.60-0.90     27  0.000790\n",
      "3          fu  0.90-1.00      4  0.000117\n"
     ]
    },
    {
     "data": {
      "image/png": "[encoded data removed]",
      "text/plain": [
       "<Figure size 432x288 with 1 Axes>"
      ]
     },
     "metadata": {
      "needs_background": "light"
     },
     "output_type": "display_data"
    }
   ],
   "source": [
    "# count number of reporters for each splicing probability bin\n",
    "figure3c = toplot.groupby('mpra')['prediction'].value_counts().to_frame(name = 'count').reset_index()\n",
    "# compute fraction in each bin\n",
    "figure3c['fraction'] = figure3c.groupby('mpra', group_keys = False)['count'].apply(lambda g: g/g.sum())\n",
    "figure3c = figure3c.sort_values(by='mpra')\n",
    "\n",
    "# for spliceAI\n",
    "figure3c = figure3c[figure3c['prediction']!='0-0.30']\n",
    "figure3c = figure3c.reindex([7, 5, 6, 9, 10, 11, 13, 14, 15, 1, 2, 3]) # reorder x axis\n",
    "print(figure3c)\n",
    "\n",
    "# Barplot\n",
    "f, ax = plt.subplots()\n",
    "\n",
    "bottom = np.array([0.0]*4)\n",
    "for prediction, color in zip(['0.30-0.60', '0.60-0.90', '0.90-1.00'], ['grey', 'mediumpurple', 'red']):\n",
    "    temp = figure3c[figure3c['prediction']==prediction].reset_index(drop = True)\n",
    "    x_axis = temp['mpra'].to_numpy()\n",
    "    y_axis = temp['fraction'].to_numpy()\n",
    "    ax.bar(x_axis, y_axis, bottom = bottom,\n",
    "          width = 0.65, label = prediction, color = color)\n",
    "    \n",
    "    bottom += temp['fraction'].to_numpy()\n",
    "\n",
    "# format y axis\n",
    "ax.set_yticks([0, 0.1, 0.2, 0.3, 0.4, 0.5])\n",
    "ax.set_yticklabels(['0%', '10%', '20%', '30%', '40%', '50%'])   \n",
    "\n",
    "ax.legend() # show legend\n",
    "\n",
    "f.savefig('PLOTS/Fig_5C_Percent_of_predicted_spliced_reporters.pdf', transparent = True)"
   ]
  },
  {
   "cell_type": "markdown",
   "id": "d25a68ce",
   "metadata": {},
   "source": [
    "## Figure 5D: location of predicted splice sites"
   ]
  },
  {
   "cell_type": "code",
   "execution_count": 25,
   "id": "029c1b1d",
   "metadata": {},
   "outputs": [],
   "source": [
    "# combine all 4 MPRAs\n",
    "cols = ['start', 'end', 'probability']\n",
    "\n",
    "griesemer_1 = griesemer_splice[cols].reset_index(drop = True)\n",
    "griesemer_1['mpra'] = 'griesemer'\n",
    "\n",
    "siegel_1 = siegel[cols].reset_index(drop = True)\n",
    "siegel_1['mpra'] = 'siegel'\n",
    "\n",
    "zhao_1 = zhao[cols].reset_index(drop = True)\n",
    "zhao_1['mpra'] = 'zhao'\n",
    "\n",
    "fu_1 = fu[['best_donor', 'best_acceptor', 'probability']].rename(columns = {'best_donor': 'start', 'best_acceptor': 'end'}).reset_index(drop = True)\n",
    "fu_1['mpra'] = 'fu'\n",
    "\n",
    "all_mpra = pd.concat([griesemer_1, siegel_1, zhao_1, fu_1])\n",
    "all_mpra = all_mpra[all_mpra['probability']>0.3]\n",
    "\n",
    "# input sequence have all been normalized such that end of GFP CDS is 720\n",
    "all_mpra['donor_loc'] = all_mpra['start'].apply(lambda g: 'GFP' if g <= 720 else 'UTR')\n",
    "all_mpra['acceptor_loc'] = all_mpra['end'].apply(lambda g: 'GFP' if g <= 720 else 'UTR')\n",
    "\n",
    "# count number of predicted donors in GFP CDS vs 3 UTR\n",
    "donor_loc = all_mpra.groupby('mpra')['donor_loc'].value_counts().to_frame().rename(columns = {'donor_loc': 'count'}).reset_index()\n",
    "donor_loc['per'] = donor_loc.groupby('mpra')['count'].apply(lambda g: g/g.sum())\n",
    "\n",
    "# count number of predicted acceptors in GFP CDS vs 3 UTR\n",
    "acceptor_loc = all_mpra.groupby('mpra')['acceptor_loc'].value_counts().to_frame().rename(columns = {'acceptor_loc': 'count'}).reset_index()\n",
    "acceptor_loc['per'] = acceptor_loc.groupby('mpra')['count'].apply(lambda g: g/g.sum())"
   ]
  },
  {
   "cell_type": "code",
   "execution_count": 26,
   "id": "09f16b8d",
   "metadata": {},
   "outputs": [
    {
     "data": {
      "text/html": [
       "<div>\n",
       "<style scoped>\n",
       "    .dataframe tbody tr th:only-of-type {\n",
       "        vertical-align: middle;\n",
       "    }\n",
       "\n",
       "    .dataframe tbody tr th {\n",
       "        vertical-align: top;\n",
       "    }\n",
       "\n",
       "    .dataframe thead th {\n",
       "        text-align: right;\n",
       "    }\n",
       "</style>\n",
       "<table border=\"1\" class=\"dataframe\">\n",
       "  <thead>\n",
       "    <tr style=\"text-align: right;\">\n",
       "      <th></th>\n",
       "      <th>mpra</th>\n",
       "      <th>donor_loc</th>\n",
       "      <th>count</th>\n",
       "      <th>per</th>\n",
       "    </tr>\n",
       "  </thead>\n",
       "  <tbody>\n",
       "    <tr>\n",
       "      <th>0</th>\n",
       "      <td>fu</td>\n",
       "      <td>UTR</td>\n",
       "      <td>891</td>\n",
       "      <td>0.832710</td>\n",
       "    </tr>\n",
       "    <tr>\n",
       "      <th>1</th>\n",
       "      <td>fu</td>\n",
       "      <td>GFP</td>\n",
       "      <td>179</td>\n",
       "      <td>0.167290</td>\n",
       "    </tr>\n",
       "    <tr>\n",
       "      <th>2</th>\n",
       "      <td>griesemer</td>\n",
       "      <td>GFP</td>\n",
       "      <td>20565</td>\n",
       "      <td>0.985527</td>\n",
       "    </tr>\n",
       "    <tr>\n",
       "      <th>3</th>\n",
       "      <td>griesemer</td>\n",
       "      <td>UTR</td>\n",
       "      <td>302</td>\n",
       "      <td>0.014473</td>\n",
       "    </tr>\n",
       "    <tr>\n",
       "      <th>4</th>\n",
       "      <td>siegel</td>\n",
       "      <td>UTR</td>\n",
       "      <td>3409</td>\n",
       "      <td>0.987830</td>\n",
       "    </tr>\n",
       "    <tr>\n",
       "      <th>5</th>\n",
       "      <td>siegel</td>\n",
       "      <td>GFP</td>\n",
       "      <td>42</td>\n",
       "      <td>0.012170</td>\n",
       "    </tr>\n",
       "    <tr>\n",
       "      <th>6</th>\n",
       "      <td>zhao</td>\n",
       "      <td>UTR</td>\n",
       "      <td>269</td>\n",
       "      <td>0.996296</td>\n",
       "    </tr>\n",
       "    <tr>\n",
       "      <th>7</th>\n",
       "      <td>zhao</td>\n",
       "      <td>GFP</td>\n",
       "      <td>1</td>\n",
       "      <td>0.003704</td>\n",
       "    </tr>\n",
       "  </tbody>\n",
       "</table>\n",
       "</div>"
      ],
      "text/plain": [
       "        mpra donor_loc  count       per\n",
       "0         fu       UTR    891  0.832710\n",
       "1         fu       GFP    179  0.167290\n",
       "2  griesemer       GFP  20565  0.985527\n",
       "3  griesemer       UTR    302  0.014473\n",
       "4     siegel       UTR   3409  0.987830\n",
       "5     siegel       GFP     42  0.012170\n",
       "6       zhao       UTR    269  0.996296\n",
       "7       zhao       GFP      1  0.003704"
      ]
     },
     "execution_count": 26,
     "metadata": {},
     "output_type": "execute_result"
    }
   ],
   "source": [
    "donor_loc"
   ]
  },
  {
   "cell_type": "code",
   "execution_count": 27,
   "id": "4d19d6bd",
   "metadata": {},
   "outputs": [
    {
     "data": {
      "image/png": "[encoded data removed]",
      "text/plain": [
       "<Figure size 288x360 with 1 Axes>"
      ]
     },
     "metadata": {
      "needs_background": "light"
     },
     "output_type": "display_data"
    }
   ],
   "source": [
    "# plot stacked bar chart\n",
    "# in main text, only donor is shown\n",
    "order = ['griesemer', 'siegel', 'zhao', 'fu']\n",
    "\n",
    "donor_gfp = []\n",
    "donor_utr = []\n",
    "for mpra in order:\n",
    "    val = donor_loc[(donor_loc['donor_loc']=='GFP')&(donor_loc['mpra']==mpra)]['per'].values[0]\n",
    "    donor_gfp.append(val)\n",
    "    \n",
    "    val = donor_loc[(donor_loc['donor_loc']=='UTR')&(donor_loc['mpra']==mpra)]['per'].values[0]\n",
    "    donor_utr.append(val)\n",
    "\n",
    "f, ax = plt.subplots(figsize = (4, 5))\n",
    "\n",
    "ax.barh([0, -1, -2, -3], donor_gfp, height = 0.5, label = 'donor_gfp')\n",
    "ax.barh([0, -1, -2, -3], donor_utr, height = 0.5, left = donor_gfp, label = 'donor_3utr')\n",
    "\n",
    "ax.set_xticks([0, 0.5, 1.0])\n",
    "\n",
    "ax.set_yticks(range(-3, 1))\n",
    "ax.set_yticklabels(['Fu', 'Zhao', 'Siegel', 'Griesemer'])\n",
    "\n",
    "ax.legend(bbox_to_anchor = (1, 1))\n",
    "\n",
    "f.savefig('PLOTS/Fig_5D_summary_donor_acceptor_location.pdf', transparent = True)"
   ]
  },
  {
   "cell_type": "markdown",
   "id": "33135e22",
   "metadata": {},
   "source": [
    "## Figure 5E: Top motif enriched in spliced vs unspliced reporters"
   ]
  },
  {
   "cell_type": "code",
   "execution_count": 28,
   "id": "0aac1b74",
   "metadata": {},
   "outputs": [],
   "source": [
    "import logomaker\n",
    "\n",
    "def plot_sequence_logo(fn, motif_length, motif_no, out = None):\n",
    "    found = False\n",
    "    n = 0\n",
    "    data = []\n",
    "    motif = 0\n",
    "\n",
    "    with open(fn, 'r') as fn:\n",
    "        for line in fn:\n",
    "            if 'letter-probability matrix' in line: \n",
    "                motif += 1\n",
    "                if motif == motif_no: \n",
    "                    found = True\n",
    "                    continue\n",
    "\n",
    "            if found and n < motif_length:\n",
    "                n += 1\n",
    "                spl = [float(i) for i in line.rstrip().replace(' ', '').split('\\t')]\n",
    "                data.append(spl)\n",
    "\n",
    "    df = pd.DataFrame(data, columns = ['A', 'C', 'G', 'U'])\n",
    "    \n",
    "    # Define a function to compute entropy for each row (sequence position)\n",
    "    def compute_entropy(row):\n",
    "        eps = 1e-10  # Small value to avoid log(0)\n",
    "        row = np.clip(row, eps, 1.0)  # Ensure no zero values\n",
    "        entropy = - np.sum(row * np.log2(row))  # Shannon entropy\n",
    "        return entropy\n",
    "\n",
    "    # Compute the maximum entropy for DNA (4 possible nucleotides: A, C, G, T)\n",
    "    H_max = np.log2(4)  # H_max = 2 bits for DNA\n",
    "\n",
    "    # Apply the entropy function to each row (sequence position)\n",
    "    entropy = df.apply(compute_entropy, axis=1)\n",
    "\n",
    "    # Compute the information content (bits) for each position\n",
    "    total_information_content = H_max - entropy\n",
    "\n",
    "    # Now, compute the information content for each nucleotide at each position\n",
    "    for nucleotide in ['A', 'C', 'G', 'U']:  # Exclude 'Entropy' and 'Total Information Content'\n",
    "        df[nucleotide] = df[nucleotide] * total_information_content\n",
    "\n",
    "    f, ax = plt.subplots(figsize = (5, 2))\n",
    "    \n",
    "    # create Logo object\n",
    "    ss_logo = logomaker.Logo(df, shade_below=.5, fade_below=.5, font_name='Arial Rounded MT Bold', ax = ax)\n",
    "\n",
    "\n",
    "    # style using Logo methods\n",
    "    ss_logo.style_spines(spines=['right', 'top'], visible=False)\n",
    "\n",
    "    # style using Axes methods\n",
    "    ss_logo.ax.set_xticks(range(len(df)))\n",
    "    ss_logo.ax.set_xticklabels([i for i in range(1, len(df)+1)])\n",
    "\n",
    "    ss_logo.ax.set_yticks([0, 1, 2])\n",
    "    ss_logo.ax.set_ylabel('bits', fontsize=14)\n",
    "\n",
    "    if out:\n",
    "        f.savefig(out, transparent = True)"
   ]
  },
  {
   "cell_type": "code",
   "execution_count": 29,
   "id": "210c7627",
   "metadata": {},
   "outputs": [
    {
     "data": {
      "image/png": "[encoded data removed]",
      "text/plain": [
       "<Figure size 360x144 with 1 Axes>"
      ]
     },
     "metadata": {
      "needs_background": "light"
     },
     "output_type": "display_data"
    }
   ],
   "source": [
    "# Griesemer motif\n",
    "plot_sequence_logo('data/griesemer_motif_analysis.txt', 12, 1, 'PLOTS/Fig_6E_griesemer_best_motif.pdf')"
   ]
  },
  {
   "cell_type": "code",
   "execution_count": 30,
   "id": "781e81d0",
   "metadata": {},
   "outputs": [
    {
     "data": {
      "image/png": "[encoded data removed]",
      "text/plain": [
       "<Figure size 360x144 with 1 Axes>"
      ]
     },
     "metadata": {
      "needs_background": "light"
     },
     "output_type": "display_data"
    }
   ],
   "source": [
    "# Siegel motif\n",
    "plot_sequence_logo('data/siegel_motif_analysis.txt', 9, 2, 'PLOTS/Fig_6E_siegel_best_motif.pdf')"
   ]
  },
  {
   "cell_type": "code",
   "execution_count": 31,
   "id": "080944fb",
   "metadata": {},
   "outputs": [
    {
     "data": {
      "image/png": "[encoded data removed]",
      "text/plain": [
       "<Figure size 360x144 with 1 Axes>"
      ]
     },
     "metadata": {
      "needs_background": "light"
     },
     "output_type": "display_data"
    }
   ],
   "source": [
    "# Zhao motif\n",
    "plot_sequence_logo('data/zhao_motif_analysis.txt', 15, 1, 'PLOTS/Fig_6E_zhao_best_motif.pdf')"
   ]
  },
  {
   "cell_type": "code",
   "execution_count": 32,
   "id": "451294f3",
   "metadata": {},
   "outputs": [
    {
     "data": {
      "image/png": "[encoded data removed]",
      "text/plain": [
       "<Figure size 360x144 with 1 Axes>"
      ]
     },
     "metadata": {
      "needs_background": "light"
     },
     "output_type": "display_data"
    }
   ],
   "source": [
    "# Fu motif\n",
    "plot_sequence_logo('data/fu_motif_analysis.txt', 15, 1, 'PLOTS/Fig_6E_fu_best_motif.pdf')"
   ]
  },
  {
   "cell_type": "markdown",
   "id": "921dc4c4",
   "metadata": {},
   "source": [
    "## Figure 5F: Splicing prediction and expression measurements"
   ]
  },
  {
   "cell_type": "code",
   "execution_count": 11,
   "id": "98563841",
   "metadata": {},
   "outputs": [
    {
     "data": {
      "text/plain": [
       "<matplotlib.legend.Legend at 0x7f9815a61040>"
      ]
     },
     "execution_count": 11,
     "metadata": {},
     "output_type": "execute_result"
    },
    {
     "data": {
      "image/png": "[encoded data removed]",
      "text/plain": [
       "<Figure size 432x288 with 1 Axes>"
      ]
     },
     "metadata": {
      "needs_background": "light"
     },
     "output_type": "display_data"
    }
   ],
   "source": [
    "f, ax = plt.subplots()\n",
    "\n",
    "sns.boxplot(\n",
    "    data = toplot, \n",
    "    x = 'mpra', \n",
    "    y = 'log2FoldChange', \n",
    "    hue = 'prediction', \n",
    "    order = ['griesemer', 'siegel', 'zhao', 'fu'],\n",
    "    palette = ['lightgrey', 'grey', 'mediumpurple', 'red'],\n",
    "    fliersize = 0,\n",
    "    ax = ax\n",
    ")\n",
    "\n",
    "sns.stripplot(\n",
    "    data = toplot, \n",
    "    x = 'mpra', \n",
    "    y = 'log2FoldChange', \n",
    "    hue = 'prediction', \n",
    "    order = ['griesemer', 'siegel', 'zhao', 'fu'],\n",
    "    palette = ['lightgrey', 'grey', 'mediumpurple', 'red'],\n",
    "    dodge = True,\n",
    "    ax = ax\n",
    ")\n",
    "\n",
    "\n",
    "ax.set_ylim(-7.5, 5)\n",
    "\n",
    "adjust_box_widths(f, 0.90)\n",
    "\n",
    "ax.legend(bbox_to_anchor = (1, 1))\n",
    "#f.savefig('PLOTS/Fig_5F.pdf', transparent = True)"
   ]
  },
  {
   "cell_type": "code",
   "execution_count": 12,
   "id": "c8557870",
   "metadata": {},
   "outputs": [
    {
     "name": "stdout",
     "output_type": "stream",
     "text": [
      "Griesemer MPRA\n",
      "p value of 0-0.3 and 0.3-0.6 group is 8.081736990983717e-13\n",
      "0.03281553699102953\n",
      "0.017551506332870285\n",
      "p value of 0-0.3 and 0.6-0.9 group is 0.6239492410105776\n",
      "p value of 0-0.3 and 0.9-1.0 group is 0.0\n",
      "Siegel MPRA\n",
      "p value of 0-0.3 and 0.3-0.6 group is 1.630456158304791e-14\n",
      "-0.07512630688704106\n",
      "-0.7280061006738375\n",
      "p value of 0-0.3 and 0.6-0.9 group is 8.754565971345094e-96\n",
      "p value of 0-0.3 and 0.9-1.0 group is 2.805197798103207e-63\n",
      "Zhao MPRA\n",
      "p value of 0-0.3 and 0.3-0.6 group is 0.9663638231188951\n",
      "-0.040227979274611386\n",
      "-0.8384374999999997\n",
      "p value of 0-0.3 and 0.6-0.9 group is 3.330497523982152e-18\n",
      "p value of 0-0.3 and 0.9-1.0 group is 0.00011418201341688818\n",
      "Fu MPRA\n",
      "p value of 0-0.3 and 0.3-0.6 group is 0.7646974724394109\n",
      "-0.13155093822413086\n",
      "-2.047771333234152\n",
      "p value of 0-0.3 and 0.6-0.9 group is 1.0605077541798058e-05\n",
      "p value of 0-0.3 and 0.9-1.0 group is 0.9309681778614474\n"
     ]
    }
   ],
   "source": [
    "# statistical test for difference using mann whitney u test\n",
    "for df, mpra in zip([toplot1, toplot2, toplot3, toplot4], ['Griesemer', 'Siegel', 'Zhao', 'Fu']):\n",
    "    \n",
    "    print(f'{mpra} MPRA')\n",
    "    \n",
    "    a = df[df['prediction']=='0-0.30'].dropna()\n",
    "    b = df[df['prediction']=='0.30-0.60'].dropna()\n",
    "    t, p = scipy.stats.mannwhitneyu(a['log2FoldChange'].to_list(), b['log2FoldChange'].to_list())\n",
    "    print(f'p value of 0-0.3 and 0.3-0.6 group is {p}')\n",
    "\n",
    "    a = df[df['prediction']=='0-0.30'].dropna()\n",
    "    b = df[df['prediction']=='0.60-0.90'].dropna()\n",
    "    print(a['log2FoldChange'].mean())\n",
    "    print(b['log2FoldChange'].mean())\n",
    "    t, p = scipy.stats.mannwhitneyu(a['log2FoldChange'].to_list(), b['log2FoldChange'].to_list())\n",
    "    print(f'p value of 0-0.3 and 0.6-0.9 group is {p}')\n",
    "\n",
    "    a = df[df['prediction']=='0-0.30'].dropna()\n",
    "    b = df[df['prediction']=='0.90-1.00'].dropna()\n",
    "    t, p = scipy.stats.mannwhitneyu(a['log2FoldChange'].to_list(), b['log2FoldChange'].to_list())\n",
    "    print(f'p value of 0-0.3 and 0.9-1.0 group is {p}')"
   ]
  },
  {
   "cell_type": "markdown",
   "id": "578a1671",
   "metadata": {},
   "source": [
    "## Figure 5G: impact of splicing on Griesemer MPRA tamvar identification"
   ]
  },
  {
   "cell_type": "code",
   "execution_count": 13,
   "id": "52190223",
   "metadata": {},
   "outputs": [],
   "source": [
    "# Convert dataframe to wide form\n",
    "griesemer_splice_wide = pd.pivot_table(\n",
    "    griesemer_splice, \n",
    "    index = 'mpra_variant_id', \n",
    "    columns = 'allele', \n",
    "    values = 'probability'\n",
    ")\n",
    "\n",
    "# difference in splicing probability between alt and ref allele\n",
    "griesemer_splice_wide['delta'] = griesemer_splice_wide['alt'] - griesemer_splice_wide['ref']\n",
    "\n",
    "# merge measurement from original publication with splicing prediction\n",
    "merged = griesemer_result.merge(griesemer_splice_wide, on = 'mpra_variant_id')\n",
    "\n",
    "# Identify tamvars (statistically significant in at least 1 cell line)\n",
    "tamvars = merged[(merged['padj_Skew_HEK293FT']<0.1)|\n",
    "                (merged['padj_Skew_HEPG2']<0.1)|\n",
    "                (merged['padj_Skew_HMEC']<0.1)|\n",
    "                (merged['padj_Skew_K562']<0.1)|\n",
    "                (merged['padj_Skew_GM12878']<0.1)|\n",
    "                (merged['padj_Skew_SKNSH']<0.1)]\n",
    "\n",
    "merged['tamvar'] = merged[\n",
    "    'mpra_variant_id'\n",
    "].apply(\n",
    "    lambda g: 'tamvar' if g in tamvars['mpra_variant_id'].to_list() else 'nontamvar'\n",
    ")\n",
    "\n",
    "# divide reporters into 3 groups depending on difference in splicing probability\n",
    "def bin_delta(delta):\n",
    "    if delta < -0.35:\n",
    "        return 'alt<ref'\n",
    "    elif delta > 0.35:\n",
    "        return 'alt>ref'\n",
    "    else:\n",
    "        return 'alt=ref'\n",
    "\n",
    "    \n",
    "merged['delta_bin'] = merged['delta'].apply(lambda g: bin_delta(g))"
   ]
  },
  {
   "cell_type": "code",
   "execution_count": 14,
   "id": "2dac0436",
   "metadata": {},
   "outputs": [
    {
     "name": "stdout",
     "output_type": "stream",
     "text": [
      "\"alt>ref\" and \"alt=ref\" groups p-value = 0.00403146337277174\n",
      "\"alt<ref\" and \"alt=ref\" groups p-value = 0.00048379355415843344\n"
     ]
    },
    {
     "data": {
      "image/png": "[encoded data removed]",
      "text/plain": [
       "<Figure size 432x288 with 1 Axes>"
      ]
     },
     "metadata": {
      "needs_background": "light"
     },
     "output_type": "display_data"
    }
   ],
   "source": [
    "toplot = merged[merged['tamvar']=='tamvar']\n",
    "\n",
    "f, ax = plt.subplots()\n",
    "\n",
    "sns.boxplot(\n",
    "    data = toplot, \n",
    "    x = 'delta_bin', \n",
    "    y = 'log2FoldChange_Skew_HEK293FT', \n",
    "    order = ['alt>ref', 'alt=ref', 'alt<ref'],\n",
    "    color = 'lightgrey',\n",
    "    width = 0.50,\n",
    "    fliersize = 0, \n",
    "    ax = ax)\n",
    "\n",
    "sns.stripplot(\n",
    "    data = toplot, \n",
    "    x = 'delta_bin', \n",
    "    y = 'log2FoldChange_Skew_HEK293FT', \n",
    "    order = ['alt>ref', 'alt=ref', 'alt<ref'],\n",
    "    color = 'darkgrey',\n",
    "    ax = ax)\n",
    "\n",
    "ax.set_ylim(-0.75, 1.25)\n",
    "\n",
    "# mann-whitney U test between \"alt>ref\" and \"alt=ref\" group\n",
    "a = toplot[toplot['delta_bin']=='alt>ref']\n",
    "b = toplot[toplot['delta_bin']=='alt=ref']\n",
    "\n",
    "t, p = scipy.stats.mannwhitneyu(a['log2FoldChange_Skew_HEK293FT'].to_list(), b['log2FoldChange_Skew_HEK293FT'].to_list())\n",
    "print(f'\"alt>ref\" and \"alt=ref\" groups p-value = {p}')\n",
    "\n",
    "# mann-whitney U test between \"alt<ref\" and \"alt=ref\" group\n",
    "a = toplot[toplot['delta_bin']=='alt<ref']\n",
    "b = toplot[toplot['delta_bin']=='alt=ref']\n",
    "\n",
    "t, p = scipy.stats.mannwhitneyu(a['log2FoldChange_Skew_HEK293FT'].to_list(), b['log2FoldChange_Skew_HEK293FT'].to_list())\n",
    "print(f'\"alt<ref\" and \"alt=ref\" groups p-value = {p}')\n",
    "\n",
    "f.savefig('PLOTS/Fig_5F_Griesemer_comparison.pdf', transparent = True)"
   ]
  },
  {
   "cell_type": "markdown",
   "id": "061645ac",
   "metadata": {},
   "source": [
    "## Figure S6B: spliceAI performance evaluation"
   ]
  },
  {
   "cell_type": "code",
   "execution_count": 47,
   "id": "d31110f9",
   "metadata": {},
   "outputs": [],
   "source": [
    "# see \"get_splice_site_rank.py\" on how to generate this data\n",
    "splice_site_rank = pd.read_csv('data/spliceAI_splice_site_rank.csv', sep = '\\t')\n",
    "\n",
    "# if a reporter is 20% spliced or more\n",
    "# check if spliceAI assign the observed donor and acceptor with the highest probability or not\n",
    "# if yes -> correct prediction\n",
    "# if no -> incorrect prediction\n",
    "\n",
    "def evaluate_prediction(S_fraction, donor_rank, acceptor_rank):\n",
    "    if S_fraction >= 0.20:\n",
    "        if donor_rank <= 1:\n",
    "            donor_acc = 'donor_rank_1_2'\n",
    "        else:\n",
    "            donor_acc = 'donor_rank_3+'\n",
    "            \n",
    "        if acceptor_rank <= 1:\n",
    "            acceptor_acc = 'acceptor_rank_1_2'\n",
    "        else:\n",
    "            acceptor_acc = 'acceptor_rank_3+'\n",
    "    else:\n",
    "        donor_acc = 'not_spliced'\n",
    "        acceptor_acc = 'not_spliced'\n",
    "        \n",
    "    return donor_acc, acceptor_acc\n",
    "\n",
    "splice_site_rank['donor_acc'], splice_site_rank['acceptor_acc'] = zip(*splice_site_rank.apply(\n",
    "                                                    lambda g: evaluate_prediction(\n",
    "                                                        g['splicing_efficiency'], \n",
    "                                                        g['donor_rank'], \n",
    "                                                        g['acceptor_rank']), \n",
    "                                                    axis = 1\n",
    "                                                        )\n",
    "                                                         )"
   ]
  },
  {
   "cell_type": "code",
   "execution_count": 48,
   "id": "1ee31dbb",
   "metadata": {},
   "outputs": [
    {
     "name": "stdout",
     "output_type": "stream",
     "text": [
      "       site  correct  incorrect  correct_per  incorrect_per\n",
      "0  acceptor     1088        102    91.428571       8.571429\n",
      "1     donor     1131         59    95.042017       4.957983\n"
     ]
    },
    {
     "data": {
      "text/plain": [
       "<matplotlib.legend.Legend at 0x7f986d0f2160>"
      ]
     },
     "execution_count": 48,
     "metadata": {},
     "output_type": "execute_result"
    },
    {
     "data": {
      "image/png": "[encoded data removed]",
      "text/plain": [
       "<Figure size 360x216 with 1 Axes>"
      ]
     },
     "metadata": {},
     "output_type": "display_data"
    }
   ],
   "source": [
    "donor_correct_pred = len(splice_site_rank[splice_site_rank['donor_acc']=='donor_rank_1_2'])\n",
    "donor_incorrect_pred = len(splice_site_rank[splice_site_rank['donor_acc']=='donor_rank_3+'])\n",
    "acc_correct_pred = len(splice_site_rank[splice_site_rank['acceptor_acc']=='acceptor_rank_1_2'])\n",
    "acc_incorrect_pred = len(splice_site_rank[splice_site_rank['acceptor_acc']=='acceptor_rank_3+'])\n",
    "\n",
    "data = [\n",
    "    ['acceptor', acc_correct_pred, acc_incorrect_pred],\n",
    "    ['donor', donor_correct_pred, donor_incorrect_pred]\n",
    "]\n",
    "\n",
    "evaluation = pd.DataFrame(\n",
    "    data, \n",
    "    columns = ['site', 'correct', 'incorrect']\n",
    ")\n",
    "\n",
    "evaluation['correct_per'] = evaluation['correct']*100/(evaluation['correct'] + evaluation['incorrect'])\n",
    "evaluation['incorrect_per'] = evaluation['incorrect']*100/(evaluation['correct'] + evaluation['incorrect'])\n",
    "\n",
    "print(evaluation)\n",
    "\n",
    "sns.set_style(\"whitegrid\")\n",
    "\n",
    "f, ax = plt.subplots(figsize = (5, 3))\n",
    "\n",
    "evaluation[['correct_per', 'incorrect_per']].plot.barh(\n",
    "    stacked = True, \n",
    "    color = ['blue', 'orange'],\n",
    "    ax = ax\n",
    ")\n",
    "\n",
    "ax.set_yticks([0, 1])\n",
    "ax.set_yticklabels(['Acceptor', 'Donor'])\n",
    "\n",
    "ax.legend(bbox_to_anchor = (1, 1))\n",
    "\n",
    "f.savefig('PLOTS/Fig_S6B_spliceai_site_evaluation.pdf', transparent = True)"
   ]
  },
  {
   "cell_type": "markdown",
   "id": "35549381",
   "metadata": {},
   "source": [
    "## Figure S6C: predicted location of donors and acceptors prediction"
   ]
  },
  {
   "cell_type": "code",
   "execution_count": 28,
   "id": "d4678aa5",
   "metadata": {},
   "outputs": [],
   "source": [
    "toplot1 = griesemer[griesemer['probability']>=0.30].reset_index(drop = True)\n",
    "toplot1['start_norm'] = toplot1['start'] - 720\n",
    "toplot1['end_norm'] = toplot1['end'] - 720\n",
    "toplot1['mpra'] = 'griesemer'\n",
    "\n",
    "toplot2 = siegel[siegel['probability']>=0.30].reset_index(drop = True)\n",
    "toplot2['start_norm'] = toplot2['start'] - 720\n",
    "toplot2['end_norm'] = toplot2['end'] - 720\n",
    "toplot2['mpra'] = 'siegal'\n",
    "\n",
    "toplot3 = zhao[zhao['probability']>=0.30].reset_index(drop = True)\n",
    "toplot3['start_norm'] = toplot3['start'] - 720\n",
    "toplot3['end_norm'] = toplot3['end'] - 720\n",
    "toplot3['mpra'] = 'zhao'\n",
    "\n",
    "toplot4 = fu[fu['probability']>=0.30].reset_index(drop = True)\n",
    "toplot4['start_norm'] = toplot4['best_donor'] - 720\n",
    "toplot4['end_norm'] = toplot4['best_acceptor'] - 720\n",
    "toplot4['mpra'] = 'griesemer'\n",
    "\n",
    "#toplot = toplot.astype({'start_norm': int})"
   ]
  },
  {
   "cell_type": "code",
   "execution_count": 29,
   "id": "80fb139c",
   "metadata": {},
   "outputs": [
    {
     "data": {
      "text/html": [
       "<div>\n",
       "<style scoped>\n",
       "    .dataframe tbody tr th:only-of-type {\n",
       "        vertical-align: middle;\n",
       "    }\n",
       "\n",
       "    .dataframe tbody tr th {\n",
       "        vertical-align: top;\n",
       "    }\n",
       "\n",
       "    .dataframe thead th {\n",
       "        text-align: right;\n",
       "    }\n",
       "</style>\n",
       "<table border=\"1\" class=\"dataframe\">\n",
       "  <thead>\n",
       "    <tr style=\"text-align: right;\">\n",
       "      <th></th>\n",
       "      <th>plasmid</th>\n",
       "      <th>best_donor</th>\n",
       "      <th>donor_prob</th>\n",
       "      <th>best_acceptor</th>\n",
       "      <th>acceptor_prob</th>\n",
       "      <th>probability</th>\n",
       "      <th>start_norm</th>\n",
       "      <th>end_norm</th>\n",
       "      <th>mpra</th>\n",
       "    </tr>\n",
       "  </thead>\n",
       "  <tbody>\n",
       "    <tr>\n",
       "      <th>4</th>\n",
       "      <td>subpool3|COSMIC|chr2:25468195|DNMT3A|-|alterna...</td>\n",
       "      <td>709</td>\n",
       "      <td>0.372839</td>\n",
       "      <td>810</td>\n",
       "      <td>0.875063</td>\n",
       "      <td>0.326258</td>\n",
       "      <td>-11</td>\n",
       "      <td>90</td>\n",
       "      <td>griesemer</td>\n",
       "    </tr>\n",
       "    <tr>\n",
       "      <th>7</th>\n",
       "      <td>subpool3|COSMIC|chr16:67063679|CBFB|+|alternat...</td>\n",
       "      <td>715</td>\n",
       "      <td>0.463301</td>\n",
       "      <td>803</td>\n",
       "      <td>0.866394</td>\n",
       "      <td>0.401401</td>\n",
       "      <td>-5</td>\n",
       "      <td>83</td>\n",
       "      <td>griesemer</td>\n",
       "    </tr>\n",
       "    <tr>\n",
       "      <th>36</th>\n",
       "      <td>subpool3|COSMIC|chr12:6692036|CHD4|-|alternate...</td>\n",
       "      <td>709</td>\n",
       "      <td>0.624517</td>\n",
       "      <td>801</td>\n",
       "      <td>0.972630</td>\n",
       "      <td>0.607424</td>\n",
       "      <td>-11</td>\n",
       "      <td>81</td>\n",
       "      <td>griesemer</td>\n",
       "    </tr>\n",
       "    <tr>\n",
       "      <th>47</th>\n",
       "      <td>subpool1|COSMIC|chr9:21971188|CDKN2A|-|referen...</td>\n",
       "      <td>696</td>\n",
       "      <td>0.329777</td>\n",
       "      <td>789</td>\n",
       "      <td>0.927512</td>\n",
       "      <td>0.305872</td>\n",
       "      <td>-24</td>\n",
       "      <td>69</td>\n",
       "      <td>griesemer</td>\n",
       "    </tr>\n",
       "    <tr>\n",
       "      <th>48</th>\n",
       "      <td>subpool1|COSMIC|chr9:21971188|CDKN2A|-|alterna...</td>\n",
       "      <td>696</td>\n",
       "      <td>0.350210</td>\n",
       "      <td>789</td>\n",
       "      <td>0.936537</td>\n",
       "      <td>0.327985</td>\n",
       "      <td>-24</td>\n",
       "      <td>69</td>\n",
       "      <td>griesemer</td>\n",
       "    </tr>\n",
       "    <tr>\n",
       "      <th>...</th>\n",
       "      <td>...</td>\n",
       "      <td>...</td>\n",
       "      <td>...</td>\n",
       "      <td>...</td>\n",
       "      <td>...</td>\n",
       "      <td>...</td>\n",
       "      <td>...</td>\n",
       "      <td>...</td>\n",
       "      <td>...</td>\n",
       "    </tr>\n",
       "    <tr>\n",
       "      <th>965</th>\n",
       "      <td>subpool3|COSMIC|chr12:6692231|CHD4|-|alternate...</td>\n",
       "      <td>715</td>\n",
       "      <td>0.415169</td>\n",
       "      <td>803</td>\n",
       "      <td>0.751052</td>\n",
       "      <td>0.311813</td>\n",
       "      <td>-5</td>\n",
       "      <td>83</td>\n",
       "      <td>griesemer</td>\n",
       "    </tr>\n",
       "    <tr>\n",
       "      <th>970</th>\n",
       "      <td>subpool2|COSMIC|chr10:89725051|PTEN|+|referenc...</td>\n",
       "      <td>715</td>\n",
       "      <td>0.369777</td>\n",
       "      <td>801</td>\n",
       "      <td>0.967173</td>\n",
       "      <td>0.357638</td>\n",
       "      <td>-5</td>\n",
       "      <td>81</td>\n",
       "      <td>griesemer</td>\n",
       "    </tr>\n",
       "    <tr>\n",
       "      <th>971</th>\n",
       "      <td>subpool2|COSMIC|chr10:89725051|PTEN|+|alternat...</td>\n",
       "      <td>715</td>\n",
       "      <td>0.367765</td>\n",
       "      <td>801</td>\n",
       "      <td>0.968802</td>\n",
       "      <td>0.356292</td>\n",
       "      <td>-5</td>\n",
       "      <td>81</td>\n",
       "      <td>griesemer</td>\n",
       "    </tr>\n",
       "    <tr>\n",
       "      <th>973</th>\n",
       "      <td>subpool3|rare_3utr_exac|chr22:18032552|CECR2|+...</td>\n",
       "      <td>709</td>\n",
       "      <td>0.360194</td>\n",
       "      <td>791</td>\n",
       "      <td>0.874107</td>\n",
       "      <td>0.314848</td>\n",
       "      <td>-11</td>\n",
       "      <td>71</td>\n",
       "      <td>griesemer</td>\n",
       "    </tr>\n",
       "    <tr>\n",
       "      <th>1000</th>\n",
       "      <td>subpool3|rare_3utr_exac|chr22:18032552|CECR2|+...</td>\n",
       "      <td>709</td>\n",
       "      <td>0.366883</td>\n",
       "      <td>791</td>\n",
       "      <td>0.875284</td>\n",
       "      <td>0.321127</td>\n",
       "      <td>-11</td>\n",
       "      <td>71</td>\n",
       "      <td>griesemer</td>\n",
       "    </tr>\n",
       "  </tbody>\n",
       "</table>\n",
       "<p>179 rows × 9 columns</p>\n",
       "</div>"
      ],
      "text/plain": [
       "                                                plasmid  best_donor  \\\n",
       "4     subpool3|COSMIC|chr2:25468195|DNMT3A|-|alterna...         709   \n",
       "7     subpool3|COSMIC|chr16:67063679|CBFB|+|alternat...         715   \n",
       "36    subpool3|COSMIC|chr12:6692036|CHD4|-|alternate...         709   \n",
       "47    subpool1|COSMIC|chr9:21971188|CDKN2A|-|referen...         696   \n",
       "48    subpool1|COSMIC|chr9:21971188|CDKN2A|-|alterna...         696   \n",
       "...                                                 ...         ...   \n",
       "965   subpool3|COSMIC|chr12:6692231|CHD4|-|alternate...         715   \n",
       "970   subpool2|COSMIC|chr10:89725051|PTEN|+|referenc...         715   \n",
       "971   subpool2|COSMIC|chr10:89725051|PTEN|+|alternat...         715   \n",
       "973   subpool3|rare_3utr_exac|chr22:18032552|CECR2|+...         709   \n",
       "1000  subpool3|rare_3utr_exac|chr22:18032552|CECR2|+...         709   \n",
       "\n",
       "      donor_prob  best_acceptor  acceptor_prob  probability  start_norm  \\\n",
       "4       0.372839            810       0.875063     0.326258         -11   \n",
       "7       0.463301            803       0.866394     0.401401          -5   \n",
       "36      0.624517            801       0.972630     0.607424         -11   \n",
       "47      0.329777            789       0.927512     0.305872         -24   \n",
       "48      0.350210            789       0.936537     0.327985         -24   \n",
       "...          ...            ...            ...          ...         ...   \n",
       "965     0.415169            803       0.751052     0.311813          -5   \n",
       "970     0.369777            801       0.967173     0.357638          -5   \n",
       "971     0.367765            801       0.968802     0.356292          -5   \n",
       "973     0.360194            791       0.874107     0.314848         -11   \n",
       "1000    0.366883            791       0.875284     0.321127         -11   \n",
       "\n",
       "      end_norm       mpra  \n",
       "4           90  griesemer  \n",
       "7           83  griesemer  \n",
       "36          81  griesemer  \n",
       "47          69  griesemer  \n",
       "48          69  griesemer  \n",
       "...        ...        ...  \n",
       "965         83  griesemer  \n",
       "970         81  griesemer  \n",
       "971         81  griesemer  \n",
       "973         71  griesemer  \n",
       "1000        71  griesemer  \n",
       "\n",
       "[179 rows x 9 columns]"
      ]
     },
     "execution_count": 29,
     "metadata": {},
     "output_type": "execute_result"
    }
   ],
   "source": [
    "toplot4[toplot4['best_donor']<720]"
   ]
  },
  {
   "cell_type": "code",
   "execution_count": 30,
   "id": "7c074400",
   "metadata": {},
   "outputs": [
    {
     "data": {
      "image/png": "[encoded data removed]",
      "text/plain": [
       "<Figure size 1080x1080 with 4 Axes>"
      ]
     },
     "metadata": {
      "needs_background": "light"
     },
     "output_type": "display_data"
    }
   ],
   "source": [
    "f, axs = plt.subplots(nrows = 4, figsize = (15, 15), sharex = True)\n",
    "\n",
    "for ax, data in zip(axs, [toplot1, toplot2, toplot3, toplot4]):\n",
    "    sns.histplot(\n",
    "        data = data, \n",
    "        x = 'start_norm', \n",
    "        binwidth = 2,\n",
    "        color = 'blue',\n",
    "        label = 'donor',\n",
    "        alpha = 0.8,\n",
    "        ax = ax\n",
    "    )\n",
    "\n",
    "    sns.histplot(\n",
    "        data = data, \n",
    "        x = 'end_norm', \n",
    "        binwidth = 2,\n",
    "        label = 'acceptor',\n",
    "        color = 'red',\n",
    "        alpha = 0.8,\n",
    "        ax = ax\n",
    "    )\n",
    "\n",
    "#ax1.set_xlim(-20, 220)\n",
    "#ax2.set_xlim(-20, 220)\n",
    "\n",
    "#ax1.set_ylim(19000, 20000)\n",
    "#ax2.set_ylim(0, 6000)\n",
    "\n",
    "f.savefig('PLOTS/Fig_S6C_donor_acceptor_location_spliceAI_prediction.pdf', transparent = True)"
   ]
  },
  {
   "cell_type": "markdown",
   "id": "ac14aad8",
   "metadata": {},
   "source": [
    "## Figure S6E: predicted probability of other reporter genes"
   ]
  },
  {
   "cell_type": "code",
   "execution_count": 15,
   "id": "adbeed7c",
   "metadata": {},
   "outputs": [
    {
     "data": {
      "image/png": "[encoded data removed]",
      "text/plain": [
       "<Figure size 432x288 with 1 Axes>"
      ]
     },
     "metadata": {
      "needs_background": "light"
     },
     "output_type": "display_data"
    }
   ],
   "source": [
    "p = ['eGFP', 'eGFP_M1', 'eGFP_M2', 'hRluc', 'Luc', 'mCherry', 'Nanoluc', 'Venus', 'YFP', 'luc2']\n",
    "probs = [0.65, 0.1, 0.1, 0.76, 0.01, 0.26, 0.18, 0.65, 0.65, 0.08] # spliceAI probability\n",
    "\n",
    "f, ax = plt.subplots()\n",
    "\n",
    "ax.bar(p, probs, width = 0.65)\n",
    "\n",
    "ax.set_ylim(0, 1.0)\n",
    "\n",
    "f.savefig('PLOTS/Fig_S6E_other_fluorescent_reporter.pdf', transparent = True)"
   ]
  },
  {
   "cell_type": "markdown",
   "id": "ebf451dd",
   "metadata": {},
   "source": [
    "## Figure S7: Plot expression of validated variants"
   ]
  },
  {
   "cell_type": "code",
   "execution_count": 54,
   "id": "dd763706",
   "metadata": {},
   "outputs": [
    {
     "data": {
      "image/png": "[encoded data removed]",
      "text/plain": [
       "<Figure size 1440x288 with 6 Axes>"
      ]
     },
     "metadata": {},
     "output_type": "display_data"
    }
   ],
   "source": [
    "vars_to_plot = ['rs13004845', 'rs5756095', 'rs140761234', 'rs1056801', 'rs2241871', 'rs10590']\n",
    "\n",
    "f, axs = plt.subplots(ncols = 6, figsize = (20, 4))\n",
    "\n",
    "for var, ax in zip(vars_to_plot, axs):\n",
    "    toplot = griesemer_result[griesemer_result['mpra_variant_id'].str.contains(var)]\n",
    "    data = [toplot['log2FoldChange_Ref_HEK293FT'].values[0], toplot['log2FoldChange_Alt_HEK293FT'].values[0]]\n",
    "    SE = [toplot['lfcSE_Ref_HEK293FT'].values[0], toplot['lfcSE_Alt_HEK293FT'].values[0]]\n",
    "    \n",
    "    ax.bar(['ref', 'alt'], data, width = 0.35, yerr = SE, label = var)\n",
    "    ax.legend()\n",
    "\n",
    "f.savefig('PLOTS/Fig_S7_allele_comparison.pdf', transparent = True)"
   ]
  }
 ],
 "metadata": {
  "kernelspec": {
   "display_name": "Python 3 (ipykernel)",
   "language": "python",
   "name": "python3"
  },
  "language_info": {
   "codemirror_mode": {
    "name": "ipython",
    "version": 3
   },
   "file_extension": ".py",
   "mimetype": "text/x-python",
   "name": "python",
   "nbconvert_exporter": "python",
   "pygments_lexer": "ipython3",
   "version": "3.9.7"
  }
 },
 "nbformat": 4,
 "nbformat_minor": 5
}
