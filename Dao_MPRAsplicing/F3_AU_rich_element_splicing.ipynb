{
 "cells": [
  {
   "cell_type": "code",
   "execution_count": 1,
   "id": "a839317d",
   "metadata": {},
   "outputs": [],
   "source": [
    "import pandas as pd\n",
    "\n",
    "import numpy as np\n",
    "import sys, os\n",
    "from scipy import stats\n",
    "import collections\n",
    "import math\n",
    "import statistics\n",
    "import re\n",
    "\n",
    "import matplotlib.pyplot as plt\n",
    "import seaborn as sns\n",
    "import matplotlib.patches as mpatches\n",
    "import matplotlib"
   ]
  },
  {
   "cell_type": "code",
   "execution_count": 2,
   "id": "d499253e",
   "metadata": {},
   "outputs": [],
   "source": [
    "matplotlib.rcParams['xtick.major.size'] = 8\n",
    "matplotlib.rcParams['xtick.major.width'] = 2.5\n",
    "matplotlib.rcParams['xtick.direction'] = 'out'\n",
    "matplotlib.rcParams['xtick.minor.size'] = 4\n",
    "matplotlib.rcParams['xtick.minor.width'] = 1\n",
    "matplotlib.rcParams['pdf.fonttype'] = 42\n",
    "matplotlib.rcParams['font.sans-serif'] = 'Arial'\n",
    "\n",
    "from matplotlib.patches import PathPatch\n",
    "\n",
    "def adjust_box_widths(g, fac):\n",
    "    \"\"\"\n",
    "    Adjust the withs of a seaborn-generated boxplot.\n",
    "    \"\"\"\n",
    "\n",
    "    # iterating through Axes instances\n",
    "    for ax in g.axes:\n",
    "\n",
    "        # iterating through axes artists:\n",
    "        for c in ax.get_children():\n",
    "\n",
    "            # searching for PathPatches\n",
    "            if isinstance(c, PathPatch):\n",
    "                # getting current width of box:\n",
    "                p = c.get_path()\n",
    "                verts = p.vertices\n",
    "                verts_sub = verts[:-1]\n",
    "                xmin = np.min(verts_sub[:, 0])\n",
    "                xmax = np.max(verts_sub[:, 0])\n",
    "                xmid = 0.5*(xmin+xmax)\n",
    "                xhalf = 0.5*(xmax - xmin)\n",
    "\n",
    "                # setting new width of box\n",
    "                xmin_new = xmid-fac*xhalf\n",
    "                xmax_new = xmid+fac*xhalf\n",
    "                verts_sub[verts_sub[:, 0] == xmin, 0] = xmin_new\n",
    "                verts_sub[verts_sub[:, 0] == xmax, 0] = xmax_new\n",
    "\n",
    "                # setting new width of median line\n",
    "                for l in ax.lines:\n",
    "                    if np.all(l.get_xdata() == [xmin, xmax]):\n",
    "                        l.set_xdata([xmin_new, xmax_new])"
   ]
  },
  {
   "cell_type": "markdown",
   "id": "61a3a774",
   "metadata": {},
   "source": [
    "## Figure 3B: comparison between reporters with ARE and without ARE in 3'UTR"
   ]
  },
  {
   "cell_type": "code",
   "execution_count": 3,
   "id": "336a3217",
   "metadata": {},
   "outputs": [
    {
     "data": {
      "text/plain": [
       "[Text(0, 0.0, '0%'), Text(0, 0.5, '50%'), Text(0, 1.0, '100%')]"
      ]
     },
     "execution_count": 3,
     "metadata": {},
     "output_type": "execute_result"
    },
    {
     "data": {
      "image/png": "[encoded data removed]",
      "text/plain": [
       "<Figure size 288x288 with 1 Axes>"
      ]
     },
     "metadata": {
      "needs_background": "light"
     },
     "output_type": "display_data"
    }
   ],
   "source": [
    "# import splicing quantification data\n",
    "HELA = pd.read_csv('ptreseq_splicing_quantification/HELA_2rep_fraction.txt', sep = '\\t')\n",
    "\n",
    "HELA['A'] = HELA['RE'].apply(lambda g: 'A' if 'A' in g else 'no_A')\n",
    "HELA['spliced_fraction'] = 1 - HELA['fraction']\n",
    "toplot = HELA[HELA['best_category']=='full_length']\n",
    "\n",
    "f, ax = plt.subplots(figsize = (4, 4))\n",
    "sns.stripplot(\n",
    "    data = toplot, \n",
    "    x = 'A', \n",
    "    y = 'spliced_fraction', \n",
    "    alpha = 0.5,\n",
    "    palette = ['grey', 'red'],\n",
    "    ax = ax\n",
    ")\n",
    "  \n",
    "ax.set_xlabel('')\n",
    "ax.set_ylabel('Observed splicing fraction')\n",
    "\n",
    "ax.set_yticks([0, 0.5, 1.0])\n",
    "ax.set_yticklabels(['0%', '50%', '100%'])\n",
    "\n",
    "#f.savefig('PLOTS/Fig_3B_ARE_vs_noARE.pdf', transparent = True)"
   ]
  },
  {
   "cell_type": "markdown",
   "id": "4f42ac58",
   "metadata": {},
   "source": [
    "## Figure 3C and Figure S3A: relationship between number of ARE copy and splicing efficieny at different acceptors"
   ]
  },
  {
   "cell_type": "code",
   "execution_count": 4,
   "id": "133240c1",
   "metadata": {},
   "outputs": [],
   "source": [
    "# import splicing data\n",
    "hela = pd.read_csv('ptreseq_splicing_quantification/HELA_2rep_fraction.txt', sep = '\\t')\n",
    "\n",
    "# rename donor to GFP, alt-GFP, PRE, or others\n",
    "def rename_donor(isoform):\n",
    "    if isoform == 'full_length':\n",
    "        return np.nan, np.nan\n",
    "    elif 'GTACAA_132' in isoform:\n",
    "        return 'GFP', 132\n",
    "    elif 'CGAGCT_126' in isoform:\n",
    "        return 'alt-GFP', 126\n",
    "    elif 'CGACTT_171' in isoform:\n",
    "        return 'PRE', 171\n",
    "    elif 'CGACTT_204' in isoform:\n",
    "        return 'PRE', 204\n",
    "    else:\n",
    "        return 'others', float(isoform.split('_')[1])\n",
    "    \n",
    "hela['donor_name'], hela['donor_pos'] = zip(*hela['best_category'].apply(lambda g: rename_donor(g)))\n",
    "\n",
    "# group all donor together\n",
    "hela_donor = hela.groupby(['RE', 'donor_name'])['fraction'].sum().reset_index()\n",
    "\n",
    "# count number of ARE module\n",
    "hela_donor['Acount'] = hela_donor['RE'].apply(lambda g: g.count('A'))\n",
    "\n",
    "# only consider isoforms with fraction more than 0%\n",
    "hela_donor = hela_donor[hela_donor['fraction']>0.00]\n",
    "\n",
    "# get acceptor names\n",
    "def get_acceptor_loc(RE, isoform):\n",
    "    \n",
    "    if isoform == 'full_length':\n",
    "        return np.nan, np.nan, np.nan\n",
    "    else:\n",
    "        spl = isoform.split('_')\n",
    "        loc = float(spl[3])\n",
    "        acc = 'other'\n",
    "        module = 'other'\n",
    "        \n",
    "        if len(RE) == 4 and RE != 'Dna2':\n",
    "            if 157 < loc < 190:\n",
    "                module = 1\n",
    "                acc = RE[0]\n",
    "            elif 190 < loc < 223:\n",
    "                module = 2\n",
    "                acc = RE[1]\n",
    "            elif 223 < loc < 256:\n",
    "                module = 3\n",
    "                acc = RE[2]\n",
    "            elif 256 < loc < 290:\n",
    "                module = 4\n",
    "                acc = RE[3]\n",
    "            elif 290 < loc < 334:\n",
    "                module = 'spacer'\n",
    "                acc = 'spacer'\n",
    "            \n",
    "        return acc, loc, module\n",
    "    \n",
    "        \n",
    "hela['acceptor_name'], hela['acceptor_pos'], hela['acceptor_module'] = zip(*hela.apply(\n",
    "    lambda g: get_acceptor_loc(g['RE'], g['best_category']), axis = 1)\n",
    "                                                 )\n",
    "# group all acceptors together\n",
    "hela_acc = hela.groupby(['RE', 'acceptor_name'])['fraction'].sum().reset_index()\n",
    "\n",
    "# count number of ARE module\n",
    "hela_acc['Acount'] = hela_acc['RE'].apply(lambda g: g.count('A'))\n",
    "\n",
    "# only consider isoforms with fraction more than 0%\n",
    "hela_acc = hela_acc[hela_acc['fraction']>0.00]"
   ]
  },
  {
   "cell_type": "code",
   "execution_count": 7,
   "id": "f5fb82ca",
   "metadata": {},
   "outputs": [
    {
     "data": {
      "image/png": "[encoded data removed]",
      "text/plain": [
       "<Figure size 1080x216 with 5 Axes>"
      ]
     },
     "metadata": {
      "needs_background": "light"
     },
     "output_type": "display_data"
    }
   ],
   "source": [
    "f, axs = plt.subplots(ncols = 5, figsize = (15, 3), sharey = True)\n",
    "\n",
    "for ax, acc, color in zip(axs, ['spacer', 'p', 'B', 'S', 'L'], ['grey', 'salmon', 'blue', 'pink', 'green']):\n",
    "    sns.boxplot(\n",
    "        data = hela_acc[hela_acc['acceptor_name']==acc], \n",
    "        x = 'Acount', \n",
    "        y = 'fraction', \n",
    "        order = [1, 2, 3, 4],\n",
    "        flierprops = {'marker': 'o'},\n",
    "        color = color,\n",
    "        ax = ax\n",
    "    )\n",
    "\n",
    "    ax.set_xlabel(f'{acc} acceptor')\n",
    "    ax.set_ylabel('splicing efficiency')\n",
    "    \n",
    "    ax.set_ylim(-0.05, 1.05)\n",
    "   \n",
    "    ax.set_yticks([0, 0.2, 0.4, 0.6, 0.8, 1.0])\n",
    "    ax.set_yticklabels(['0%', '20%', '40%', '60%', '80%', '100%'])\n",
    "\n",
    "\n",
    "#f.savefig('PLOTS/Fig_3C_S3A_count_vs_spliced_fraction_by_acceptor.pdf', transparent = True)"
   ]
  },
  {
   "cell_type": "markdown",
   "id": "fd55f775",
   "metadata": {},
   "source": [
    "## Figure 3E: exonic ARE represses downstream splice donor"
   ]
  },
  {
   "cell_type": "code",
   "execution_count": 6,
   "id": "34b15d8f",
   "metadata": {},
   "outputs": [],
   "source": [
    "# select reports with PRE module in pos 2, with and without ARE module in pos 1\n",
    "patterns = {\n",
    "    '[BLSp]pA[BLSp]': 'noAup',\n",
    "    '[BLSp]p[BLSp]A': 'noAup',\n",
    "    '[BLSp]pAA': 'noAup',\n",
    "    'ApA[BLSp]': 'Aup',\n",
    "    'Ap[BLSp]A': 'Aup',\n",
    "    'ApAA': 'Aup',\n",
    "}\n",
    "\n",
    "\n",
    "def match_pattern(RE):\n",
    "    for pattern, name in patterns.items():\n",
    "        if re.search(pattern, RE):\n",
    "            return name\n",
    "        \n",
    "    return '****'\n",
    "\n",
    "hela_donor['pattern'] = hela_donor['RE'].apply(lambda g: match_pattern(g))"
   ]
  },
  {
   "cell_type": "code",
   "execution_count": 7,
   "id": "a4e608d1",
   "metadata": {},
   "outputs": [
    {
     "data": {
      "image/png": "[encoded data removed]",
      "text/plain": [
       "<Figure size 216x216 with 1 Axes>"
      ]
     },
     "metadata": {
      "needs_background": "light"
     },
     "output_type": "display_data"
    }
   ],
   "source": [
    "f, ax = plt.subplots(figsize = (3, 3))\n",
    "\n",
    "sns.boxplot(\n",
    "    data = hela_donor, \n",
    "    x = 'pattern', \n",
    "    y = 'fraction', \n",
    "    order = ['Aup', 'noAup'],\n",
    "    hue = 'donor_name', \n",
    "    hue_order = ['GFP', 'PRE'],\n",
    "    dodge = True,\n",
    "    palette = ['green', 'yellow'],\n",
    "    width = 0.5,\n",
    "    flierprops = {'marker': 'o'},\n",
    "    ax = ax\n",
    ")\n",
    "\n",
    "ax.set_yticks([0, 0.2, 0.4, 0.6, 0.8, 1.0])\n",
    "ax.set_yticklabels(['0%', '20%', '40%', '60%', '80%', '100%'])\n",
    "ax.set_ylabel('splicing efficiency')\n",
    "\n",
    "f.savefig('PLOTS/Fig_3E_ARE_upstream_downstream.pdf')"
   ]
  },
  {
   "cell_type": "markdown",
   "id": "c5228126",
   "metadata": {},
   "source": [
    "## Figure 3F: ARE functions as a polypyrimidine tract"
   ]
  },
  {
   "cell_type": "code",
   "execution_count": 12,
   "id": "ddfc7193",
   "metadata": {},
   "outputs": [],
   "source": [
    "# group all acceptors together\n",
    "hela_lastARE = hela.groupby(['RE', 'acceptor_module'])['fraction'].sum().reset_index()\n",
    "hela_lastARE = hela_lastARE[hela_lastARE['fraction']>0.00]\n",
    "\n",
    "# get the 3' most ARE\n",
    "def get_3most_ARE(RE):\n",
    "    if RE[3] == 'A':\n",
    "        return 4\n",
    "    elif RE[2] == 'A':\n",
    "        return 3\n",
    "    elif RE[1] == 'A':\n",
    "        return 2\n",
    "    elif RE[1] == 'A':\n",
    "        return 1\n",
    "    else:\n",
    "        return 0\n",
    "    \n",
    "hela_lastARE['lastARE'] = hela_lastARE['RE'].apply(lambda g: get_3most_ARE(g))"
   ]
  },
  {
   "cell_type": "code",
   "execution_count": 14,
   "id": "f2741821",
   "metadata": {},
   "outputs": [
    {
     "data": {
      "image/png": "[encoded data removed]",
      "text/plain": [
       "<Figure size 360x576 with 4 Axes>"
      ]
     },
     "metadata": {
      "needs_background": "light"
     },
     "output_type": "display_data"
    }
   ],
   "source": [
    "f, axs = plt.subplots(nrows = 4, figsize = (5, 8), sharex = True)\n",
    "\n",
    "for lastARE, ax in zip([1, 2, 3, 4], axs):\n",
    "    sns.boxplot(\n",
    "        data = hela_lastARE[hela_lastARE['lastARE']==lastARE], \n",
    "        x = 'acceptor_module', \n",
    "        y = 'fraction', \n",
    "        order = [1, 2, 3, 4, 'spacer'],\n",
    "        width = 0.5,\n",
    "        color = 'darkgrey',\n",
    "        flierprops = {'marker': 'o'},\n",
    "        ax = ax\n",
    "    )\n",
    "    \n",
    "    ax.set_ylim(-0.05, 1.05)\n",
    "    ax.set_xlabel('')\n",
    "    ax.set_ylabel('')\n",
    "\n",
    "    ax.set_yticks([0, 0.5, 1.0])\n",
    "    ax.set_yticklabels(['0%', '50%', '100%'])\n",
    "    ax.set_ylabel('splicing efficiency')\n",
    "    \n",
    "f.savefig('PLOTS/Fig_3F_last_ARE_boxplot.pdf', transparent = True)"
   ]
  },
  {
   "cell_type": "markdown",
   "id": "9de63736",
   "metadata": {},
   "source": [
    "## Figure 3G: exonic ARE represses upstream splice acceptor"
   ]
  },
  {
   "cell_type": "code",
   "execution_count": 8,
   "id": "5820d3b4",
   "metadata": {},
   "outputs": [],
   "source": [
    "# get reporters with ARE in pos 2, with and without ARE in pos 4\n",
    "patterns = {\n",
    "    '[BLSpA]A[BLSp][BLSp]': 'noARE4',\n",
    "    '[BLSpA]A[BLSp]A': 'ARE4',\n",
    "}\n",
    "\n",
    "def match_pattern(RE):\n",
    "    for pattern, name in patterns.items():\n",
    "        if re.search(pattern, RE):\n",
    "            return name\n",
    "        \n",
    "    return '****'\n",
    "\n",
    "hela_acc['pattern'] = hela_acc['RE'].apply(lambda g: match_pattern(g))\n",
    "\n",
    "# change acceptor name (L, P, S, and B) to RE but keep spacer\n",
    "hela_acc['acceptor_name'] = hela_acc['acceptor_name'].apply(lambda g: 'RE' if g != 'spacer' else g)\n",
    "hela_acc = hela_acc[hela_acc['fraction']>0.01] # exclude reporters less than 1% spliced"
   ]
  },
  {
   "cell_type": "code",
   "execution_count": 9,
   "id": "8f66f9c1",
   "metadata": {},
   "outputs": [
    {
     "data": {
      "image/png": "[encoded data removed]",
      "text/plain": [
       "<Figure size 432x288 with 1 Axes>"
      ]
     },
     "metadata": {
      "needs_background": "light"
     },
     "output_type": "display_data"
    }
   ],
   "source": [
    "f, ax = plt.subplots()\n",
    "\n",
    "sns.boxplot(\n",
    "    data = hela_acc, \n",
    "    x = 'pattern', \n",
    "    order = ['noARE4', 'ARE4'],\n",
    "    y = 'fraction', \n",
    "    hue = 'acceptor_name', \n",
    "    hue_order = ['RE', 'spacer'],\n",
    "    palette = ['purple', 'grey'],\n",
    "    ax = ax\n",
    ")\n",
    "\n",
    "ax.set_yticks([0, 0.2, 0.4, 0.6, 0.8, 1.0])\n",
    "ax.set_yticklabels(['0%', '20%', '40%', '60%', '80%', '100%'])\n",
    "ax.set_ylabel('splicing efficiency')\n",
    "\n",
    "ax.legend(bbox_to_anchor = (1, 1))\n",
    "\n",
    "f.savefig('PLOTS/Fig_3H_RE_vs_spacer_acceptor.pdf', transparent = True)"
   ]
  },
  {
   "cell_type": "markdown",
   "id": "9e8d9529",
   "metadata": {},
   "source": [
    "## Figure S3C: comparison between continous and non-continous ARE tracks"
   ]
  },
  {
   "cell_type": "code",
   "execution_count": 18,
   "id": "62de0693",
   "metadata": {},
   "outputs": [],
   "source": [
    "# classify reporters as continuous or non-continuous\n",
    "patterns = {\n",
    "    'A[BLSp]A[BLSp]': 'noncont',\n",
    "    '[BLSp]AA[BLSp]': 'cont',\n",
    "    'AA[BLSp][BLSp]': 'cont',\n",
    "}\n",
    "\n",
    "\n",
    "def match_pattern(RE):\n",
    "    for pattern, name in patterns.items():\n",
    "        if re.search(pattern, RE):\n",
    "            return name\n",
    "        \n",
    "    return '****'\n",
    "\n",
    "HELA['pattern'] = HELA['RE'].map(lambda g: match_pattern(g))"
   ]
  },
  {
   "cell_type": "code",
   "execution_count": 20,
   "id": "854114d1",
   "metadata": {},
   "outputs": [
    {
     "name": "stderr",
     "output_type": "stream",
     "text": [
      "/var/folders/ly/fgzs9d8s7txdbr22383tmh0c0000gr/T/ipykernel_6505/210895335.py:41: DeprecationWarning: elementwise comparison failed; this will raise an error in the future.\n",
      "  if np.all(l.get_xdata() == [xmin, xmax]):\n"
     ]
    },
    {
     "data": {
      "image/png": "[encoded data removed]",
      "text/plain": [
       "<Figure size 288x216 with 1 Axes>"
      ]
     },
     "metadata": {
      "needs_background": "light"
     },
     "output_type": "display_data"
    }
   ],
   "source": [
    "f, ax = plt.subplots(figsize = (4, 3))\n",
    "\n",
    "sns.boxplot(\n",
    "    data = HELA[HELA['spliced_fraction']>0.0], \n",
    "    x = 'pattern', \n",
    "    y = 'spliced_fraction', \n",
    "    order = ['cont', 'noncont'],\n",
    "    flierprops = {\"marker\": \"o\"},\n",
    "    color = 'lightgrey',\n",
    "    ax = ax\n",
    ")\n",
    "\n",
    "ax.set_yticks([0, 0.2, 0.4, 0.6, 0.8, 1.0])\n",
    "ax.set_yticklabels(['0%', '20%', '40%', '60%', '80%', '100%'])\n",
    "ax.set_ylabel('splicing efficiency')\n",
    "\n",
    "adjust_box_widths(f, 0.65)\n",
    "\n",
    "ax.set_ylim(-0.05, 1.05)\n",
    "\n",
    "f.savefig('PLOTS/Fig_S3C_non_continuous_ARE_track.pdf', transparent = True)"
   ]
  },
  {
   "cell_type": "markdown",
   "id": "e1d5a9f6",
   "metadata": {},
   "source": [
    "## Figure S3E: intronic ARE enhances PRE donor"
   ]
  },
  {
   "cell_type": "code",
   "execution_count": 21,
   "id": "75333bed",
   "metadata": {},
   "outputs": [],
   "source": [
    "# Classify reporters as having 0-3 ARE dowstream of PRE module\n",
    "patterns = {\n",
    "    '[BLSp][BLSp]pA': '****',\n",
    "    'p[BLSp][BLSp][BLSp]': 'p+0A',\n",
    "    'ppA[BLSp]': 'p+1A',\n",
    "    'pA[BLSp][BLSp]': 'p+1A', \n",
    "    'p[BLSp]A[BLSp]': 'p+1A',\n",
    "    'p[BLSp][BLSp]A': 'p+1A', \n",
    "    'pAA[BLSp]': 'p+2A',\n",
    "    'pA[BLSp]A': 'p+2A', \n",
    "    'p[BLSp]AA': 'p+2A',\n",
    "    'pAAA': 'p+3A',\n",
    "}\n",
    "\n",
    "\n",
    "def match_pattern(RE):\n",
    "    for pattern, name in patterns.items():\n",
    "        if re.search(pattern, RE):\n",
    "            return name\n",
    "        \n",
    "    return '****'\n",
    "\n",
    "hela_donor['pattern'] = hela_donor['RE'].apply(lambda g: match_pattern(g))"
   ]
  },
  {
   "cell_type": "code",
   "execution_count": 23,
   "id": "fb013547",
   "metadata": {},
   "outputs": [
    {
     "data": {
      "image/png": "[encoded data removed]",
      "text/plain": [
       "<Figure size 432x288 with 1 Axes>"
      ]
     },
     "metadata": {
      "needs_background": "light"
     },
     "output_type": "display_data"
    }
   ],
   "source": [
    "f, ax = plt.subplots()\n",
    "\n",
    "sns.boxplot(\n",
    "    data = hela_donor, \n",
    "    x = 'pattern', \n",
    "    y = 'fraction', \n",
    "    order = ['p+0A', 'p+1A', 'p+2A', 'p+3A'],\n",
    "    hue = 'donor_name', \n",
    "    hue_order = ['GFP', 'PRE'],\n",
    "    dodge = True,\n",
    "    palette = ['green', 'yellow'],\n",
    "    width = 0.5,\n",
    "    flierprops = {'marker': 'o'},\n",
    "    ax = ax\n",
    ")\n",
    "\n",
    "ax.set_ylim(-0.05, 1.05)\n",
    "\n",
    "ax.set_yticks([0, 0.2, 0.4, 0.6, 0.8, 1.0])\n",
    "ax.set_yticklabels(['0%', '20%', '40%', '60%', '80%', '100%'])\n",
    "ax.set_ylabel('splicing efficiency')\n",
    "\n",
    "f.savefig('PLOTS/Fig_S3E_PRE_impact_on_donor.pdf')"
   ]
  }
 ],
 "metadata": {
  "kernelspec": {
   "display_name": "Python 3 (ipykernel)",
   "language": "python",
   "name": "python3"
  },
  "language_info": {
   "codemirror_mode": {
    "name": "ipython",
    "version": 3
   },
   "file_extension": ".py",
   "mimetype": "text/x-python",
   "name": "python",
   "nbconvert_exporter": "python",
   "pygments_lexer": "ipython3",
   "version": "3.9.7"
  }
 },
 "nbformat": 4,
 "nbformat_minor": 5
}
