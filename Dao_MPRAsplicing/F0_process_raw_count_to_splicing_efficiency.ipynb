{
 "cells": [
  {
   "cell_type": "code",
   "execution_count": 1,
   "id": "6370c1c0",
   "metadata": {},
   "outputs": [],
   "source": [
    "import pandas as pd\n",
    "import sys, os\n",
    "import statistics"
   ]
  },
  {
   "cell_type": "code",
   "execution_count": 2,
   "id": "be67cb11",
   "metadata": {},
   "outputs": [],
   "source": [
    "def process_raw_count(fn):\n",
    "    df = pd.read_csv(fn, sep = '\\t')\n",
    "    # only include full length and spliced reads\n",
    "    df = df[\n",
    "        (df['best_category'].str.contains('full_length'))|\n",
    "        (df['best_category'].str.contains('spliced'))\n",
    "            ].reset_index(drop = True)\n",
    "    \n",
    "    df['best_category'] = df['best_category'].apply(lambda g: g.split('-')[1] if 'spliced' in g else g)\n",
    "    \n",
    "    # filter out barcodes with less than 10 reads\n",
    "    total_count = df.groupby('reporter')['count'].sum()\n",
    "    reporter_less_than_10 = total_count[total_count<=10].index\n",
    "    filtered_df = df[~df['reporter'].isin(reporter_less_than_10)].reset_index(drop = True)\n",
    "    \n",
    "    # calculate fraction for each isoform\n",
    "    filtered_df['fraction'] = filtered_df.groupby('reporter')['count'].apply(lambda g: g/g.sum())\n",
    "    filtered_df['RE'] = filtered_df['reporter'].apply(lambda g: g.split('_')[0])\n",
    "    \n",
    "    return filtered_df\n",
    "\n",
    "def filter_barcode_count(df, threshold):\n",
    "    # filter out REs with less than 5 internal barcode replicates\n",
    "    full_df = df[df['best_category']=='full_length'] \n",
    "    RE_count = full_df['RE'].value_counts()\n",
    "    reporter_less_than_threshold = RE_count[RE_count<=threshold].index\n",
    "    filtered_df = df[~df['RE'].isin(reporter_less_than_threshold)].reset_index(drop = True)\n",
    "    return filtered_df"
   ]
  },
  {
   "cell_type": "code",
   "execution_count": 3,
   "id": "f269fe85",
   "metadata": {},
   "outputs": [],
   "source": [
    "dna1count = process_raw_count('ptreseq_raw_count/DNA-1_raw_count.txt')\n",
    "dna2count = process_raw_count('ptreseq_raw_count/DNA-2_raw_count.txt')\n",
    "\n",
    "dna = pd.concat([dna1count, dna2count]) # concatenate data frames\n",
    "dna_filtered = filter_barcode_count(dna, 5)\n",
    "# calculate median splicing fraction for each reporters across internal barcode replicates\n",
    "dna_med = dna_filtered.groupby(['RE', 'best_category'])['fraction'].median().to_frame().reset_index()\n",
    "\n",
    "dna_med.to_csv('ptreseq_splicing_quantification/DNA_2rep_fraction.txt', sep = '\\t', index = False)"
   ]
  },
  {
   "cell_type": "code",
   "execution_count": 4,
   "id": "4768e24a",
   "metadata": {},
   "outputs": [],
   "source": [
    "hela1count = process_raw_count('ptreseq_raw_count/HELA-1_raw_count.txt')\n",
    "hela2count = process_raw_count('ptreseq_raw_count/HELA-2_raw_count.txt')\n",
    "\n",
    "hela = pd.concat([hela1count, hela2count]) # concatenate data frames\n",
    "hela_filtered = filter_barcode_count(hela, 5)\n",
    "# calculate median splicing fraction for each reporters across internal barcode replicates\n",
    "hela_med = hela_filtered.groupby(['RE', 'best_category'])['fraction'].median().to_frame().reset_index()\n",
    "\n",
    "hela_med.to_csv('ptreseq_splicing_quantification/HELA_2rep_fraction.txt', sep = '\\t', index = False)"
   ]
  },
  {
   "cell_type": "code",
   "execution_count": 5,
   "id": "45abdcbe",
   "metadata": {},
   "outputs": [],
   "source": [
    "mara1count = process_raw_count('ptreseq_raw_count/ETOH-1_raw_count.txt')\n",
    "mara2count = process_raw_count('ptreseq_raw_count/ETOH-2_raw_count.txt')\n",
    "\n",
    "mara = pd.concat([mara1count, mara2count]) # concatenate data frames\n",
    "mara_filtered = filter_barcode_count(mara, 5)\n",
    "# calculate median splicing fraction for each reporters across internal barcode replicates\n",
    "mara_med = mara_filtered.groupby(['RE', 'best_category'])['fraction'].median().to_frame().reset_index()\n",
    "\n",
    "mara_med.to_csv('ptreseq_splicing_quantification/HELA-mara_2rep_fraction.txt', sep = '\\t', index = False)"
   ]
  },
  {
   "cell_type": "code",
   "execution_count": 6,
   "id": "8d20c868",
   "metadata": {},
   "outputs": [],
   "source": [
    "hek1count = process_raw_count('ptreseq_raw_count/HEK-1_raw_count.txt')\n",
    "hek2count = process_raw_count('ptreseq_raw_count/HEK-2_raw_count.txt')\n",
    "hek3count = process_raw_count('ptreseq_raw_count/HEK-3_raw_count.txt')\n",
    "\n",
    "hek = pd.concat([hek1count, hek2count, hek3count]) # concatenate data frames\n",
    "hek_filtered = filter_barcode_count(hek, 5)\n",
    "# calculate median splicing fraction for each reporters across internal barcode replicates\n",
    "hek_med = hek_filtered.groupby(['RE', 'best_category'])['fraction'].median().to_frame().reset_index()\n",
    "\n",
    "hek_med.to_csv('ptreseq_splicing_quantification/HEK_3rep_fraction.txt', sep = '\\t', index = False)"
   ]
  },
  {
   "cell_type": "code",
   "execution_count": 7,
   "id": "d84aba33",
   "metadata": {},
   "outputs": [],
   "source": [
    "sh1count = process_raw_count('ptreseq_raw_count/SH-1_raw_count.txt')\n",
    "sh2count = process_raw_count('ptreseq_raw_count/SH-2_raw_count.txt')\n",
    "sh3count = process_raw_count('ptreseq_raw_count/SH-3_raw_count.txt')\n",
    "\n",
    "sh = pd.concat([sh1count, sh2count, sh3count]) # concatenate data frames\n",
    "sh_filtered = filter_barcode_count(sh, 5)\n",
    "# calculate median splicing fraction for each reporters across internal barcode replicates\n",
    "sh_med = sh_filtered.groupby(['RE', 'best_category'])['fraction'].median().to_frame().reset_index()\n",
    "\n",
    "sh_med.to_csv('ptreseq_splicing_quantification/SH_3rep_fraction.txt', sep = '\\t', index = False)"
   ]
  },
  {
   "cell_type": "code",
   "execution_count": 8,
   "id": "e389ea57",
   "metadata": {},
   "outputs": [],
   "source": [
    "u871count = process_raw_count('ptreseq_raw_count/U87-1_raw_count.txt')\n",
    "u872count = process_raw_count('ptreseq_raw_count/U87-2_raw_count.txt')\n",
    "u873count = process_raw_count('ptreseq_raw_count/U87-3_raw_count.txt')\n",
    "\n",
    "u87 = pd.concat([u871count, u872count, u873count])\n",
    "u87_filtered = filter_barcode_count(u87, 5)\n",
    "# calculate median splicing fraction for each reporters across internal barcode replicates\n",
    "u87_med = u87_filtered.groupby(['RE', 'best_category'])['fraction'].median().to_frame().reset_index()\n",
    "\n",
    "u87_med.to_csv('ptreseq_splicing_quantification/U87_3rep_fraction.txt', sep = '\\t', index = False)"
   ]
  }
 ],
 "metadata": {
  "kernelspec": {
   "display_name": "Python 3 (ipykernel)",
   "language": "python",
   "name": "python3"
  },
  "language_info": {
   "codemirror_mode": {
    "name": "ipython",
    "version": 3
   },
   "file_extension": ".py",
   "mimetype": "text/x-python",
   "name": "python",
   "nbconvert_exporter": "python",
   "pygments_lexer": "ipython3",
   "version": "3.9.7"
  }
 },
 "nbformat": 4,
 "nbformat_minor": 5
}
