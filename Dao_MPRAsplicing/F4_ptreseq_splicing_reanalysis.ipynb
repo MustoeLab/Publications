{
 "cells": [
  {
   "cell_type": "code",
   "execution_count": 1,
   "id": "9889ed01",
   "metadata": {},
   "outputs": [],
   "source": [
    "import pandas as pd\n",
    "\n",
    "import numpy as np\n",
    "import sys, os\n",
    "from scipy import stats\n",
    "import collections\n",
    "import math\n",
    "import statistics\n",
    "import re\n",
    "\n",
    "import matplotlib.pyplot as plt\n",
    "import seaborn as sns\n",
    "import matplotlib.patches as mpatches\n",
    "import matplotlib\n",
    "\n",
    "import statsmodels.api as sm\n",
    "import statsmodels.stats.multitest as statsmulti\n",
    "\n",
    "matplotlib.rcParams['xtick.major.size'] = 8\n",
    "matplotlib.rcParams['xtick.major.width'] = 2.5\n",
    "matplotlib.rcParams['xtick.direction'] = 'out'\n",
    "matplotlib.rcParams['xtick.minor.size'] = 4\n",
    "matplotlib.rcParams['xtick.minor.width'] = 1\n",
    "matplotlib.rcParams['pdf.fonttype'] = 42\n",
    "matplotlib.rcParams['font.sans-serif'] = 'Arial'"
   ]
  },
  {
   "cell_type": "code",
   "execution_count": 2,
   "id": "7b6b6605",
   "metadata": {},
   "outputs": [],
   "source": [
    "from matplotlib.patches import PathPatch\n",
    "\n",
    "def adjust_box_widths(g, fac):\n",
    "    \"\"\"\n",
    "    Adjust the widths of a seaborn-generated boxplot.\n",
    "    \"\"\"\n",
    "\n",
    "    # iterating through Axes instances\n",
    "    for ax in g.axes:\n",
    "\n",
    "        # iterating through axes artists:\n",
    "        for c in ax.get_children():\n",
    "\n",
    "            # searching for PathPatches\n",
    "            if isinstance(c, PathPatch):\n",
    "                # getting current width of box:\n",
    "                p = c.get_path()\n",
    "                verts = p.vertices\n",
    "                verts_sub = verts[:-1]\n",
    "                xmin = np.min(verts_sub[:, 0])\n",
    "                xmax = np.max(verts_sub[:, 0])\n",
    "                xmid = 0.5*(xmin+xmax)\n",
    "                xhalf = 0.5*(xmax - xmin)\n",
    "\n",
    "                # setting new width of box\n",
    "                xmin_new = xmid-fac*xhalf\n",
    "                xmax_new = xmid+fac*xhalf\n",
    "                verts_sub[verts_sub[:, 0] == xmin, 0] = xmin_new\n",
    "                verts_sub[verts_sub[:, 0] == xmax, 0] = xmax_new\n",
    "\n",
    "                # setting new width of median line\n",
    "                for l in ax.lines:\n",
    "                    if np.array_equal(l.get_xdata(), [xmin, xmax]):\n",
    "                        l.set_xdata([xmin_new, xmax_new])"
   ]
  },
  {
   "cell_type": "markdown",
   "id": "49ca51a0",
   "metadata": {},
   "source": [
    "## Evaluate impact of splicing on measurements from original PTRE-seq study"
   ]
  },
  {
   "cell_type": "code",
   "execution_count": 3,
   "id": "7ba788f9",
   "metadata": {},
   "outputs": [],
   "source": [
    "# Import splicing measurements\n",
    "HELA = pd.read_csv('ptreseq_splicing_quantification/HELA_2rep_fraction.txt', sep = '\\t')"
   ]
  },
  {
   "cell_type": "code",
   "execution_count": 4,
   "id": "8283c645",
   "metadata": {},
   "outputs": [],
   "source": [
    "# Import expression measurements from original PTRE-seq study\n",
    "# read RNA expression data\n",
    "ptreseq_rna_count = pd.read_excel('data/sup3_readscount_HeLa_total.xlsx')\n",
    "ptreseq_rna_count = ptreseq_rna_count[ptreseq_rna_count['counts_RNA']>10]\n",
    "\n",
    "# read plasmid\n",
    "ptreseq_dna_count = pd.read_excel('data/sup2_readscount_plasmid.xlsx')\n",
    "ptreseq_dna_count = ptreseq_dna_count.groupby(['Barcode'])['counts_Plasmid'].mean().reset_index()\n",
    "\n",
    "# read barcode\n",
    "bc = pd.read_csv('data/barcode_indexed.txt', sep = '\\t', names = ['reporter', 'Barcode'])\n",
    "\n",
    "# calculate median expression\n",
    "# merge\n",
    "ptreseq_count = ptreseq_rna_count.merge(ptreseq_dna_count, on = ['Barcode'], suffixes = ['_RNA', '_DNA'])\n",
    "ptreseq_count = ptreseq_count.merge(bc, on = 'Barcode')\n",
    "\n",
    "# rename some plasmids\n",
    "rename_dict = {'Lpcx1': '7pcx1', 'Lpcx2': '7pcx2', 'Lpcx4': '7pcx4'}\n",
    "\n",
    "def rename_f(p):\n",
    "    if p in rename_dict.keys():\n",
    "        return rename_dict[p]\n",
    "    else:\n",
    "        return p\n",
    "    \n",
    "ptreseq_count['RE'] = ptreseq_count['RE_Identity'].apply(lambda g: rename_f(g))\n",
    "\n",
    "# normalize raw count by plasmid count\n",
    "ptreseq_count['RNA/DNA'] = ptreseq_count['counts_RNA']/ptreseq_count['counts_Plasmid']\n",
    "\n",
    "# Calculate BBBB median and normalize expression\n",
    "BBBB = ptreseq_count[ptreseq_count['RE']=='BBBB']\n",
    "median_exp = BBBB['RNA/DNA'].median()\n",
    "\n",
    "# normalized by median of BBBB normalized count\n",
    "ptreseq_count['L2FC'] = np.log2(ptreseq_count['RNA/DNA']/median_exp)\n",
    "\n",
    "# calculate median\n",
    "ptreseq_count_median = ptreseq_count.groupby('RE')['L2FC'].median()\n",
    "\n",
    "###################################################################################################################\n",
    "# calculate median translation efficiency\n",
    "# read polysome association data\n",
    "ptreseq_rna_TE = pd.read_excel('data/sup4_readscount_HeLa_polysome.xlsx')\n",
    "ptreseq_rna_TE = ptreseq_rna_TE[ptreseq_rna_TE['counts_PARNA']>10]\n",
    "\n",
    "# merge\n",
    "ptreseq_TE = ptreseq_rna_TE.merge(ptreseq_dna_count, on = ['Barcode'], suffixes = ['_RNA', '_DNA'])\n",
    "ptreseq_TE = ptreseq_TE.merge(bc, on = 'Barcode')\n",
    "\n",
    "# rename some plasmids\n",
    "rename_dict = {'Lpcx1': '7pcx1', 'Lpcx2': '7pcx2', 'Lpcx4': '7pcx4'}\n",
    "\n",
    "def rename_f(p):\n",
    "    if p in rename_dict.keys():\n",
    "        return rename_dict[p]\n",
    "    else:\n",
    "        return p\n",
    "    \n",
    "ptreseq_TE['RE'] = ptreseq_TE['RE_Identity'].apply(lambda g: rename_f(g))\n",
    "\n",
    "# normalize raw count by plasmid count\n",
    "ptreseq_TE['RNA/DNA'] = ptreseq_TE['counts_PARNA']/ptreseq_count['counts_Plasmid']\n",
    "\n",
    "# Calculate BBBB median and normalize expression\n",
    "BBBB = ptreseq_TE[ptreseq_TE['RE']=='BBBB']\n",
    "median_exp = BBBB['RNA/DNA'].median()\n",
    "\n",
    "# normalized by median of BBBB normalized count\n",
    "ptreseq_TE['L2FC'] = np.log2(ptreseq_TE['RNA/DNA']/median_exp)\n",
    "\n",
    "# calculate median\n",
    "ptreseq_TE_median = ptreseq_TE.groupby('RE')['L2FC'].median()"
   ]
  },
  {
   "cell_type": "markdown",
   "id": "d76ba53d",
   "metadata": {},
   "source": [
    "## Figure 4D: plot rna expression all vs ns reporters by number of ARE modules"
   ]
  },
  {
   "cell_type": "code",
   "execution_count": 9,
   "id": "3b0089cf",
   "metadata": {},
   "outputs": [],
   "source": [
    "# Merge expression and splicing measurements\n",
    "expression = HELA[['RE', 'full_length', 'spliced_fraction']].merge(\n",
    "    ptreseq_count_median.to_frame().reset_index(), \n",
    "    on = 'RE',\n",
    ")\n",
    "\n",
    "expression = expression[expression['RE'].str.contains('^[BLpSA]{4}$')].reset_index(drop = True)\n",
    "\n",
    "# Get count of modules for each reporter\n",
    "expression['Acount'] = expression['RE'].apply(lambda g: g.count('A'))\n",
    "expression['pcount'] = expression['RE'].apply(lambda g: g.count('p'))\n",
    "expression['Lcount'] = expression['RE'].apply(lambda g: g.count('L'))\n",
    "expression['Scount'] = expression['RE'].apply(lambda g: g.count('S'))\n",
    "expression['Bcount'] = expression['RE'].apply(lambda g: g.count('B'))\n",
    "expression['hue'] = 'all'\n",
    "# subset reporters < 1% spliced\n",
    "ns_expression = expression[expression['spliced_fraction']<0.01].reset_index(drop=True)\n",
    "ns_expression['hue'] = 'ns'"
   ]
  },
  {
   "cell_type": "code",
   "execution_count": 10,
   "id": "482abaa4",
   "metadata": {},
   "outputs": [
    {
     "data": {
      "text/plain": [
       "(-3.0, 3.0)"
      ]
     },
     "execution_count": 10,
     "metadata": {},
     "output_type": "execute_result"
    },
    {
     "data": {
      "image/png": "[encoded data removed]",
      "text/plain": [
       "<Figure size 432x288 with 1 Axes>"
      ]
     },
     "metadata": {
      "needs_background": "light"
     },
     "output_type": "display_data"
    }
   ],
   "source": [
    "# rna exp for all reporters \n",
    "expression_A = expression[(expression['pcount']==0)&(expression['Lcount']==0)&(expression['Scount']==0)]\n",
    "\n",
    "# rna exp for reporters with less than 1% splicing efficiency\n",
    "ns_expression_A = ns_expression[(ns_expression['pcount']==0)&(ns_expression['Lcount']==0)&(ns_expression['Scount']==0)]\n",
    "\n",
    "toplot = pd.concat([expression_A, ns_expression_A])\n",
    "\n",
    "f, ax = plt.subplots()\n",
    "\n",
    "sns.boxplot(\n",
    "    data = toplot, \n",
    "    x = 'Acount', \n",
    "    y = 'L2FC', \n",
    "    hue = 'hue', \n",
    "    order = [1, 2, 3, 4],\n",
    "    flierprops = {'marker': 'o'},\n",
    "    showfliers=False,\n",
    "    palette = ['grey', 'red'],\n",
    "    ax = ax)\n",
    "\n",
    "adjust_box_widths(f, 0.65)\n",
    "\n",
    "ax.set_ylim(-3, 3)\n",
    "\n",
    "#f.savefig('Figures_ver3/Figure_6/Figure_6_ARE_count_RNA.pdf', transparent = True)"
   ]
  },
  {
   "cell_type": "markdown",
   "id": "f1a2b2b8",
   "metadata": {},
   "source": [
    "## Figure 4E: plot TE all vs ns reporters by number of ARE modules"
   ]
  },
  {
   "cell_type": "code",
   "execution_count": 16,
   "id": "65afbea3",
   "metadata": {},
   "outputs": [],
   "source": [
    "# Merge expression and splicing measurements\n",
    "translation = HELA[['RE', 'full_length', 'spliced_fraction']].merge(\n",
    "    ptreseq_TE_median.to_frame().reset_index(), \n",
    "    on = 'RE',\n",
    ")\n",
    "\n",
    "translation = translation[translation['RE'].str.contains('^[BLpSA]{4}$')].reset_index(drop = True)\n",
    "\n",
    "# Get count of modules for each reporter\n",
    "translation['Acount'] = translation['RE'].apply(lambda g: g.count('A'))\n",
    "translation['pcount'] = translation['RE'].apply(lambda g: g.count('p'))\n",
    "translation['Lcount'] = translation['RE'].apply(lambda g: g.count('L'))\n",
    "translation['Scount'] = translation['RE'].apply(lambda g: g.count('S'))\n",
    "translation['Bcount'] = translation['RE'].apply(lambda g: g.count('B'))\n",
    "translation['hue'] = 'all'\n",
    "# subset reporters < 1% spliced\n",
    "ns_translation = translation[translation['spliced_fraction']<0.01].reset_index(drop=True)\n",
    "ns_translation['hue'] = 'ns'"
   ]
  },
  {
   "cell_type": "code",
   "execution_count": 17,
   "id": "108a4406",
   "metadata": {},
   "outputs": [
    {
     "data": {
      "image/png": "[encoded data removed]",
      "text/plain": [
       "<Figure size 432x288 with 1 Axes>"
      ]
     },
     "metadata": {
      "needs_background": "light"
     },
     "output_type": "display_data"
    }
   ],
   "source": [
    "# rna exp for all reporters \n",
    "translation_A = translation[(translation['pcount']==0)&(translation['Lcount']==0)&(translation['Scount']==0)]\n",
    "\n",
    "# rna exp for reporters with less than 1% splicing efficiency\n",
    "ns_translation_A = ns_translation[(ns_translation['pcount']==0)&(ns_translation['Lcount']==0)&(ns_translation['Scount']==0)]\n",
    "\n",
    "toplot = pd.concat([translation_A, ns_translation_A])\n",
    "\n",
    "f, ax = plt.subplots()\n",
    "\n",
    "sns.boxplot(\n",
    "    data = toplot, \n",
    "    x = 'Acount', \n",
    "    y = 'L2FC', \n",
    "    hue = 'hue', \n",
    "    order = [1, 2, 3, 4],\n",
    "    flierprops = {'marker': 'o'},\n",
    "    showfliers=False,\n",
    "    palette = ['grey', 'red'],\n",
    "    ax = ax)\n",
    "\n",
    "adjust_box_widths(f, 0.65)\n",
    "\n",
    "#f.savefig('Figure_6_ARE_count_TE.pdf', transparent = True)"
   ]
  },
  {
   "cell_type": "markdown",
   "id": "cabf2f08",
   "metadata": {},
   "source": [
    "## Figure S5A and S5B: relationship between ARE and Let-7 or PUM"
   ]
  },
  {
   "cell_type": "code",
   "execution_count": 11,
   "id": "75b335db",
   "metadata": {},
   "outputs": [],
   "source": [
    "# Make a copy of the dataframe\n",
    "df_for_model = expression.copy()\n",
    "\n",
    "# get identity for RE at each position\n",
    "df_for_model['P1'] = df_for_model['RE'].apply(lambda g: g[0])\n",
    "df_for_model['P2'] = df_for_model['RE'].apply(lambda g: g[1])\n",
    "df_for_model['P3'] = df_for_model['RE'].apply(lambda g: g[2])\n",
    "df_for_model['P4'] = df_for_model['RE'].apply(lambda g: g[3])\n",
    "\n",
    "# formula considers RE identity, position, and interaction\n",
    "formula = \"L2FC ~ C(P1, Treatment(reference='B'))*C(P2, Treatment(reference='B')) \\\n",
    "                + C(P1, Treatment(reference='B'))*C(P3, Treatment(reference='B')) \\\n",
    "                + C(P1, Treatment(reference='B'))*C(P4, Treatment(reference='B')) \\\n",
    "                + C(P2, Treatment(reference='B'))*C(P3, Treatment(reference='B')) \\\n",
    "                + C(P2, Treatment(reference='B'))*C(P4, Treatment(reference='B')) \\\n",
    "                + C(P3, Treatment(reference='B'))*C(P4, Treatment(reference='B'))\"\n",
    "\n",
    "\n",
    "# fit model for all reporters\n",
    "model = sm.formula.glm(formula = formula, \n",
    "                       data = df_for_model, \n",
    "                       family=sm.families.Gaussian()).fit()\n",
    "\n",
    "# limit to only reporters < 1% spliced\n",
    "df_for_model_nosplice = df_for_model[df_for_model['spliced_fraction']<0.01]\n",
    "\n",
    "# linear regression model for unspliced reporters\n",
    "model_nosplice = sm.formula.glm(formula = formula, \n",
    "                                data = df_for_model_nosplice, \n",
    "                                family=sm.families.Gaussian()).fit()"
   ]
  },
  {
   "cell_type": "code",
   "execution_count": 13,
   "id": "4eda95d6",
   "metadata": {},
   "outputs": [],
   "source": [
    "def retrieve_interaction_param(param):\n",
    "    if ':' in param:\n",
    "        spl = param.split(':')\n",
    "        \n",
    "        RE1_pos = re.search(r'\\(P(\\d+),', spl[0]).group(1)\n",
    "        RE1_ID = re.search(r'\\[T\\.([A-Za-z])\\]', spl[0]).group(1)\n",
    "        \n",
    "        RE2_pos = re.search(r'\\(P(\\d+),', spl[1]).group(1)\n",
    "        RE2_ID = re.search(r'\\[T\\.([A-Za-z])\\]', spl[1]).group(1)\n",
    "        \n",
    "        return int(RE1_pos), RE1_ID, int(RE2_pos), RE2_ID\n",
    "    \n",
    "    else: \n",
    "        return np.nan, np.nan, np.nan, np.nan\n",
    "    \n",
    "# create matrix for model of all reporters\n",
    "# for parameter values\n",
    "ARE_PUM = pd.DataFrame(columns = [1, 2, 3, 4], index = [1, 2, 3, 4])\n",
    "ARE_LET7 = pd.DataFrame(columns = [1, 2, 3, 4], index = [1, 2, 3, 4])\n",
    "# for p values\n",
    "ARE_PUM_pval = pd.DataFrame(columns = [1, 2, 3, 4], index = [1, 2, 3, 4])\n",
    "ARE_LET7_pval = pd.DataFrame(columns = [1, 2, 3, 4], index = [1, 2, 3, 4])\n",
    "\n",
    "for idx in model.params.index:\n",
    "    RE1_pos, RE1_ID, RE2_pos, RE2_ID = retrieve_interaction_param(idx)\n",
    "    param = model.params[idx]\n",
    "    \n",
    "    if model.pvalues[idx] < 0.001:\n",
    "        pval = '***'\n",
    "    elif model.pvalues[idx] < 0.01:\n",
    "        pval = '**'\n",
    "    elif model.pvalues[idx] < 0.05:\n",
    "        pval = '*'\n",
    "    else:\n",
    "        pval = 'n.s.'\n",
    "    \n",
    "    if RE1_ID == 'p' and RE2_ID == 'A':\n",
    "        ARE_PUM.loc[ARE_PUM.index==RE1_pos, RE2_pos] = param\n",
    "        ARE_PUM_pval.loc[ARE_PUM_pval.index==RE1_pos, RE2_pos] = pval \n",
    "    elif RE1_ID == 'A' and RE2_ID == 'p':\n",
    "        ARE_PUM.loc[ARE_PUM.index==RE2_pos, RE1_pos] = param\n",
    "        ARE_PUM_pval.loc[ARE_PUM_pval.index==RE2_pos, RE1_pos] = pval \n",
    "    elif RE1_ID == 'L' and RE2_ID == 'A':\n",
    "        ARE_LET7.loc[ARE_LET7.index==RE1_pos, RE2_pos] = param\n",
    "        ARE_LET7_pval.loc[ARE_LET7_pval.index==RE1_pos, RE2_pos] = pval \n",
    "    elif RE1_ID == 'A' and RE2_ID == 'L':\n",
    "        ARE_LET7.loc[ARE_LET7.index==RE2_pos, RE1_pos] = param\n",
    "        ARE_LET7_pval.loc[ARE_LET7_pval.index==RE2_pos, RE1_pos] = pval \n",
    "        \n",
    "ARE_PUM.fillna(0, inplace = True)  \n",
    "ARE_LET7.fillna(0, inplace = True)  \n",
    "ARE_PUM_pval.fillna('', inplace = True)  \n",
    "ARE_LET7_pval.fillna('', inplace = True)  \n",
    "\n",
    "# create matrix for model of not spliced reporters\n",
    "# for parameter values\n",
    "ARE_PUM_ns = pd.DataFrame(columns = [1, 2, 3, 4], index = [1, 2, 3, 4])\n",
    "ARE_LET7_ns = pd.DataFrame(columns = [1, 2, 3, 4], index = [1, 2, 3, 4])\n",
    "# for p values\n",
    "ARE_PUM_pval_ns = pd.DataFrame(columns = [1, 2, 3, 4], index = [1, 2, 3, 4])\n",
    "ARE_LET7_pval_ns = pd.DataFrame(columns = [1, 2, 3, 4], index = [1, 2, 3, 4])\n",
    "\n",
    "for idx in model_nosplice.params.index:\n",
    "    RE1_pos, RE1_ID, RE2_pos, RE2_ID = retrieve_interaction_param(idx)\n",
    "    param = model_nosplice.params[idx]\n",
    "    \n",
    "    if model.pvalues[idx] < 0.001:\n",
    "        pval = '***'\n",
    "    elif model.pvalues[idx] < 0.01:\n",
    "        pval = '**'\n",
    "    elif model.pvalues[idx] < 0.05:\n",
    "        pval = '*'\n",
    "    else:\n",
    "        pval = 'n.s.'\n",
    "    \n",
    "    if RE1_ID == 'p' and RE2_ID == 'A':\n",
    "        ARE_PUM_ns.loc[ARE_PUM_ns.index==RE1_pos, RE2_pos] = param\n",
    "        ARE_PUM_pval_ns.loc[ARE_PUM_pval_ns.index==RE1_pos, RE2_pos] = pval \n",
    "    elif RE1_ID == 'A' and RE2_ID == 'p':\n",
    "        ARE_PUM_ns.loc[ARE_PUM_ns.index==RE2_pos, RE1_pos] = param\n",
    "        ARE_PUM_pval_ns.loc[ARE_PUM_pval_ns.index==RE2_pos, RE1_pos] = pval \n",
    "    elif RE1_ID == 'L' and RE2_ID == 'A':\n",
    "        ARE_LET7_ns.loc[ARE_LET7_ns.index==RE1_pos, RE2_pos] = param\n",
    "        ARE_LET7_pval_ns.loc[ARE_LET7_pval_ns.index==RE1_pos, RE2_pos] = pval\n",
    "    elif RE1_ID == 'A' and RE2_ID == 'L':\n",
    "        ARE_LET7_ns.loc[ARE_LET7_ns.index==RE2_pos, RE1_pos] = param\n",
    "        ARE_LET7_pval_ns.loc[ARE_LET7_pval_ns.index==RE2_pos, RE1_pos] = pval \n",
    "        \n",
    "ARE_PUM_ns.fillna(0, inplace = True)  \n",
    "ARE_LET7_ns.fillna(0, inplace = True)  \n",
    "ARE_PUM_pval_ns.fillna('', inplace = True)  \n",
    "ARE_LET7_pval_ns.fillna('', inplace = True)  "
   ]
  },
  {
   "cell_type": "code",
   "execution_count": 14,
   "id": "de0c80ab",
   "metadata": {},
   "outputs": [
    {
     "data": {
      "text/plain": [
       "<AxesSubplot:>"
      ]
     },
     "execution_count": 14,
     "metadata": {},
     "output_type": "execute_result"
    },
    {
     "data": {
      "image/png": "[encoded data removed]",
      "text/plain": [
       "<Figure size 864x288 with 4 Axes>"
      ]
     },
     "metadata": {
      "needs_background": "light"
     },
     "output_type": "display_data"
    }
   ],
   "source": [
    "f, axs = plt.subplots(ncols = 2, figsize = (12, 4))\n",
    "\n",
    "# Create a custom diverging palette\n",
    "custom_palette = sns.diverging_palette(230, 30, s=99, l=60, sep = 10, n=9)\n",
    "\n",
    "sns.heatmap(\n",
    "    ARE_PUM, \n",
    "    cmap = custom_palette,\n",
    "    center = 0, \n",
    "    annot = ARE_PUM_pval,\n",
    "    fmt = '',\n",
    "    vmin = -0.5,\n",
    "    vmax = 0.9,\n",
    "    ax = axs[0]\n",
    ")\n",
    "\n",
    "sns.heatmap(\n",
    "    ARE_PUM_ns, \n",
    "    cmap = custom_palette,\n",
    "    center = 0, \n",
    "    annot = ARE_PUM_pval_ns,\n",
    "    fmt = '',\n",
    "    vmin = -0.5,\n",
    "    vmax = 0.9,\n",
    "    ax = axs[1]\n",
    ")\n",
    "\n",
    "#f.savefig('PUM_ARE_interaction_all_vs_ns.pdf', transparent = True)"
   ]
  },
  {
   "cell_type": "code",
   "execution_count": 15,
   "id": "cae010bc",
   "metadata": {},
   "outputs": [
    {
     "data": {
      "text/plain": [
       "<AxesSubplot:>"
      ]
     },
     "execution_count": 15,
     "metadata": {},
     "output_type": "execute_result"
    },
    {
     "data": {
      "image/png": "[encoded data removed]",
      "text/plain": [
       "<Figure size 864x288 with 4 Axes>"
      ]
     },
     "metadata": {
      "needs_background": "light"
     },
     "output_type": "display_data"
    }
   ],
   "source": [
    "f, axs = plt.subplots(ncols = 2, figsize = (12, 4))\n",
    "\n",
    "# Create a custom diverging palette\n",
    "custom_palette = sns.diverging_palette(230, 30, s=99, l=60, sep = 10, n=9)\n",
    "\n",
    "sns.heatmap(\n",
    "    ARE_LET7, \n",
    "    cmap = custom_palette,\n",
    "    center = 0, \n",
    "    annot = ARE_LET7_pval,\n",
    "    fmt = '',\n",
    "    vmin = -1.3,\n",
    "    vmax = 0.8,\n",
    "    ax = axs[0]\n",
    ")\n",
    "\n",
    "sns.heatmap(\n",
    "    ARE_LET7_ns, \n",
    "    cmap = custom_palette,\n",
    "    center = 0, \n",
    "    annot = ARE_LET7_pval_ns,\n",
    "    fmt = '',\n",
    "    vmin = -1.3,\n",
    "    vmax = 0.8,\n",
    "    ax = axs[1]\n",
    ")\n",
    "\n",
    "#f.savefig('LET7_ARE_interaction_all_vs_ns.pdf', transparent = True)"
   ]
  },
  {
   "cell_type": "code",
   "execution_count": null,
   "id": "3b56804e",
   "metadata": {},
   "outputs": [],
   "source": []
  }
 ],
 "metadata": {
  "kernelspec": {
   "display_name": "Python 3 (ipykernel)",
   "language": "python",
   "name": "python3"
  },
  "language_info": {
   "codemirror_mode": {
    "name": "ipython",
    "version": 3
   },
   "file_extension": ".py",
   "mimetype": "text/x-python",
   "name": "python",
   "nbconvert_exporter": "python",
   "pygments_lexer": "ipython3",
   "version": "3.9.7"
  }
 },
 "nbformat": 4,
 "nbformat_minor": 5
}
