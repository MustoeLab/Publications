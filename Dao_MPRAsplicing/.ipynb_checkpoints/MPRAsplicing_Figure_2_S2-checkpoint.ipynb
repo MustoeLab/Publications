{
 "cells": [
  {
   "cell_type": "code",
   "execution_count": 1,
   "id": "242dde1f",
   "metadata": {},
   "outputs": [],
   "source": [
    "import pandas as pd\n",
    "\n",
    "import numpy as np\n",
    "import sys, os\n",
    "from scipy import stats\n",
    "import collections\n",
    "import math\n",
    "import statistics\n",
    "import re\n",
    "\n",
    "import matplotlib.pyplot as plt\n",
    "import seaborn as sns\n",
    "import matplotlib.patches as mpatches\n",
    "import matplotlib\n",
    "\n",
    "matplotlib.rcParams['xtick.major.size'] = 8\n",
    "matplotlib.rcParams['xtick.major.width'] = 2.5\n",
    "matplotlib.rcParams['xtick.direction'] = 'out'\n",
    "matplotlib.rcParams['xtick.minor.size'] = 4\n",
    "matplotlib.rcParams['xtick.minor.width'] = 1\n",
    "matplotlib.rcParams['pdf.fonttype'] = 42\n",
    "matplotlib.rcParams['font.sans-serif'] = 'Arial'"
   ]
  },
  {
   "cell_type": "code",
   "execution_count": 2,
   "id": "d15bf3e4",
   "metadata": {},
   "outputs": [],
   "source": [
    "# function to change boxplot width\n",
    "def change_width(ax, new_value) :\n",
    "    for patch in ax.patches :\n",
    "        current_width = patch.get_width()\n",
    "        diff = current_width - new_value\n",
    "        # change the bar width\n",
    "        patch.set_width(new_value)\n",
    "        # recenter the bar\n",
    "        patch.set_x(patch.get_x() + diff * .5)"
   ]
  },
  {
   "cell_type": "markdown",
   "id": "8d143b45",
   "metadata": {},
   "source": [
    "## Figure 2A: Location and usage frequency of donors"
   ]
  },
  {
   "cell_type": "code",
   "execution_count": 3,
   "id": "9e242e07",
   "metadata": {},
   "outputs": [],
   "source": [
    "# import splicing data\n",
    "hela = pd.read_csv('ptreseq_splicing_quantification/HELA_2rep_fraction.txt', sep = '\\t')\n",
    "\n",
    "# convert to long form\n",
    "hela = pd.melt(\n",
    "    hela, \n",
    "    id_vars = 'RE', \n",
    "    value_vars = hela.columns[1:-1],\n",
    "    var_name = 'isoform',\n",
    "    value_name = 'fraction'\n",
    ")\n",
    "\n",
    "# rename donor to GFP, alt-GFP, PRE, or others\n",
    "def rename_donor(isoform):\n",
    "    if isoform == 'full_length':\n",
    "        return np.nan, np.nan\n",
    "    elif 'GTACAA_132' in isoform:\n",
    "        return 'GFP', 132\n",
    "    elif 'CGAGCT_126' in isoform:\n",
    "        return 'alt-GFP', 126\n",
    "    elif 'CGACTT_171' in isoform:\n",
    "        return 'PRE', 171\n",
    "    elif 'CGACTT_204' in isoform:\n",
    "        return 'PRE', 204\n",
    "    else:\n",
    "        return 'others', float(isoform.split('_')[1])\n",
    "\n",
    "hela['donor_name'], hela['donor_pos'] = zip(*hela['isoform'].apply(lambda g: rename_donor(g)))"
   ]
  },
  {
   "cell_type": "code",
   "execution_count": 30,
   "id": "85189f23",
   "metadata": {},
   "outputs": [],
   "source": [
    "# For each reporter, group together the same donor and add the splicing fraction to get donor usage\n",
    "grouped_donor = hela.groupby(['donor_name', 'donor_pos'])['fraction'].sum().reset_index()\n",
    "\n",
    "min_idx = 0\n",
    "max_idx = 350 # end of barcode position\n",
    "\n",
    "for i in range(min_idx, max_idx):\n",
    "    if float(i) not in grouped_donor['donor_pos'].to_list():\n",
    "        grouped_donor = grouped_donor.append(\n",
    "            {'donor_name': 'n/a', 'donor_pos': i, 'fraction': 0}, ignore_index = True\n",
    "        )\n",
    "\n",
    "grouped_donor = grouped_donor.sort_values(by = 'donor_pos')\n",
    "\n",
    "# list of colors\n",
    "color_dict = {'GFP': 'green', 'PRE': 'yellow', 'alt-GFP': 'blue', 'others': 'grey', 'n/a': 'grey'}\n",
    "grouped_donor['color'] = grouped_donor['donor_name'].apply(lambda g: color_dict[g])"
   ]
  },
  {
   "cell_type": "code",
   "execution_count": 33,
   "id": "017dbdee",
   "metadata": {},
   "outputs": [
    {
     "data": {
      "image/png": "[encoded data removed]",
      "text/plain": [
       "<Figure size 720x288 with 2 Axes>"
      ]
     },
     "metadata": {
      "needs_background": "light"
     },
     "output_type": "display_data"
    }
   ],
   "source": [
    "# Barplot with broken y axis\n",
    "f, (ax1, ax2) = plt.subplots(\n",
    "    nrows = 2, \n",
    "    figsize = (10, 4), \n",
    "    sharex = True, \n",
    "    gridspec_kw={'height_ratios': [1, 3]}\n",
    ")\n",
    "\n",
    "sns.barplot(\n",
    "    data = grouped_donor, \n",
    "    x = 'donor_pos', \n",
    "    y = 'fraction', \n",
    "    palette = grouped_donor['color'],\n",
    "    ax = ax1\n",
    ")\n",
    "\n",
    "sns.barplot(\n",
    "    data = grouped_donor, \n",
    "    x = 'donor_pos', \n",
    "    y = 'fraction', \n",
    "    palette = grouped_donor['color'],\n",
    "    ax = ax2\n",
    ")\n",
    "\n",
    "ax1.set_ylim(60, 80)\n",
    "ax2.set_ylim(-0.05, 10)\n",
    "\n",
    "ax2.set_xticks([0, 135, 157, 190, 223, 257, 290, 334, 343])\n",
    "ax2.set_xticklabels([0, 135, 157, 190, 223, 257, 290, 334, 343])\n",
    "\n",
    "# hide the spines between ax and ax2\n",
    "ax1.spines.bottom.set_visible(False)\n",
    "ax2.spines.top.set_visible(False)\n",
    "ax1.xaxis.tick_top()\n",
    "ax1.tick_params(labeltop=False)  # don't put tick labels at the top\n",
    "ax2.xaxis.tick_bottom()\n",
    "\n",
    "#f.savefig('Figures_ver3/Figure_2A_donor_position.pdf', transparent = True)"
   ]
  },
  {
   "cell_type": "markdown",
   "id": "8a61dff5",
   "metadata": {},
   "source": [
    "## Figure 2B: PTRE-seq donors compared to human annotated donors"
   ]
  },
  {
   "cell_type": "code",
   "execution_count": 34,
   "id": "3ba688b1",
   "metadata": {},
   "outputs": [],
   "source": [
    "# Retrieve MaxEnt score for all human splice donor\n",
    "fns = ['human_CDS_5ss_MAXENT.txt', 'human_3UTR_5ss_MAXENT.txt', 'human_5UTR_5ss_MAXENT.txt']\n",
    "scores = []\n",
    "\n",
    "for fn in fns:\n",
    "    with open(f'data/{fn}', 'r') as f:\n",
    "        for line in f:\n",
    "            if 'MAXENT' in line:\n",
    "                spl = line.rstrip().split(' ')\n",
    "                score = float(spl[1])\n",
    "                scores.append(score)"
   ]
  },
  {
   "cell_type": "code",
   "execution_count": 35,
   "id": "2138b5ba",
   "metadata": {},
   "outputs": [
    {
     "data": {
      "text/plain": [
       "(-10.0, 13.0)"
      ]
     },
     "execution_count": 35,
     "metadata": {},
     "output_type": "execute_result"
    },
    {
     "data": {
      "image/png": "[encoded data removed]",
      "text/plain": [
       "<Figure size 432x288 with 1 Axes>"
      ]
     },
     "metadata": {
      "needs_background": "light"
     },
     "output_type": "display_data"
    }
   ],
   "source": [
    "f, ax = plt.subplots()\n",
    "\n",
    "sns.kdeplot(x = scores, ax = ax, color = 'grey', bw_adjust = 3)\n",
    "\n",
    "ax.axvline(0.66) # GFP donor maxent score\n",
    "ax.axvline(-0.73) # PRE donor maxent score\n",
    "ax.axvline(-8.82) # alt-GFP donor maxent score\n",
    "\n",
    "ax.set_xlim(-10, 13)\n",
    "\n",
    "#f.savefig('Figures_ver3/MAXENT_score_all_SD_transcriptome.pdf', transparent = True)"
   ]
  },
  {
   "cell_type": "markdown",
   "id": "416a9525",
   "metadata": {},
   "source": [
    "## Figure 2D: Location and usage frequency of acceptors"
   ]
  },
  {
   "cell_type": "code",
   "execution_count": 36,
   "id": "4ed4aaac",
   "metadata": {},
   "outputs": [],
   "source": [
    "def get_acceptor_loc(RE, isoform):\n",
    "    \n",
    "    if isoform == 'full_length':\n",
    "        return np.nan, np.nan\n",
    "    else:\n",
    "        spl = isoform.split('_')\n",
    "        loc = float(spl[3])\n",
    "        acc = 'other'\n",
    "        \n",
    "        if len(RE) == 4 and RE != 'Dna2':\n",
    "            if 157 < loc < 190:\n",
    "                acc = RE[0]\n",
    "            elif 190 < loc < 223:\n",
    "                acc = RE[1]\n",
    "            elif 223 < loc < 256:\n",
    "                acc = RE[2]\n",
    "            elif 256 < loc < 290:\n",
    "                acc = RE[3]\n",
    "            elif 290 < loc < 334:\n",
    "                acc = 'spacer'\n",
    "            \n",
    "        return acc, loc\n",
    "    \n",
    "        \n",
    "hela['acceptor_name'], hela['acceptor_pos'] = zip(*hela.apply(\n",
    "    lambda g: get_acceptor_loc(g['RE'], g['isoform']), axis = 1)\n",
    "                                                 )"
   ]
  },
  {
   "cell_type": "code",
   "execution_count": 37,
   "id": "3a612f37",
   "metadata": {},
   "outputs": [
    {
     "data": {
      "text/plain": [
       "<matplotlib.legend.Legend at 0x7fc3f8afd970>"
      ]
     },
     "execution_count": 37,
     "metadata": {},
     "output_type": "execute_result"
    },
    {
     "data": {
      "image/png": "[encoded data removed]",
      "text/plain": [
       "<Figure size 720x288 with 1 Axes>"
      ]
     },
     "metadata": {
      "needs_background": "light"
     },
     "output_type": "display_data"
    }
   ],
   "source": [
    "# plot acceptor usage as stacked barplot\n",
    "\n",
    "f, ax = plt.subplots(figsize = (10, 4))\n",
    "\n",
    "min_idx = 115\n",
    "max_idx = 352 # end of barcode position\n",
    "grouped_acceptor = hela.groupby(['acceptor_name', 'acceptor_pos'])['fraction'].sum().reset_index()\n",
    "bottom = np.array([0.0]*79)\n",
    "\n",
    "for acceptor, color in zip(['spacer', 'p', 'B', 'S', 'L'], ['grey', 'salmon', 'blue', 'pink', 'green']):\n",
    "    _grouped_acceptor = grouped_acceptor[grouped_acceptor['acceptor_name']==acceptor]\n",
    "\n",
    "    for i in range(min_idx, max_idx):\n",
    "        if float(i) not in _grouped_acceptor['acceptor_pos'].to_list():\n",
    "            _grouped_acceptor = _grouped_acceptor.append(\n",
    "                {'acceptor_name': 'n/a', 'acceptor_pos': i, 'fraction': 0}, ignore_index = True\n",
    "            )\n",
    "            \n",
    "    _grouped_acceptor = _grouped_acceptor.sort_values(by = 'acceptor_pos')   \n",
    "    \n",
    "    _grouped_acceptor['new_idx'] = [i for i in range(int(len(_grouped_acceptor)/3)) for _ in range(3)]\n",
    "    _grouped_acceptor = _grouped_acceptor.groupby('new_idx')['fraction'].sum().to_frame().reset_index()\n",
    "    \n",
    "    ax.bar(\n",
    "        x = _grouped_acceptor['new_idx'].to_list(),\n",
    "        height = _grouped_acceptor['fraction'].to_list(), \n",
    "        label = acceptor, \n",
    "        color = color,\n",
    "        bottom = bottom,\n",
    "    )\n",
    "    \n",
    "    bottom += _grouped_acceptor['fraction']\n",
    "\n",
    "#ax.set_xticks([0, 42, 175, 219, 228, 235])\n",
    "#ax.set_xticklabels([115, 157, 289, 334, 343, 350])\n",
    "\n",
    "ax.set_ylim(0, 40)\n",
    "\n",
    "ax.legend()\n",
    "\n",
    "#f.savefig('Figures_ver3/Figure_2D_acceptor_position.pdf', transparent = True)"
   ]
  },
  {
   "cell_type": "markdown",
   "id": "77cb863e",
   "metadata": {},
   "source": [
    "## Figure 2E: PTRE-seq acceptors vs human annotated acceptors"
   ]
  },
  {
   "cell_type": "code",
   "execution_count": 38,
   "id": "dd059085",
   "metadata": {},
   "outputs": [],
   "source": [
    "# Retrieve MaxEnt score for all human splice donor\n",
    "fns = ['human_CDS_3ss_MAXENT.txt', 'human_3UTR_3ss_MAXENT.txt', 'human_5UTR_3ss_MAXENT.txt']\n",
    "scores = []\n",
    "\n",
    "for fn in fns:\n",
    "    with open(f'data/{fn}', 'r') as f:\n",
    "        for line in f:\n",
    "            if 'MAXENT' in line:\n",
    "                spl = line.rstrip().split(' ')\n",
    "                score = float(spl[1])\n",
    "                scores.append(score)"
   ]
  },
  {
   "cell_type": "code",
   "execution_count": 39,
   "id": "c86e541d",
   "metadata": {},
   "outputs": [
    {
     "data": {
      "text/plain": [
       "(-10.0, 20.0)"
      ]
     },
     "execution_count": 39,
     "metadata": {},
     "output_type": "execute_result"
    },
    {
     "data": {
      "image/png": "[encoded data removed]",
      "text/plain": [
       "<Figure size 432x288 with 1 Axes>"
      ]
     },
     "metadata": {
      "needs_background": "light"
     },
     "output_type": "display_data"
    }
   ],
   "source": [
    "f, ax = plt.subplots()\n",
    "\n",
    "sns.kdeplot(x = scores, ax = ax, color = 'grey', bw_adjust = 3)\n",
    "\n",
    "ax.axvline(7.22) # space acceptor MaxEnt score\n",
    "ax.axvline(6.32) # PRE acceptor MaxEnt score\n",
    "ax.axvline(5.66) # Blank acceptor MaxEnt score\n",
    "ax.axvline(4.08) # SRE2 acceptor MaxEnt score\n",
    "ax.axvline(2.56) # SRE1 acceptor MaxEnt score\n",
    "ax.axvline(-1.33) # Let-7 acceptor MaxEnt score\n",
    "\n",
    "ax.set_xlim(-10, 20)\n",
    "\n",
    "#f.savefig('Figures_ver3/MAXENT_score_all_SD_transcriptome.pdf', transparent = True)"
   ]
  },
  {
   "cell_type": "markdown",
   "id": "e4da0a23",
   "metadata": {},
   "source": [
    "## Figure S2B: Single reporter validation"
   ]
  },
  {
   "cell_type": "code",
   "execution_count": 40,
   "id": "2a29372d",
   "metadata": {},
   "outputs": [],
   "source": [
    "# western plot quantification\n",
    "western = pd.read_excel(\n",
    "    'data/single_reporter_validation_quantification.xlsx', \n",
    "    sheet_name = 'Westernblot'\n",
    ")\n",
    "western['1-f'] = western.groupby(['Replicate', 'RE'])['norm_exp'].apply(lambda g: g/g.sum())\n",
    "western['f'] = 1 - western['1-f']\n",
    "western['sample'] = 'protein'\n",
    "protein = western[western['Isoform']=='FL']\n",
    "\n",
    "# sequencing quantification\n",
    "mRNA = hela[hela['isoform']=='full_length'].reset_index(drop = True)\n",
    "mRNA['f'] = 1 - mRNA['fraction']\n",
    "mRNA['sample'] = 'RNA'"
   ]
  },
  {
   "cell_type": "code",
   "execution_count": 42,
   "id": "84f359f2",
   "metadata": {},
   "outputs": [
    {
     "data": {
      "text/plain": [
       "Text(0, 0.5, 'Splicing efficiency')"
      ]
     },
     "execution_count": 42,
     "metadata": {},
     "output_type": "execute_result"
    },
    {
     "data": {
      "image/png": "[encoded data removed]",
      "text/plain": [
       "<Figure size 432x288 with 1 Axes>"
      ]
     },
     "metadata": {
      "needs_background": "light"
     },
     "output_type": "display_data"
    }
   ],
   "source": [
    "toplot = pd.concat([mRNA[['RE', 'f', 'sample']], protein[['RE', 'f', 'sample']]])\n",
    "\n",
    "f, ax = plt.subplots()\n",
    "\n",
    "sns.barplot(\n",
    "    data = toplot, \n",
    "    x = 'RE', \n",
    "    y = 'f', \n",
    "    hue = 'sample', \n",
    "    order = ['LAAS', 'AALB', 'ASAS'],\n",
    "    ax = ax\n",
    ")\n",
    "\n",
    "change_width(f, 0.1)\n",
    "\n",
    "ax.set_ylabel('Splicing efficiency')\n",
    "\n",
    "#f.savefig('Figures_ver3/Figure_S3_protein_mRNA_spliced_fraction.pdf', transparent = True)"
   ]
  },
  {
   "cell_type": "markdown",
   "id": "e279b5a1",
   "metadata": {},
   "source": [
    "## Figure S2C: donor usage"
   ]
  },
  {
   "cell_type": "code",
   "execution_count": 44,
   "id": "fb2db1a3",
   "metadata": {},
   "outputs": [
    {
     "data": {
      "text/plain": [
       "[Text(0, 0.0, '0%'),\n",
       " Text(0, 0.25, '25%'),\n",
       " Text(0, 0.5, '50%'),\n",
       " Text(0, 0.75, '75%'),\n",
       " Text(0, 1.0, '100%')]"
      ]
     },
     "execution_count": 44,
     "metadata": {},
     "output_type": "execute_result"
    },
    {
     "data": {
      "image/png": "[encoded data removed]",
      "text/plain": [
       "<Figure size 432x288 with 1 Axes>"
      ]
     },
     "metadata": {
      "needs_background": "light"
     },
     "output_type": "display_data"
    }
   ],
   "source": [
    "f, ax = plt.subplots()\n",
    "\n",
    "toplot = hela[hela['fraction']>0.01]\n",
    "\n",
    "sns.violinplot(\n",
    "    data = toplot, \n",
    "    x = 'donor_name', \n",
    "    y = 'fraction', \n",
    "    order = ['alt-GFP', 'PRE', 'GFP'],\n",
    "    palette = ['blue', 'yellow', 'green'],\n",
    "    width = 0.5,\n",
    "    cut = 0,\n",
    "    ax = ax)\n",
    "\n",
    "ax.set_yticks([0.0, 0.25, 0.50, 0.75, 1.0])\n",
    "ax.set_yticklabels(['0%', '25%', '50%', '75%', '100%'])\n",
    "\n",
    "#f.savefig('Figures_ver3/Figure2_GFP_PRE_others_donor.pdf', transparent = True)"
   ]
  },
  {
   "cell_type": "markdown",
   "id": "d783a3ea",
   "metadata": {},
   "source": [
    "## Figure S3D: PRE vs GFP donor usage"
   ]
  },
  {
   "cell_type": "code",
   "execution_count": 45,
   "id": "598727cb",
   "metadata": {},
   "outputs": [
    {
     "name": "stderr",
     "output_type": "stream",
     "text": [
      "/var/folders/ly/fgzs9d8s7txdbr22383tmh0c0000gr/T/ipykernel_2324/3026025510.py:2: UserWarning: Boolean Series key will be reindexed to match DataFrame index.\n",
      "  pre_reporter = toplot[\n"
     ]
    },
    {
     "data": {
      "text/plain": [
       "[Text(0, 0.0, '0%'), Text(0, 0.5, '50%'), Text(0, 1.0, '100%')]"
      ]
     },
     "execution_count": 45,
     "metadata": {},
     "output_type": "execute_result"
    },
    {
     "data": {
      "image/png": "[encoded data removed]",
      "text/plain": [
       "<Figure size 360x360 with 1 Axes>"
      ]
     },
     "metadata": {
      "needs_background": "light"
     },
     "output_type": "display_data"
    }
   ],
   "source": [
    "# filter for reporter with 1 or more PRE\n",
    "pre_reporter = toplot[\n",
    "    (hela['RE'].str.contains('p'))&\n",
    "    (hela['RE'].str.contains('^[BLpSA]{4}$'))&\n",
    "    (hela['fraction']>0)\n",
    "]\n",
    "\n",
    "# covert to wide dataframe\n",
    "pre_reporter_wide = pd.pivot_table(\n",
    "    pre_reporter, index = 'RE', values = 'fraction', columns = 'donor_name', fill_value = 0\n",
    ").reset_index()\n",
    "\n",
    "def make_hue(p):\n",
    "    if 'p' not in p:\n",
    "        return 'PRE0'\n",
    "    elif p[0] == 'p' or p[1] == 'p':\n",
    "        return 'PRE12'\n",
    "    else:\n",
    "        return 'PRE34'\n",
    "\n",
    "# flag if PRE is in 1st/2nd position VS 3rd/4th position\n",
    "pre_reporter_wide['hue'] = pre_reporter_wide.apply(lambda g: make_hue(g['RE']), axis = 1)\n",
    "\n",
    "# scatterplot comparing PRE and GFP donor\n",
    "f, ax = plt.subplots(figsize = (5, 5))\n",
    "\n",
    "sns.scatterplot(\n",
    "    data = pre_reporter_wide, \n",
    "    x = 'GFP', \n",
    "    y = 'PRE', \n",
    "    hue = 'hue', \n",
    "    hue_order = ['PRE12', 'PRE34'],\n",
    "    palette = ['orange', 'grey'],\n",
    "    ax = ax\n",
    ")\n",
    "\n",
    "ax.set_xticks([0, 0.5, 1.0])\n",
    "ax.set_xticklabels(['0%', '50%', '100%'])\n",
    "ax.set_yticks([0, 0.5, 1.0])\n",
    "ax.set_yticklabels(['0%', '50%', '100%'])\n",
    "\n",
    "#f.savefig('Figures_ver3/Figure_2_scatterplot_PRE_GFP.pdf')"
   ]
  },
  {
   "cell_type": "markdown",
   "id": "89936a20",
   "metadata": {},
   "source": [
    "## Figure S3E: acceptor usage"
   ]
  },
  {
   "cell_type": "code",
   "execution_count": 49,
   "id": "91b81eeb",
   "metadata": {},
   "outputs": [
    {
     "data": {
      "text/plain": [
       "[Text(0, 0.0, '0%'),\n",
       " Text(0, 0.25, '25%'),\n",
       " Text(0, 0.5, '50%'),\n",
       " Text(0, 0.75, '75%'),\n",
       " Text(0, 1.0, '100%')]"
      ]
     },
     "execution_count": 49,
     "metadata": {},
     "output_type": "execute_result"
    },
    {
     "data": {
      "image/png": "[encoded data removed]",
      "text/plain": [
       "<Figure size 432x288 with 1 Axes>"
      ]
     },
     "metadata": {
      "needs_background": "light"
     },
     "output_type": "display_data"
    }
   ],
   "source": [
    "f, ax = plt.subplots()\n",
    "\n",
    "sns.violinplot(\n",
    "    data = toplot, \n",
    "    x = 'acceptor_name', \n",
    "    y = 'fraction', \n",
    "    order = ['L', 'S', 'B', 'p', 'spacer'],\n",
    "    palette = ['green', 'pink', 'blue', 'salmon', 'grey'],\n",
    "    width = 0.5,\n",
    "    cut = 0,\n",
    "    ax = ax)\n",
    "\n",
    "\n",
    "ax.set_yticks([0.0, 0.25, 0.50, 0.75, 1.0])\n",
    "ax.set_yticklabels(['0%', '25%', '50%', '75%', '100%'])\n",
    "\n",
    "#f.savefig('Figures_ver3/Figure_3_acceptor_usage_by_RE.pdf', transparent = True)"
   ]
  },
  {
   "cell_type": "markdown",
   "id": "197aceeb",
   "metadata": {},
   "source": [
    "## Figure S2F: distribution of intron length"
   ]
  },
  {
   "cell_type": "code",
   "execution_count": 50,
   "id": "5560e0a5",
   "metadata": {},
   "outputs": [],
   "source": [
    "HELA = pd.read_csv('ptreseq_splicing_quantification/HELA_2rep_fraction.txt', sep = '\\t')\n",
    "HELA_long = pd.melt(HELA, id_vars = ['RE'], value_vars = HELA.columns[1:-3], var_name = 'isoform', value_name = 'fraction')\n",
    "HELA_long = HELA_long[HELA_long['fraction']!=0]\n",
    "\n",
    "def intron_length(c):\n",
    "    if c == 'full_length':\n",
    "        return np.nan\n",
    "    else:\n",
    "        _, start, _, end = c.split('_')\n",
    "        return int(end) - int(start) + 1\n",
    "    \n",
    "HELA_long['intron_len'] = HELA_long['isoform'].apply(lambda g: intron_length(g))"
   ]
  },
  {
   "cell_type": "code",
   "execution_count": 51,
   "id": "a0e2c955",
   "metadata": {},
   "outputs": [
    {
     "data": {
      "text/plain": [
       "(0.0, 200.0)"
      ]
     },
     "execution_count": 51,
     "metadata": {},
     "output_type": "execute_result"
    },
    {
     "data": {
      "image/png": "[encoded data removed]",
      "text/plain": [
       "<Figure size 432x288 with 1 Axes>"
      ]
     },
     "metadata": {
      "needs_background": "light"
     },
     "output_type": "display_data"
    }
   ],
   "source": [
    "f, ax = plt.subplots()\n",
    "\n",
    "sns.histplot(\n",
    "    data = HELA_long, \n",
    "    x = 'intron_len',\n",
    "    weights = 'fraction', \n",
    "    stat = 'count',\n",
    "    bins = 25, \n",
    "    ax = ax\n",
    ")\n",
    "\n",
    "ax.set_xlim(0, 200)\n",
    "\n",
    "#f.savefig('Figures_ver3/Figure_3/Histogram_intron_length.pdf', transparent = True)"
   ]
  }
 ],
 "metadata": {
  "kernelspec": {
   "display_name": "Python 3 (ipykernel)",
   "language": "python",
   "name": "python3"
  },
  "language_info": {
   "codemirror_mode": {
    "name": "ipython",
    "version": 3
   },
   "file_extension": ".py",
   "mimetype": "text/x-python",
   "name": "python",
   "nbconvert_exporter": "python",
   "pygments_lexer": "ipython3",
   "version": "3.9.7"
  }
 },
 "nbformat": 4,
 "nbformat_minor": 5
}
