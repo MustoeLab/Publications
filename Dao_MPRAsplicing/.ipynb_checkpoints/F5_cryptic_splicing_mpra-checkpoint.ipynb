{
 "cells": [
  {
   "cell_type": "code",
   "execution_count": 1,
   "id": "cbfc2c7a",
   "metadata": {},
   "outputs": [],
   "source": [
    "import pandas as pd\n",
    "\n",
    "import numpy as np\n",
    "import sys, os\n",
    "import scipy.stats\n",
    "import collections\n",
    "import math\n",
    "import statistics\n",
    "\n",
    "import matplotlib.pyplot as plt\n",
    "import seaborn as sns\n",
    "import matplotlib.patches as mpatches\n",
    "import matplotlib\n",
    "\n",
    "from sklearn.datasets import make_classification\n",
    "from sklearn.linear_model import LogisticRegression\n",
    "from sklearn.model_selection import train_test_split\n",
    "from sklearn.metrics import roc_curve\n",
    "from sklearn.metrics import roc_auc_score\n",
    "from matplotlib import pyplot\n",
    "\n",
    "matplotlib.rcParams['xtick.major.size'] = 8\n",
    "matplotlib.rcParams['xtick.major.width'] = 2.5\n",
    "matplotlib.rcParams['xtick.direction'] = 'out'\n",
    "matplotlib.rcParams['xtick.minor.size'] = 4\n",
    "matplotlib.rcParams['xtick.minor.width'] = 1\n",
    "\n",
    "matplotlib.rcParams['ytick.major.size'] = 8\n",
    "matplotlib.rcParams['ytick.major.width'] = 2.5\n",
    "matplotlib.rcParams['ytick.direction'] = 'out'\n",
    "matplotlib.rcParams['ytick.minor.size'] = 4\n",
    "matplotlib.rcParams['ytick.minor.width'] = 1\n",
    "\n",
    "matplotlib.rcParams['pdf.fonttype'] = 42\n",
    "matplotlib.rcParams['font.sans-serif'] = 'Arial'\n",
    "\n",
    "# function to change width\n",
    "def change_width(ax, new_value):\n",
    "    for patch in ax.patches :\n",
    "        current_width = patch.get_width()\n",
    "        diff = current_width - new_value\n",
    "        # change the bar width\n",
    "        patch.set_width(new_value)\n",
    "        # recenter the bar\n",
    "        patch.set_x(patch.get_x() + diff * .5)"
   ]
  },
  {
   "cell_type": "code",
   "execution_count": 2,
   "id": "099db269",
   "metadata": {},
   "outputs": [],
   "source": [
    "from matplotlib.patches import PathPatch\n",
    "\n",
    "def adjust_box_widths(g, fac):\n",
    "    \"\"\"\n",
    "    Adjust the widths of a seaborn-generated boxplot.\n",
    "    \"\"\"\n",
    "\n",
    "    # iterating through Axes instances\n",
    "    for ax in g.axes:\n",
    "\n",
    "        # iterating through axes artists:\n",
    "        for c in ax.get_children():\n",
    "\n",
    "            # searching for PathPatches\n",
    "            if isinstance(c, PathPatch):\n",
    "                # getting current width of box:\n",
    "                p = c.get_path()\n",
    "                verts = p.vertices\n",
    "                verts_sub = verts[:-1]\n",
    "                xmin = np.min(verts_sub[:, 0])\n",
    "                xmax = np.max(verts_sub[:, 0])\n",
    "                xmid = 0.5*(xmin+xmax)\n",
    "                xhalf = 0.5*(xmax - xmin)\n",
    "\n",
    "                # setting new width of box\n",
    "                xmin_new = xmid-fac*xhalf\n",
    "                xmax_new = xmid+fac*xhalf\n",
    "                verts_sub[verts_sub[:, 0] == xmin, 0] = xmin_new\n",
    "                verts_sub[verts_sub[:, 0] == xmax, 0] = xmax_new\n",
    "\n",
    "                # setting new width of median line\n",
    "                for l in ax.lines:\n",
    "                    if np.array_equal(l.get_xdata(), [xmin, xmax]):\n",
    "                        l.set_xdata([xmin_new, xmax_new])"
   ]
  },
  {
   "cell_type": "code",
   "execution_count": 3,
   "id": "d338ba8b",
   "metadata": {},
   "outputs": [],
   "source": [
    "# import splicing measurements\n",
    "HELA = pd.read_csv('ptreseq_splicing_quantification/HELA_2rep_fraction.txt', sep = '\\t')\n",
    "\n",
    "# for each reporter, retrieve the most abundant isoform\n",
    "primary_isoform = HELA.set_index('RE').iloc[:, 1:-2].idxmax(axis = 1).to_frame(name = 'isoform').reset_index()\n",
    "HELA = HELA.merge(primary_isoform, on = 'RE')\n",
    "HELA = HELA[['RE', 'full_length', 'isoform', 'spliced_fraction']].rename(columns = {'full_length': 'FL_fraction'})\n",
    "\n",
    "def replace_FL_isoform(FL_fraction, isoform):\n",
    "    if FL_fraction > 0.99:\n",
    "        return 'full_length'\n",
    "    else:\n",
    "        return isoform\n",
    "    \n",
    "HELA['isoform'] = HELA.apply(lambda g: replace_FL_isoform(g['FL_fraction'], g['isoform']), axis = 1)"
   ]
  },
  {
   "cell_type": "code",
   "execution_count": 4,
   "id": "ad9e64bd",
   "metadata": {},
   "outputs": [],
   "source": [
    "# read summary of spliceAI prediction\n",
    "# see get_best_site.py script on cluster for details on how to generate the file\n",
    "spliceai = pd.read_csv('data/spliceai_full_transcript_prediction_best_sites.txt', sep = '\\t')\n",
    "medspliceai = spliceai.groupby('plasmid').agg({'best_donor': pd.Series.mode,\n",
    "                                               'donor_prob': 'median',\n",
    "                                               'best_acceptor': pd.Series.mode,\n",
    "                                              'acceptor_prob': 'median'}).reset_index()\n",
    "\n",
    "def replace_site(d, a):\n",
    "    if type(d) is np.ndarray:\n",
    "        donor = d[-1]\n",
    "    else:\n",
    "        donor = d\n",
    "        \n",
    "    if type(a) is np.ndarray:\n",
    "        acceptor = a[-1]\n",
    "    else:\n",
    "        acceptor = a\n",
    "        \n",
    "    return donor, acceptor\n",
    "\n",
    "medspliceai['best_donor'], medspliceai['best_acceptor'] = zip(*medspliceai.apply(lambda g: \n",
    "                                                                            replace_site(g['best_donor'],\n",
    "                                                                                        g['best_acceptor']), \n",
    "                                                                                 axis = 1))"
   ]
  },
  {
   "cell_type": "code",
   "execution_count": 5,
   "id": "9feced0b",
   "metadata": {},
   "outputs": [],
   "source": [
    "# merge measured splicing percentage with spliceAI prediction\n",
    "m = HELA.merge(medspliceai, left_on = 'RE', right_on = 'plasmid')\n",
    "\n",
    "# combine donor and acceptor probability\n",
    "def calculate_splice_prob(d, a):\n",
    "    return d*a\n",
    "\n",
    "m['splicing_prob'] = m.apply(lambda g: calculate_splice_prob(g['donor_prob'], g['acceptor_prob']), axis = 1)"
   ]
  },
  {
   "cell_type": "markdown",
   "id": "89f18304",
   "metadata": {},
   "source": [
    "## Figure 5A: spliceAI probability is positivly correlated with PTRE-seq splicing measurements"
   ]
  },
  {
   "cell_type": "code",
   "execution_count": 15,
   "id": "1f271a86",
   "metadata": {},
   "outputs": [
    {
     "data": {
      "text/plain": [
       "<matplotlib.collections.PolyCollection at 0x7f8f089500d0>"
      ]
     },
     "execution_count": 15,
     "metadata": {},
     "output_type": "execute_result"
    },
    {
     "data": {
      "image/png": "[encoded data removed]",
      "text/plain": [
       "<Figure size 360x360 with 1 Axes>"
      ]
     },
     "metadata": {
      "needs_background": "light"
     },
     "output_type": "display_data"
    }
   ],
   "source": [
    "f, ax = plt.subplots(figsize = (5, 5))\n",
    "\n",
    "sns.scatterplot(\n",
    "    data = m, \n",
    "    x = 'splicing_prob', \n",
    "    y = 'spliced_fraction', \n",
    "    color = 'black',\n",
    "    edgecolor = None,\n",
    "    ax = ax)\n",
    "\n",
    "ax.set_xlim(-0.05, 1.05)\n",
    "ax.set_ylim(-0.05, 1.05)\n",
    "\n",
    "ax.fill_between([0.3, 0.6], -0.05, 1.05, color = 'lightgrey', alpha = 0.5)\n",
    "ax.fill_between([0.6, 0.9], -0.05, 1.05, color = 'mediumpurple', alpha = 0.5)\n",
    "ax.fill_between([0.9, 1.0], -0.05, 1.05, color = 'red', alpha = 0.5)\n",
    "\n",
    "\n",
    "#f.savefig('Figures_ver3/Figure_7_scatterplot_spliceprob_fraction.pdf', transparent = True)"
   ]
  },
  {
   "cell_type": "code",
   "execution_count": 18,
   "id": "42a36f51",
   "metadata": {},
   "outputs": [
    {
     "data": {
      "text/plain": [
       "<matplotlib.legend.Legend at 0x7f8eea8c93a0>"
      ]
     },
     "execution_count": 18,
     "metadata": {},
     "output_type": "execute_result"
    },
    {
     "data": {
      "image/png": "[encoded data removed]",
      "text/plain": [
       "<Figure size 432x288 with 1 Axes>"
      ]
     },
     "metadata": {
      "needs_background": "light"
     },
     "output_type": "display_data"
    }
   ],
   "source": [
    "# Plot ROC curve for product classifier\n",
    "\n",
    "f, ax = plt.subplots()\n",
    "\n",
    "# assess performace of several predictors using ROC and AUC\n",
    "def classify_threshold(joint, upper, lower):\n",
    "    if joint >= upper:\n",
    "        return 1\n",
    "    elif joint <= lower:\n",
    "        return 0\n",
    "    else:\n",
    "        return np.nan\n",
    "    \n",
    "m['threshold_20'] = m['spliced_fraction'].apply(lambda g: classify_threshold(g, 0.2, 0.2))\n",
    "\n",
    "# calculate AUC values for all predictors vs measured splicing fraction\n",
    "df2 = m.dropna(subset = ['threshold_20'])\n",
    "AUC_dict = {}\n",
    "\n",
    "df2 = m.dropna(subset = ['threshold_20'])\n",
    "lr_probs = df2['splicing_prob']\n",
    "testy = df2['threshold_20']\n",
    "# calculate scores\n",
    "lr_auc = roc_auc_score(testy, lr_probs)\n",
    "AUC_dict['threshold_20'] = lr_auc\n",
    "# calculate roc curves\n",
    "lr_fpr, lr_tpr, _ = roc_curve(testy, lr_probs)\n",
    "# plot\n",
    "label = f'AUC={lr_auc:.2f}'\n",
    "ax.plot(lr_fpr, lr_tpr, label=label)\n",
    "\n",
    "ns_probs = [0]*len(df2)\n",
    "ns_fpr, ns_tpr, _ = roc_curve(testy, ns_probs)\n",
    "ax.plot(ns_fpr, ns_tpr, linestyle='--', color = 'black')\n",
    "\n",
    "# show the legend\n",
    "pyplot.legend(loc = 'lower right')\n",
    "    \n",
    "# axis labels\n",
    "pyplot.xlabel('False Positive Rate')\n",
    "pyplot.ylabel('True Positive Rate')\n",
    "# show the legend\n",
    "pyplot.legend(loc = 'lower right')\n",
    "\n",
    "#f.savefig('Figures_ver3/heatmap_AUC_values.pdf', transparent = True)"
   ]
  },
  {
   "cell_type": "markdown",
   "id": "96e62210",
   "metadata": {},
   "source": [
    "## Evaluate published MPRAs"
   ]
  },
  {
   "cell_type": "markdown",
   "id": "9dd358c4",
   "metadata": {},
   "source": [
    "### Import Griesemer MPRA results"
   ]
  },
  {
   "cell_type": "code",
   "execution_count": 3,
   "id": "3897c70a",
   "metadata": {},
   "outputs": [],
   "source": [
    "# Import splicing prediction results\n",
    "griesemer_splice = pd.read_csv('data/griesemer_spliceai_prediction.csv', sep = '\\t')\n",
    "\n",
    "# Import measurements from original publication\n",
    "griesemer_result = pd.read_excel('data/griesemer_expression_measurements.xlsx', sheet_name = 'Variant MPRAu Results')\n",
    "\n",
    "# parse spliceai\n",
    "def changename(seqid):\n",
    "    if 'ref' in seqid:\n",
    "        seqid = seqid.replace('_ref', '') + '_ref'\n",
    "        mpra_variant_id = seqid.replace('_ref', '')\n",
    "        allele = 'ref'\n",
    "    elif 'alt' in seqid:\n",
    "        seqid = seqid.replace('_alt', '') + '_alt'\n",
    "        mpra_variant_id = seqid.replace('_alt', '')\n",
    "        allele = 'alt'\n",
    "    else:\n",
    "        mpra_variant_id = seqid\n",
    "        allele = np.nan\n",
    "        \n",
    "    return seqid, mpra_variant_id, allele\n",
    "        \n",
    "griesemer_splice['name'], griesemer_splice['mpra_variant_id'], griesemer_splice['allele'] = zip(\n",
    "    *griesemer_splice[\n",
    "    'seq_id'\n",
    "].apply(\n",
    "    lambda g: changename(g)\n",
    ")\n",
    "                                                          )\n",
    "\n",
    "# parse result\n",
    "gresult = pd.melt(griesemer_result, id_vars = 'mpra_variant_id', var_name = 'allele', value_name = 'log2FoldChange', \n",
    "        value_vars = ['log2FoldChange_Ref_HEK293FT', 'log2FoldChange_Alt_HEK293FT'])\n",
    "\n",
    "def combine_name(seqid, allele):\n",
    "    if 'Ref' in allele:\n",
    "        return seqid + '_ref'\n",
    "    elif 'Alt' in allele:\n",
    "        return seqid + '_alt'\n",
    "    \n",
    "gresult['name'] = gresult.apply(lambda g: combine_name(g['mpra_variant_id'], g['allele']), axis = 1)\n",
    "\n",
    "# combine spliceai and result\n",
    "griesemer = griesemer_splice.merge(gresult, on = 'name', how = 'outer')\n",
    "griesemer = griesemer.dropna(subset = ['seq_id'])"
   ]
  },
  {
   "cell_type": "markdown",
   "id": "29e04fef",
   "metadata": {},
   "source": [
    "### Siegel MPRA"
   ]
  },
  {
   "cell_type": "code",
   "execution_count": 6,
   "id": "9f5d6a27",
   "metadata": {},
   "outputs": [
    {
     "data": {
      "text/plain": [
       "\"\\nsiegel_beas2b = pd.read_csv('../splicing_stuffs/other_mpras/siegel_result_beas2b.csv')\\ntemp = beas2b.reset_index()\\ntemp['seq_id'] = temp.apply(lambda g: g['region']+'_'+str(g['index']), axis = 1)\\nm = m.merge(temp, on = 'seq_id', suffixes = ('_jurkat', '_beas2b'))\""
      ]
     },
     "execution_count": 6,
     "metadata": {},
     "output_type": "execute_result"
    }
   ],
   "source": [
    "# import splicing prediction\n",
    "siegel = pd.read_csv('data/siegel_spliceai_prediction.csv', sep = '\\t')\n",
    "\n",
    "# import expression measurements from jurkat cell lines\n",
    "siegel_jurkat = pd.read_csv('data/siegel_expression_measurements_jurkat.csv')\n",
    "temp = siegel_jurkat.reset_index()\n",
    "temp['seq_id'] = temp.apply(lambda g: g['region']+'_'+str(g['index']), axis = 1)\n",
    "\n",
    "# merge splicing and expression \n",
    "siegel = siegel.merge(temp, on = 'seq_id')\n",
    "\n",
    "\"\"\"\n",
    "siegel_beas2b = pd.read_csv('../splicing_stuffs/other_mpras/siegel_result_beas2b.csv')\n",
    "temp = beas2b.reset_index()\n",
    "temp['seq_id'] = temp.apply(lambda g: g['region']+'_'+str(g['index']), axis = 1)\n",
    "m = m.merge(temp, on = 'seq_id', suffixes = ('_jurkat', '_beas2b'))\"\"\""
   ]
  },
  {
   "cell_type": "markdown",
   "id": "25fa1f5a",
   "metadata": {},
   "source": [
    "### Zhao MPRA"
   ]
  },
  {
   "cell_type": "code",
   "execution_count": 7,
   "id": "335ece49",
   "metadata": {},
   "outputs": [],
   "source": [
    "# import splicing prediction\n",
    "zhao = pd.read_csv('data/zhao_spliceai_prediction.csv', sep = '\\t')\n",
    "\n",
    "# import expression measurements\n",
    "zhao_beas2b = pd.read_excel('data/zhao_expression_measurements.xls', skiprows = 5)\n",
    "\n",
    "# merge\n",
    "zhao = zhao.merge(zhao_beas2b, left_on = 'seq_id', right_on = 'segment_id')\n",
    "\n",
    "zhao = zhao.replace('nd', np.nan)"
   ]
  },
  {
   "cell_type": "markdown",
   "id": "a54b5885",
   "metadata": {},
   "source": [
    "## Figure 5C: percent of reporters predicted to be spliced"
   ]
  },
  {
   "cell_type": "code",
   "execution_count": 9,
   "id": "27d8516a",
   "metadata": {},
   "outputs": [],
   "source": [
    "# add probability bins \n",
    "def prediction(prob):\n",
    "    if prob <= 0.30:\n",
    "        return '0-0.30'\n",
    "    elif prob <= 0.60:\n",
    "        return '0.30-0.60'\n",
    "    elif prob <= 0.90:\n",
    "        return '0.60-0.90'\n",
    "    else:\n",
    "        return '0.90-1.00'\n",
    "    \n",
    "# For Griesemer MPRA\n",
    "griesemer['prediction'] = griesemer['probability'].apply(lambda g: prediction(g))\n",
    "toplot1 = griesemer[['prediction', 'log2FoldChange']].reset_index(drop=True)\n",
    "toplot1['mpra'] = 'griesemer'\n",
    "\n",
    "# For Siegel MPRA\n",
    "siegel['prediction'] = siegel['probability'].apply(lambda g: prediction(g))\n",
    "siegel_median = siegel['ratios_T0_GC_resid'].median() # Use ratios_T0 as measurement, adjusted for GC content\n",
    "siegel['log2FoldChange'] = siegel['ratios_T0_GC_resid'].apply(lambda g: np.log2(g/siegel_median))\n",
    "toplot2 = siegel[['prediction', 'log2FoldChange']].reset_index(drop=True)\n",
    "toplot2 = toplot2[~toplot2['log2FoldChange'].isin([-np.inf])]\n",
    "toplot2['mpra'] = 'siegel'\n",
    "\n",
    "# For Zhao MPRA\n",
    "zhao['prediction'] = zhao['probability'].apply(lambda g: prediction(g))\n",
    "zhao['log2FoldChange'] = zhao['BEAS-2B log2 steady state mRNA']\n",
    "toplot3 = zhao[['prediction', 'log2FoldChange']].reset_index(drop=True)\n",
    "toplot3['mpra'] = 'zhao'\n",
    "\n",
    "toplot = pd.concat([toplot1, toplot2, toplot3])"
   ]
  },
  {
   "cell_type": "code",
   "execution_count": 10,
   "id": "3e3ae329",
   "metadata": {},
   "outputs": [
    {
     "name": "stdout",
     "output_type": "stream",
     "text": [
      "        mpra prediction  count  fraction\n",
      "3  griesemer  0.30-0.60   6616  0.153024\n",
      "5     siegel  0.30-0.60   2300  0.055756\n",
      "9       zhao  0.30-0.60    181  0.064875\n",
      "         mpra prediction  count  fraction\n",
      "1   griesemer  0.60-0.90   7231  0.167249\n",
      "6      siegel  0.60-0.90    982  0.023805\n",
      "10       zhao  0.60-0.90     84  0.030108\n",
      "         mpra prediction  count  fraction\n",
      "2   griesemer  0.90-1.00   7020  0.162368\n",
      "7      siegel  0.90-1.00    169  0.004097\n",
      "11       zhao  0.90-1.00      5  0.001792\n"
     ]
    },
    {
     "name": "stderr",
     "output_type": "stream",
     "text": [
      "C:\\Users\\minhk\\AppData\\Local\\Temp\\ipykernel_24756\\2660209848.py:2: FutureWarning: Not prepending group keys to the result index of transform-like apply. In the future, the group keys will be included in the index, regardless of whether the applied function returns a like-indexed object.\n",
      "To preserve the previous behavior, use\n",
      "\n",
      "\t>>> .groupby(..., group_keys=False)\n",
      "\n",
      "To adopt the future behavior and silence this warning, use \n",
      "\n",
      "\t>>> .groupby(..., group_keys=True)\n",
      "  toplot4['fraction'] = toplot4.groupby('mpra')['count'].apply(lambda g: g/g.sum())\n"
     ]
    },
    {
     "data": {
      "text/plain": [
       "<matplotlib.legend.Legend at 0x257c7ea1c10>"
      ]
     },
     "execution_count": 10,
     "metadata": {},
     "output_type": "execute_result"
    },
    {
     "data": {
      "image/png": "[encoded data removed]",
      "text/plain": [
       "<Figure size 640x480 with 1 Axes>"
      ]
     },
     "metadata": {},
     "output_type": "display_data"
    }
   ],
   "source": [
    "toplot4 = toplot.groupby('mpra')['prediction'].value_counts().to_frame(name = 'count').reset_index()\n",
    "toplot4['fraction'] = toplot4.groupby('mpra')['count'].apply(lambda g: g/g.sum())\n",
    "toplot4 = toplot4[toplot4['prediction']!='0-0.30']\n",
    "\n",
    "bottom = np.array([0.0, 0.0, 0.0])\n",
    "\n",
    "f, ax = plt.subplots()\n",
    "\n",
    "bottom = np.array([0.0, 0.0, 0.0])\n",
    "for prediction, color in zip(['0.30-0.60', '0.60-0.90', '0.90-1.00'], ['grey', 'mediumpurple', 'red']):\n",
    "    temp = toplot4[toplot4['prediction']==prediction]\n",
    "    print(temp)\n",
    "    ax.bar(temp['mpra'].to_numpy(), temp['fraction'].to_numpy(), bottom = bottom,\n",
    "          width = 0.65, label = prediction, color = color)\n",
    "    \n",
    "    bottom += temp['fraction'].to_numpy()\n",
    "\n",
    "ax.legend()\n",
    "\n",
    "#f.savefig('Figures_ver3/Figure_7/Percent_of_predicted_spliced_reporters.pdf', transparent = True)"
   ]
  },
  {
   "cell_type": "markdown",
   "id": "921dc4c4",
   "metadata": {},
   "source": [
    "## Figure 5E:Splicing prediction and expression measurements"
   ]
  },
  {
   "cell_type": "code",
   "execution_count": 11,
   "id": "98563841",
   "metadata": {},
   "outputs": [
    {
     "data": {
      "text/plain": [
       "<matplotlib.legend.Legend at 0x257ced4c190>"
      ]
     },
     "execution_count": 11,
     "metadata": {},
     "output_type": "execute_result"
    },
    {
     "data": {
      "image/png": "[encoded data removed]",
      "text/plain": [
       "<Figure size 640x480 with 1 Axes>"
      ]
     },
     "metadata": {},
     "output_type": "display_data"
    }
   ],
   "source": [
    "f, ax = plt.subplots()\n",
    "\n",
    "sns.boxplot(\n",
    "    data = toplot, \n",
    "    x = 'mpra', \n",
    "    y = 'log2FoldChange', \n",
    "    hue = 'prediction', \n",
    "    order = ['griesemer', 'siegel', 'zhao'],\n",
    "    palette = ['lightgrey', 'grey', 'mediumpurple', 'red'],\n",
    "    flierprops = {'marker': 'o', 'markersize': 0.75},\n",
    "    ax = ax\n",
    ")\n",
    "\n",
    "ax.set_ylim(-6, 2)\n",
    "\n",
    "adjust_box_widths(f, 0.90)\n",
    "\n",
    "ax.legend(bbox_to_anchor = (1, 1))\n",
    "#f.savefig('Figures_ver3/Figure_7/Figure_7_prediction_expression.pdf', transparent = True)"
   ]
  },
  {
   "cell_type": "code",
   "execution_count": 12,
   "id": "c8557870",
   "metadata": {},
   "outputs": [
    {
     "name": "stdout",
     "output_type": "stream",
     "text": [
      "Griesemer MPRA\n",
      "p value of 0-0.3 and 0.3-0.6 group is 8.081736990983717e-13\n",
      "p value of 0-0.3 and 0.6-0.9 group is 0.6239492410105776\n",
      "p value of 0-0.3 and 0.9-1.0 group is 0.0\n",
      "Siegel MPRA\n",
      "p value of 0-0.3 and 0.3-0.6 group is 1.630456158304791e-14\n",
      "p value of 0-0.3 and 0.6-0.9 group is 8.754565971345094e-96\n",
      "p value of 0-0.3 and 0.9-1.0 group is 2.805197798103207e-63\n",
      "Zhao MPRA\n",
      "p value of 0-0.3 and 0.3-0.6 group is 0.9663638231188951\n",
      "p value of 0-0.3 and 0.6-0.9 group is 3.330497523982152e-18\n",
      "p value of 0-0.3 and 0.9-1.0 group is 0.00011418201341688818\n"
     ]
    }
   ],
   "source": [
    "for df, mpra in zip([toplot1, toplot2, toplot3], ['Griesemer', 'Siegel', 'Zhao']):\n",
    "    \n",
    "    print(f'{mpra} MPRA')\n",
    "    \n",
    "    # Griesmer MPRA\n",
    "    a = df[df['prediction']=='0-0.30']\n",
    "    b = df[df['prediction']=='0.30-0.60']\n",
    "    t, p = scipy.stats.mannwhitneyu(a['log2FoldChange'].to_list(), b['log2FoldChange'].to_list(), nan_policy = 'omit')\n",
    "    print(f'p value of 0-0.3 and 0.3-0.6 group is {p}')\n",
    "\n",
    "    a = df[df['prediction']=='0-0.30']\n",
    "    b = df[df['prediction']=='0.60-0.90']\n",
    "    t, p = scipy.stats.mannwhitneyu(a['log2FoldChange'].to_list(), b['log2FoldChange'].to_list(), nan_policy = 'omit')\n",
    "    print(f'p value of 0-0.3 and 0.6-0.9 group is {p}')\n",
    "\n",
    "    a = df[df['prediction']=='0-0.30']\n",
    "    b = df[df['prediction']=='0.90-1.00']\n",
    "    t, p = scipy.stats.mannwhitneyu(a['log2FoldChange'].to_list(), b['log2FoldChange'].to_list(), nan_policy = 'omit')\n",
    "    print(f'p value of 0-0.3 and 0.9-1.0 group is {p}')"
   ]
  },
  {
   "cell_type": "markdown",
   "id": "578a1671",
   "metadata": {},
   "source": [
    "## Figure 5F: impact of splicing on Griesemer MPRA tamvar identification"
   ]
  },
  {
   "cell_type": "code",
   "execution_count": 13,
   "id": "52190223",
   "metadata": {},
   "outputs": [],
   "source": [
    "# Convert dataframe to wide form\n",
    "griesemer_splice = pd.pivot_table(\n",
    "    griesemer_splice, \n",
    "    index = 'mpra_variant_id', \n",
    "    columns = 'allele', \n",
    "    values = 'probability'\n",
    ")\n",
    "\n",
    "# difference in splicing probability between alt and ref allele\n",
    "griesemer_splice['delta'] = griesemer_splice['alt'] - griesemer_splice['ref']\n",
    "\n",
    "# merge measurement from original publication with splicing prediction\n",
    "merged = griesemer_result.merge(griesemer_splice, on = 'mpra_variant_id')\n",
    "\n",
    "# Identify tamvars (statistically significant in at least 1 cell line)\n",
    "tamvars = merged[(merged['padj_Skew_HEK293FT']<0.1)|\n",
    "                (merged['padj_Skew_HEPG2']<0.1)|\n",
    "                (merged['padj_Skew_HMEC']<0.1)|\n",
    "                (merged['padj_Skew_K562']<0.1)|\n",
    "                (merged['padj_Skew_GM12878']<0.1)|\n",
    "                (merged['padj_Skew_SKNSH']<0.1)]\n",
    "\n",
    "merged['tamvar'] = merged[\n",
    "    'mpra_variant_id'\n",
    "].apply(\n",
    "    lambda g: 'tamvar' if g in tamvars['mpra_variant_id'].to_list() else 'nontamvar'\n",
    ")\n",
    "\n",
    "# divide reporters into 3 groups depending on difference in splicing probability\n",
    "def bin_delta(delta):\n",
    "    if delta < -0.35:\n",
    "        return 'alt<ref'\n",
    "    elif delta > 0.35:\n",
    "        return 'alt>ref'\n",
    "    else:\n",
    "        return 'alt=ref'\n",
    "\n",
    "    \n",
    "merged['delta_bin'] = merged['delta'].apply(lambda g: bin_delta(g))"
   ]
  },
  {
   "cell_type": "code",
   "execution_count": 15,
   "id": "2dac0436",
   "metadata": {},
   "outputs": [
    {
     "name": "stdout",
     "output_type": "stream",
     "text": [
      "\"alt>ref\" and \"alt=ref\" groups p-value = 0.00403146337277174\n",
      "\"alt<ref\" and \"alt=ref\" groups p-value = 0.00048379355415843344\n"
     ]
    },
    {
     "data": {
      "image/png": "[encoded data removed]",
      "text/plain": [
       "<Figure size 640x480 with 1 Axes>"
      ]
     },
     "metadata": {},
     "output_type": "display_data"
    }
   ],
   "source": [
    "toplot = merged[merged['tamvar']=='tamvar']\n",
    "\n",
    "f, ax = plt.subplots()\n",
    "\n",
    "sns.boxplot(\n",
    "    data = toplot, \n",
    "    x = 'delta_bin', \n",
    "    y = 'log2FoldChange_Skew_HEK293FT', \n",
    "    order = ['alt>ref', 'alt=ref', 'alt<ref'],\n",
    "    color = 'lightgrey',\n",
    "    width = 0.50,\n",
    "    fliersize = 0, \n",
    "    ax = ax)\n",
    "\n",
    "sns.stripplot(\n",
    "    data = toplot, \n",
    "    x = 'delta_bin', \n",
    "    y = 'log2FoldChange_Skew_HEK293FT', \n",
    "    order = ['alt>ref', 'alt=ref', 'alt<ref'],\n",
    "    color = 'darkgrey',\n",
    "    ax = ax)\n",
    "\n",
    "ax.set_ylim(-0.75, 1.25)\n",
    "\n",
    "# t test between \"alt>ref\" and \"alt=ref\" group\n",
    "a = toplot[toplot['delta_bin']=='alt>ref']\n",
    "b = toplot[toplot['delta_bin']=='alt=ref']\n",
    "\n",
    "t, p = scipy.stats.mannwhitneyu(a['log2FoldChange_Skew_HEK293FT'].to_list(), b['log2FoldChange_Skew_HEK293FT'].to_list(), nan_policy = 'omit')\n",
    "print(f'\"alt>ref\" and \"alt=ref\" groups p-value = {p}')\n",
    "\n",
    "# t test between \"alt<ref\" and \"alt=ref\" group\n",
    "a = toplot[toplot['delta_bin']=='alt<ref']\n",
    "b = toplot[toplot['delta_bin']=='alt=ref']\n",
    "\n",
    "t, p = scipy.stats.mannwhitneyu(a['log2FoldChange_Skew_HEK293FT'].to_list(), b['log2FoldChange_Skew_HEK293FT'].to_list(), nan_policy = 'omit')\n",
    "print(f'\"alt<ref\" and \"alt=ref\" groups p-value = {p}')\n",
    "\n",
    "#f.savefig('Figures_ver3/Figure_7/Figure_7_Griesemer_comparison_v2.pdf', transparent = True)"
   ]
  },
  {
   "cell_type": "markdown",
   "id": "061645ac",
   "metadata": {},
   "source": [
    "## Figure S6B: spliceAI performance evaluation"
   ]
  },
  {
   "cell_type": "code",
   "execution_count": 33,
   "id": "c9f663b3",
   "metadata": {},
   "outputs": [],
   "source": [
    "data = []\n",
    "\n",
    "for fn in os.listdir('ptreseq_spliceai_output/'):\n",
    "    df = pd.read_csv(f'ptreseq_spliceai_output/{fn}', sep = '\\t')\n",
    "    \n",
    "    df['position'] = df['index'] - 583\n",
    "    \n",
    "    plasmid = fn.split('.')[0]\n",
    "    RE = fn.split('_')[0]\n",
    "    \n",
    "    isoform = HELA[HELA['RE']==RE]['isoform'].values[0]\n",
    "    \n",
    "    if isoform == 'full_length':\n",
    "        continue\n",
    "    else:\n",
    "        donor_pos = isoform.split('_')[1]\n",
    "        acceptor_pos = isoform.split('_')[1]\n",
    "        \n",
    "    S_fraction = HELA[HELA['RE']==RE]['spliced_fraction'].values[0]\n",
    "    \n",
    "    donor_pos = int(isoform.split('_')[1]) # position of donor\n",
    "    donor_prob = df.loc[df['position']==donor_pos, 'donor'].values[0] # spliceAI probability of donor\n",
    "    donor_rank = len(df[df['donor']>=donor_prob]) # positions with prob equal or higher than observed donor\n",
    "    \n",
    "    acceptor_pos = int(isoform.split('_')[3]) + 1 # position of acceptor\n",
    "    acceptor_prob = df.loc[df['position']==acceptor_pos, 'acceptor'].values[0] # spliceAI probability of acceptor\n",
    "    acceptor_rank = len(df[df['acceptor']>=acceptor_prob]) # positions with prob equal or higher than observed acceptor\n",
    "    \n",
    "    data.append(\n",
    "        [plasmid, \n",
    "         RE, \n",
    "         S_fraction, \n",
    "         donor_pos, \n",
    "         donor_prob, \n",
    "         donor_rank, \n",
    "         acceptor_pos, \n",
    "         acceptor_prob, \n",
    "         acceptor_rank]\n",
    "    )\n",
    "    \n",
    "prediction = pd.DataFrame(\n",
    "    data, \n",
    "    columns = [\n",
    "        'plasmid', \n",
    "        'RE', \n",
    "        'S_fraction',\n",
    "        'donor_pos', \n",
    "        'donor_prob', \n",
    "        'donor_rank', \n",
    "        'acceptor_pos', \n",
    "        'acceptor_prob', \n",
    "        'acceptor_rank'\n",
    "    ]\n",
    ")"
   ]
  },
  {
   "cell_type": "code",
   "execution_count": 34,
   "id": "d31110f9",
   "metadata": {},
   "outputs": [],
   "source": [
    "# if a reporter is 20% spliced or more\n",
    "# check if spliceAI assign the observed donor and acceptor with the highest probability or not\n",
    "# if yes -> correct prediction\n",
    "# if no -> incorrect prediction\n",
    "\n",
    "def evaluate_prediction(S_fraction, donor_rank, acceptor_rank):\n",
    "    if S_fraction >= 0.20:\n",
    "        if donor_rank <= 1:\n",
    "            donor_acc = 'donor_rank_1_2'\n",
    "        else:\n",
    "            donor_acc = 'donor_rank_3+'\n",
    "            \n",
    "        if acceptor_rank <= 1:\n",
    "            acceptor_acc = 'acceptor_rank_1_2'\n",
    "        else:\n",
    "            acceptor_acc = 'acceptor_rank_3+'\n",
    "    else:\n",
    "        donor_acc = 'not_spliced'\n",
    "        acceptor_acc = 'not_spliced'\n",
    "        \n",
    "    return donor_acc, acceptor_acc\n",
    "\n",
    "prediction['donor_acc'], prediction['acceptor_acc'] = zip(*prediction.apply(\n",
    "                                                    lambda g: evaluate_prediction(\n",
    "                                                        g['S_fraction'], \n",
    "                                                        g['donor_rank'], \n",
    "                                                        g['acceptor_rank']), \n",
    "                                                    axis = 1\n",
    "                                                        )\n",
    "                                                         )"
   ]
  },
  {
   "cell_type": "code",
   "execution_count": 35,
   "id": "1ee31dbb",
   "metadata": {},
   "outputs": [
    {
     "name": "stdout",
     "output_type": "stream",
     "text": [
      "       site  correct  incorrect  correct_per  incorrect_per\n",
      "0  acceptor     1088        102    91.428571       8.571429\n",
      "1     donor     1131         59    95.042017       4.957983\n"
     ]
    },
    {
     "data": {
      "text/plain": [
       "<matplotlib.legend.Legend at 0x7f8f1c5295e0>"
      ]
     },
     "execution_count": 35,
     "metadata": {},
     "output_type": "execute_result"
    },
    {
     "data": {
      "image/png": "[encoded data removed]",
      "text/plain": [
       "<Figure size 360x216 with 1 Axes>"
      ]
     },
     "metadata": {},
     "output_type": "display_data"
    }
   ],
   "source": [
    "donor_correct_pred = len(prediction[prediction['donor_acc']=='donor_rank_1_2'])\n",
    "donor_incorrect_pred = len(prediction[prediction['donor_acc']=='donor_rank_3+'])\n",
    "acc_correct_pred = len(prediction[prediction['acceptor_acc']=='acceptor_rank_1_2'])\n",
    "acc_incorrect_pred = len(prediction[prediction['acceptor_acc']=='acceptor_rank_3+'])\n",
    "\n",
    "data = [\n",
    "    ['acceptor', acc_correct_pred, acc_incorrect_pred],\n",
    "    ['donor', donor_correct_pred, donor_incorrect_pred]\n",
    "]\n",
    "\n",
    "evaluation = pd.DataFrame(\n",
    "    data, \n",
    "    columns = ['site', 'correct', 'incorrect']\n",
    ")\n",
    "\n",
    "evaluation['correct_per'] = evaluation['correct']*100/(evaluation['correct'] + evaluation['incorrect'])\n",
    "evaluation['incorrect_per'] = evaluation['incorrect']*100/(evaluation['correct'] + evaluation['incorrect'])\n",
    "\n",
    "print(evaluation)\n",
    "\n",
    "sns.set_style(\"whitegrid\")\n",
    "\n",
    "f, ax = plt.subplots(figsize = (5, 3))\n",
    "\n",
    "evaluation[['correct_per', 'incorrect_per']].plot.barh(\n",
    "    stacked = True, \n",
    "    color = ['blue', 'orange'],\n",
    "    ax = ax\n",
    ")\n",
    "\n",
    "ax.set_yticks([0, 1])\n",
    "ax.set_yticklabels(['Acceptor', 'Donor'])\n",
    "\n",
    "ax.legend(bbox_to_anchor = (1, 1))\n",
    "\n",
    "#f.savefig('Figures_current/spliceai_site_evaluation.pdf', transparent = True)"
   ]
  },
  {
   "cell_type": "markdown",
   "id": "35549381",
   "metadata": {},
   "source": [
    "## Figure S6C: predicted location of donors and acceptors prediction"
   ]
  },
  {
   "cell_type": "code",
   "execution_count": 36,
   "id": "d4678aa5",
   "metadata": {},
   "outputs": [],
   "source": [
    "toplot1 = griesemer[griesemer['probability']>=0.30].reset_index(drop = True)\n",
    "toplot1['start_norm'] = toplot1['start'] - 720\n",
    "toplot1['end_norm'] = toplot1['end'] - 720\n",
    "toplot1 = toplot1[['start_norm', 'end_norm']]\n",
    "toplot1['mpra'] = 'griesemer'\n",
    "\n",
    "toplot2 = siegel[siegel['probability']>=0.30].reset_index(drop = True)\n",
    "toplot2['start_norm'] = toplot2['start'] - 720\n",
    "toplot2['end_norm'] = toplot2['end'] - 720\n",
    "toplot2 = toplot2[['start_norm', 'end_norm']]\n",
    "toplot2['mpra'] = 'siegal'\n",
    "\n",
    "toplot3 = zhao[zhao['probability']>=0.30].reset_index(drop = True)\n",
    "toplot3['start_norm'] = toplot3['start'] - 720\n",
    "toplot3['end_norm'] = toplot3['end'] - 720\n",
    "toplot3 = toplot3[['start_norm', 'end_norm']]\n",
    "toplot3['mpra'] = 'zhao'\n",
    "\n",
    "toplot = pd.concat([toplot1, toplot2, toplot3]).reset_index(drop=True)\n",
    "#toplot = toplot.astype({'start_norm': int})"
   ]
  },
  {
   "cell_type": "code",
   "execution_count": 37,
   "id": "38f78669",
   "metadata": {
    "scrolled": false
   },
   "outputs": [
    {
     "data": {
      "text/plain": [
       "<matplotlib.legend.Legend at 0x7f8ed9b098b0>"
      ]
     },
     "execution_count": 37,
     "metadata": {},
     "output_type": "execute_result"
    },
    {
     "data": {
      "image/png": "[encoded data removed]",
      "text/plain": [
       "<Figure size 720x288 with 2 Axes>"
      ]
     },
     "metadata": {},
     "output_type": "display_data"
    }
   ],
   "source": [
    "sns.set_style(\"whitegrid\")\n",
    "\n",
    "f, (ax1, ax2) = plt.subplots(nrows = 2, figsize = (10, 4), sharex = True, gridspec_kw={'height_ratios': [1, 2]})\n",
    "\n",
    "sns.histplot(\n",
    "    data = toplot, \n",
    "    x = 'start_norm', \n",
    "    binwidth = 2,\n",
    "    color = 'green',\n",
    "    label = 'donor',\n",
    "    alpha = 0.8,\n",
    "    ax = ax1\n",
    ")\n",
    "\n",
    "sns.histplot(\n",
    "    data = toplot, \n",
    "    x = 'start_norm', \n",
    "    binwidth = 2, \n",
    "    color = 'green',\n",
    "    alpha = 0.8,\n",
    "    ax = ax2\n",
    ")\n",
    "\n",
    "sns.histplot(\n",
    "    data = toplot, \n",
    "    x = 'end_norm', \n",
    "    binwidth = 2,\n",
    "    label = 'acceptor',\n",
    "    color = 'red',\n",
    "    alpha = 0.8,\n",
    "    ax = ax1\n",
    ")\n",
    "\n",
    "sns.histplot(\n",
    "    data = toplot, \n",
    "    x = 'end_norm', \n",
    "    binwidth = 2, \n",
    "    color = 'red',\n",
    "    alpha = 0.8,\n",
    "    ax = ax2\n",
    ")\n",
    "\n",
    "ax1.set_xlim(-20, 220)\n",
    "ax2.set_xlim(-20, 220)\n",
    "\n",
    "ax1.set_ylim(19000, 20000)\n",
    "ax2.set_ylim(0, 6000)\n",
    "\n",
    "ax1.legend()\n",
    "\n",
    "#f.savefig('Figures_current/donor_acceptor_location_spliceAI_prediction.pdf', transparent = True)"
   ]
  },
  {
   "cell_type": "markdown",
   "id": "ebf451dd",
   "metadata": {},
   "source": [
    "## Figure S7: Plot expression of validated variants"
   ]
  },
  {
   "cell_type": "code",
   "execution_count": 38,
   "id": "dd763706",
   "metadata": {},
   "outputs": [
    {
     "data": {
      "image/png": "[encoded data removed]",
      "text/plain": [
       "<Figure size 864x288 with 6 Axes>"
      ]
     },
     "metadata": {},
     "output_type": "display_data"
    }
   ],
   "source": [
    "vars_to_plot = ['rs13004845', 'rs5756095', 'rs140761234', 'rs1056801', 'rs2241871', 'rs10590']\n",
    "\n",
    "f, axs = plt.subplots(ncols = 6, figsize = (12, 4))\n",
    "\n",
    "for var, ax in zip(vars_to_plot, axs):\n",
    "    toplot = griesemer_result[griesemer_result['mpra_variant_id'].str.contains(var)]\n",
    "    data = [toplot['log2FoldChange_Ref_HEK293FT'].values[0], toplot['log2FoldChange_Alt_HEK293FT'].values[0]]\n",
    "    SE = [toplot['lfcSE_Ref_HEK293FT'].values[0], toplot['lfcSE_Alt_HEK293FT'].values[0]]\n",
    "    \n",
    "    ax.bar(['ref', 'alt'], data, width = 0.35, yerr = SE, label = var)\n",
    "    ax.legend()\n",
    "\n",
    "#f.savefig('Figures_ver3/Figure_7_rs10590_allele_comparison.pdf', transparent = True)"
   ]
  },
  {
   "cell_type": "code",
   "execution_count": null,
   "id": "f60a3962",
   "metadata": {},
   "outputs": [],
   "source": []
  }
 ],
 "metadata": {
  "kernelspec": {
   "display_name": "Python 3 (ipykernel)",
   "language": "python",
   "name": "python3"
  },
  "language_info": {
   "codemirror_mode": {
    "name": "ipython",
    "version": 3
   },
   "file_extension": ".py",
   "mimetype": "text/x-python",
   "name": "python",
   "nbconvert_exporter": "python",
   "pygments_lexer": "ipython3",
   "version": "3.9.7"
  }
 },
 "nbformat": 4,
 "nbformat_minor": 5
}
