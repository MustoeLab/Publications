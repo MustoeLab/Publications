{
 "cells": [
  {
   "cell_type": "code",
   "execution_count": 4,
   "id": "6370c1c0",
   "metadata": {},
   "outputs": [],
   "source": [
    "import pandas as pd\n",
    "import sys, os\n",
    "import statistics"
   ]
  },
  {
   "cell_type": "code",
   "execution_count": null,
   "id": "cc99400c",
   "metadata": {},
   "outputs": [],
   "source": [
    "def process_raw_count(data):\n",
    "    df = pd.read_csv(data, sep = '\\t')\n",
    "    \n",
    "    # get sample name\n",
    "    sample = os.path.basename(data).split('_')[0]\n",
    "    df['sample'] = sample\n",
    "    \n",
    "    # remove artifact reads\n",
    "    df = df[~df['class'].isin([\n",
    "                'cannot_find_barcode', \n",
    "                'RT_error', \n",
    "                'chimeric', \n",
    "                'ambiguous', \n",
    "                'wrong length'\n",
    "            ])\n",
    "            ].reset_index(\n",
    "        drop=True\n",
    "    )\n",
    "    \n",
    "    # calculate total read count for each reporter\n",
    "    df['total'] = df.groupby('reporter')['count'].transform('sum')\n",
    "    # remove reporter with read count less than 10\n",
    "    df = df[df['total']>=10]\n",
    "    # calculate fraction\n",
    "    df['fraction'] = df['count']/df['total']\n",
    "    # get regulatory element name\n",
    "    df['RE'] = df['reporter'].apply(lambda g: g.split('_')[0])\n",
    "    # rearrange column order \n",
    "    df = df[['sample', 'RE', 'reporter', 'class', 'count', 'total', 'fraction']]\n",
    "    # rename column\n",
    "    #df = df.rename(columns = {'count': f'count_{sample}', 'total': f'total_{sample}', 'fraction': f'fraction_{sample}'})\n",
    "    \n",
    "    return df\n",
    "\n",
    "def calculate_median(block):\n",
    "    flattened = block.values.flatten()\n",
    "    flattened = flattened[~np.isnan(flattened)]\n",
    "    return np.median(flattened)\n",
    "\n",
    "def calculate_median_replicate(*args, title = None):\n",
    "    df = pd.concat(args)\n",
    "    widedf = pd.pivot_table(\n",
    "        df, \n",
    "        index = ['sample', 'RE', 'reporter'], \n",
    "        columns = 'class', \n",
    "        values = 'fraction', \n",
    "        fill_value = 0\n",
    "    )\n",
    "    \n",
    "    median_widedf = widedf.groupby('RE').median().reset_index()\n",
    "    median_widedf['spliced_fraction'] = 1 - median_widedf['full_length']\n",
    "    \n",
    "    if title:\n",
    "        median_widedf.to_csv(title, index = False, sep = '\\t')\n",
    "        \n",
    "    return median_widedf"
   ]
  },
  {
   "cell_type": "code",
   "execution_count": null,
   "id": "9cf13f86",
   "metadata": {},
   "outputs": [],
   "source": [
    "# read data for HeLa cell\n",
    "hela1 = process_raw_count('ptreseq_raw_count/HELA-1_count.txt')\n",
    "hela2 = process_raw_count('ptreseq_raw_count/HELA-2_count.txt')\n",
    "\n",
    "hela = calculate_median_replicate(hela1, hela2, title = 'ptreseq_splicing_quantification/HELA_2rep_fraction.txt')\n",
    "#hela = calculate_median_replicate(hela1, hela2)"
   ]
  },
  {
   "cell_type": "code",
   "execution_count": null,
   "id": "89693f0f",
   "metadata": {},
   "outputs": [],
   "source": [
    "# read data for DNA plasmids\n",
    "dna1 = process_raw_count('ptreseq_raw_count/DNA-1_count.txt')\n",
    "dna2 = process_raw_count('ptreseq_raw_count/DNA-2_count.txt')\n",
    "\n",
    "dna = calculate_median_replicate(dna1, dna2, title = 'ptreseq_splicing_quantification/DNA_2rep_fraction.txt')"
   ]
  },
  {
   "cell_type": "code",
   "execution_count": null,
   "id": "5f539a31",
   "metadata": {},
   "outputs": [],
   "source": [
    "# read data for HeLa cell prepared with Marathon\n",
    "etoh1 = process_raw_count('ptreseq_raw_count/ETOH-1_count.txt')\n",
    "etoh2 = process_raw_count('ptreseq_raw_count/ETOH-2_count.txt')\n",
    "\n",
    "etoh = calculate_median_replicate(etoh1, etoh2, title = 'ptreseq_splicing_quantification/ETOH_2rep_fraction.txt')"
   ]
  },
  {
   "cell_type": "code",
   "execution_count": null,
   "id": "52032541",
   "metadata": {},
   "outputs": [],
   "source": [
    "# read data for HEK cell\n",
    "hek1 = process_raw_count('ptreseq_raw_count/HEK-1_count.txt')\n",
    "hek2 = process_raw_count('ptreseq_raw_count/HEK-2_count.txt')\n",
    "hek3 = process_raw_count('ptreseq_raw_count/HEK-3_count.txt')\n",
    "\n",
    "hek = calculate_median_replicate(hek1, hek2, hek3, title = 'ptreseq_splicing_quantification/HEK_3rep_fraction.txt')"
   ]
  },
  {
   "cell_type": "code",
   "execution_count": null,
   "id": "125e71e1",
   "metadata": {},
   "outputs": [],
   "source": [
    "# read data for U87 cell\n",
    "u871 = process_raw_count('ptreseq_raw_count/U87-1_count.txt')\n",
    "u872 = process_raw_count('ptreseq_raw_count/U87-2_count.txt')\n",
    "u873 = process_raw_count('ptreseq_raw_count/U87-3_count.txt')\n",
    "\n",
    "u87 = calculate_median_replicate(u871, u872, u873, title = 'ptreseq_splicing_quantification/U87_3rep_fraction.txt')"
   ]
  },
  {
   "cell_type": "code",
   "execution_count": null,
   "id": "d3a348fd",
   "metadata": {},
   "outputs": [],
   "source": [
    "# read data for SH-SY5Y cell\n",
    "sh1 = process_raw_count('ptreseq_raw_count/SH-1_count.txt')\n",
    "sh2 = process_raw_count('ptreseq_raw_count/SH-2_count.txt')\n",
    "sh3 = process_raw_count('ptreseq_raw_count/SH-3_count.txt')\n",
    "\n",
    "u87 = calculate_median_replicate(sh1, sh2, sh3, title = 'ptreseq_splicing_quantification/SH_3rep_fraction.txt')"
   ]
  }
 ],
 "metadata": {
  "kernelspec": {
   "display_name": "Python 3 (ipykernel)",
   "language": "python",
   "name": "python3"
  },
  "language_info": {
   "codemirror_mode": {
    "name": "ipython",
    "version": 3
   },
   "file_extension": ".py",
   "mimetype": "text/x-python",
   "name": "python",
   "nbconvert_exporter": "python",
   "pygments_lexer": "ipython3",
   "version": "3.9.7"
  }
 },
 "nbformat": 4,
 "nbformat_minor": 5
}
